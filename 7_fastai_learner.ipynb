{
 "cells": [
  {
   "cell_type": "markdown",
   "id": "81deb949",
   "metadata": {},
   "source": [
    "# Implementing a basic optimizer and learner"
   ]
  },
  {
   "cell_type": "code",
   "execution_count": 1,
   "id": "eb7031c7",
   "metadata": {
    "_cell_guid": "b1076dfc-b9ad-4769-8c92-a6c4dae69d19",
    "_uuid": "8f2839f25d086af736a60e9eeb907d3b93b6e0e5",
    "execution": {
     "iopub.execute_input": "2024-04-07T09:29:46.135238Z",
     "iopub.status.busy": "2024-04-07T09:29:46.134640Z",
     "iopub.status.idle": "2024-04-07T09:30:11.790596Z",
     "shell.execute_reply": "2024-04-07T09:30:11.789299Z"
    },
    "papermill": {
     "duration": 25.664123,
     "end_time": "2024-04-07T09:30:11.793244",
     "exception": false,
     "start_time": "2024-04-07T09:29:46.129121",
     "status": "completed"
    },
    "tags": []
   },
   "outputs": [],
   "source": [
    "!pip install -Uqq fastai\n",
    "\n",
    "from fastai.vision.all import *"
   ]
  },
  {
   "cell_type": "code",
   "execution_count": 2,
   "id": "7b615a4d",
   "metadata": {
    "execution": {
     "iopub.execute_input": "2024-04-07T09:30:11.801282Z",
     "iopub.status.busy": "2024-04-07T09:30:11.800504Z",
     "iopub.status.idle": "2024-04-07T09:30:11.806773Z",
     "shell.execute_reply": "2024-04-07T09:30:11.805842Z"
    },
    "papermill": {
     "duration": 0.012594,
     "end_time": "2024-04-07T09:30:11.808940",
     "exception": false,
     "start_time": "2024-04-07T09:30:11.796346",
     "status": "completed"
    },
    "tags": []
   },
   "outputs": [],
   "source": [
    "class MyOptimizer:\n",
    "    def __init__(self, params, lr): \n",
    "        self.params, self.lr = list(params), lr\n",
    "\n",
    "    def step(self, *args, **kwargs):\n",
    "        for p in self.params: \n",
    "            p.data -= p.grad.data * self.lr\n",
    "\n",
    "    def zero_grad(self, *args, **kwargs):\n",
    "        for p in self.params: \n",
    "            p.grad = None"
   ]
  },
  {
   "cell_type": "code",
   "execution_count": 3,
   "id": "e8e605a1",
   "metadata": {
    "execution": {
     "iopub.execute_input": "2024-04-07T09:30:11.816320Z",
     "iopub.status.busy": "2024-04-07T09:30:11.815523Z",
     "iopub.status.idle": "2024-04-07T09:30:11.824503Z",
     "shell.execute_reply": "2024-04-07T09:30:11.823573Z"
    },
    "papermill": {
     "duration": 0.015266,
     "end_time": "2024-04-07T09:30:11.827093",
     "exception": false,
     "start_time": "2024-04-07T09:30:11.811827",
     "status": "completed"
    },
    "tags": []
   },
   "outputs": [],
   "source": [
    "class MyLearner:\n",
    "    def __init__(self, model, dset_train, dset_valid, batch_size, loss, metric, lr=0.1):\n",
    "        self.model = model\n",
    "        self.optimizer = MyOptimizer(model.parameters(), lr)\n",
    "        self.loss = loss\n",
    "        self.metric = metric\n",
    "        \n",
    "        self.dl_train = DataLoader(dset_train, batch_size=batch_size)\n",
    "        self.dl_valid = DataLoader(dset_valid, batch_size=batch_size)\n",
    "\n",
    "    def calc_grad(self, xb, yb):\n",
    "        preds = self.model(xb)\n",
    "        loss = self.loss(preds, yb)\n",
    "        loss.backward()\n",
    "        \n",
    "    def train_epoch(self):\n",
    "        for xb, yb in self.dl_train:\n",
    "            self.calc_grad(xb, yb)\n",
    "            self.optimizer.step()\n",
    "            self.optimizer.zero_grad()\n",
    "\n",
    "    def validate_epoch(self):\n",
    "        metrics = [self.metric(self.model(xb), yb) for xb, yb in self.dl_valid]\n",
    "#         return(metrics)\n",
    "        return round(torch.stack(metrics).mean().item(), 5)\n",
    "\n",
    "    def train(self, epochs):\n",
    "        for i in range(epochs):\n",
    "            self.train_epoch()\n",
    "            print(self.validate_epoch(), end='  ')"
   ]
  },
  {
   "cell_type": "markdown",
   "id": "c21728a1",
   "metadata": {
    "papermill": {
     "duration": 0.002683,
     "end_time": "2024-04-07T09:30:11.832689",
     "exception": false,
     "start_time": "2024-04-07T09:30:11.830006",
     "status": "completed"
    },
    "tags": []
   },
   "source": [
    "Dummy model"
   ]
  },
  {
   "cell_type": "code",
   "execution_count": 4,
   "id": "14536ed5",
   "metadata": {
    "execution": {
     "iopub.execute_input": "2024-04-07T09:30:11.839701Z",
     "iopub.status.busy": "2024-04-07T09:30:11.839335Z",
     "iopub.status.idle": "2024-04-07T09:30:11.873569Z",
     "shell.execute_reply": "2024-04-07T09:30:11.872352Z"
    },
    "papermill": {
     "duration": 0.040701,
     "end_time": "2024-04-07T09:30:11.876041",
     "exception": false,
     "start_time": "2024-04-07T09:30:11.835340",
     "status": "completed"
    },
    "tags": []
   },
   "outputs": [],
   "source": [
    "linear_model = nn.Linear(10, 1)\n",
    "\n",
    "def loss(predictions, targets):\n",
    "    return ((predictions - targets)**2).mean().sqrt()\n",
    "\n",
    "def dev(predictions, targets):\n",
    "    return ((predictions - targets)/targets).abs().mean()"
   ]
  },
  {
   "cell_type": "markdown",
   "id": "a50dcca0",
   "metadata": {
    "papermill": {
     "duration": 0.002624,
     "end_time": "2024-04-07T09:30:11.881666",
     "exception": false,
     "start_time": "2024-04-07T09:30:11.879042",
     "status": "completed"
    },
    "tags": []
   },
   "source": [
    "Dummy data"
   ]
  },
  {
   "cell_type": "code",
   "execution_count": 5,
   "id": "22c710e2",
   "metadata": {
    "execution": {
     "iopub.execute_input": "2024-04-07T09:30:11.889353Z",
     "iopub.status.busy": "2024-04-07T09:30:11.888249Z",
     "iopub.status.idle": "2024-04-07T09:30:11.945948Z",
     "shell.execute_reply": "2024-04-07T09:30:11.944938Z"
    },
    "papermill": {
     "duration": 0.06399,
     "end_time": "2024-04-07T09:30:11.948308",
     "exception": false,
     "start_time": "2024-04-07T09:30:11.884318",
     "status": "completed"
    },
    "tags": []
   },
   "outputs": [],
   "source": [
    "# random numbers from -5 to 5, 50 sets of 10\n",
    "data = torch.rand(50, 10) * 10 - 5\n",
    "\n",
    "# labels with linear function + noise\n",
    "real_weights = torch.unsqueeze(torch.tensor([1., -1., 0., 2., -2., 0., -1., 1., 0., 3.]), dim=1)\n",
    "labels = torch.randn(50, 10) / 3 + data @ real_weights - 3\n",
    "\n",
    "# train/test split\n",
    "dset_train = list(zip(data[:40], labels[:40]))\n",
    "dset_valid = list(zip(data[40:], labels[40:]))"
   ]
  },
  {
   "cell_type": "markdown",
   "id": "f613af58",
   "metadata": {
    "papermill": {
     "duration": 0.002794,
     "end_time": "2024-04-07T09:30:11.954090",
     "exception": false,
     "start_time": "2024-04-07T09:30:11.951296",
     "status": "completed"
    },
    "tags": []
   },
   "source": [
    "Train dummy model"
   ]
  },
  {
   "cell_type": "code",
   "execution_count": 6,
   "id": "84f8d77e",
   "metadata": {
    "execution": {
     "iopub.execute_input": "2024-04-07T09:30:11.961198Z",
     "iopub.status.busy": "2024-04-07T09:30:11.960828Z",
     "iopub.status.idle": "2024-04-07T09:30:12.169067Z",
     "shell.execute_reply": "2024-04-07T09:30:12.167407Z"
    },
    "papermill": {
     "duration": 0.214752,
     "end_time": "2024-04-07T09:30:12.171578",
     "exception": false,
     "start_time": "2024-04-07T09:30:11.956826",
     "status": "completed"
    },
    "tags": []
   },
   "outputs": [
    {
     "name": "stdout",
     "output_type": "stream",
     "text": [
      "0.98198  0.68749  0.46389  0.36567  0.32907  0.27423  0.22832  0.17661  0.12628  0.09147  0.0771  0.07276  0.07074  0.06807  0.07308  0.0782  0.07735  0.07751  0.07789  0.0779  0.07793  0.07796  0.07797  0.07797  0.07798  0.07798  0.07798  0.07798  0.07798  0.07798  "
     ]
    },
    {
     "data": {
      "text/plain": [
       "[Parameter containing:\n",
       " tensor([[ 1.0333, -0.8684,  0.0332,  2.0888, -2.0157, -0.0562, -1.0531,  0.9266,\n",
       "          -0.0200,  3.0455]], requires_grad=True),\n",
       " Parameter containing:\n",
       " tensor([-2.9286], requires_grad=True)]"
      ]
     },
     "execution_count": 6,
     "metadata": {},
     "output_type": "execute_result"
    }
   ],
   "source": [
    "learn = MyLearner(linear_model, dset_train, dset_valid, 5, loss, dev, lr=0.05)\n",
    "learn.train(30)\n",
    "learn.optimizer.params"
   ]
  }
 ],
 "metadata": {
  "kaggle": {
   "accelerator": "none",
   "dataSources": [],
   "dockerImageVersionId": 30673,
   "isGpuEnabled": false,
   "isInternetEnabled": true,
   "language": "python",
   "sourceType": "notebook"
  },
  "kernelspec": {
   "display_name": "Python 3",
   "language": "python",
   "name": "python3"
  },
  "language_info": {
   "codemirror_mode": {
    "name": "ipython",
    "version": 3
   },
   "file_extension": ".py",
   "mimetype": "text/x-python",
   "name": "python",
   "nbconvert_exporter": "python",
   "pygments_lexer": "ipython3",
   "version": "3.10.13"
  },
  "papermill": {
   "default_parameters": {},
   "duration": 30.664901,
   "end_time": "2024-04-07T09:30:14.111258",
   "environment_variables": {},
   "exception": null,
   "input_path": "__notebook__.ipynb",
   "output_path": "__notebook__.ipynb",
   "parameters": {},
   "start_time": "2024-04-07T09:29:43.446357",
   "version": "2.5.0"
  }
 },
 "nbformat": 4,
 "nbformat_minor": 5
}
