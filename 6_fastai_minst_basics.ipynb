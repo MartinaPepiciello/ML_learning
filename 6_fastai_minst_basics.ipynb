{
 "cells": [
  {
   "cell_type": "code",
   "execution_count": 1,
   "id": "43c810da",
   "metadata": {
    "_cell_guid": "b1076dfc-b9ad-4769-8c92-a6c4dae69d19",
    "_uuid": "8f2839f25d086af736a60e9eeb907d3b93b6e0e5",
    "execution": {
     "iopub.execute_input": "2024-04-06T17:07:05.960229Z",
     "iopub.status.busy": "2024-04-06T17:07:05.959843Z",
     "iopub.status.idle": "2024-04-06T17:07:23.814288Z",
     "shell.execute_reply": "2024-04-06T17:07:23.812728Z"
    },
    "papermill": {
     "duration": 17.879891,
     "end_time": "2024-04-06T17:07:23.817195",
     "exception": false,
     "start_time": "2024-04-06T17:07:05.937304",
     "status": "completed"
    },
    "tags": []
   },
   "outputs": [],
   "source": [
    "!pip install -Uqq fastai"
   ]
  },
  {
   "cell_type": "code",
   "execution_count": 2,
   "id": "6b3f16db",
   "metadata": {
    "execution": {
     "iopub.execute_input": "2024-04-06T17:07:23.859559Z",
     "iopub.status.busy": "2024-04-06T17:07:23.859039Z",
     "iopub.status.idle": "2024-04-06T17:07:37.495845Z",
     "shell.execute_reply": "2024-04-06T17:07:37.494687Z"
    },
    "papermill": {
     "duration": 13.661502,
     "end_time": "2024-04-06T17:07:37.498966",
     "exception": false,
     "start_time": "2024-04-06T17:07:23.837464",
     "status": "completed"
    },
    "tags": []
   },
   "outputs": [],
   "source": [
    "from fastai.vision.all import *\n",
    "import pandas as pd\n",
    "\n",
    "matplotlib.rc('image', cmap='Greys')"
   ]
  },
  {
   "cell_type": "markdown",
   "id": "141c6abf",
   "metadata": {
    "papermill": {
     "duration": 0.020844,
     "end_time": "2024-04-06T17:07:37.540711",
     "exception": false,
     "start_time": "2024-04-06T17:07:37.519867",
     "status": "completed"
    },
    "tags": []
   },
   "source": [
    "# Sample of MNIST dataset - 3 and 7 only\n",
    "Download dataset"
   ]
  },
  {
   "cell_type": "code",
   "execution_count": 3,
   "id": "4861e941",
   "metadata": {
    "execution": {
     "iopub.execute_input": "2024-04-06T17:07:37.583012Z",
     "iopub.status.busy": "2024-04-06T17:07:37.582264Z",
     "iopub.status.idle": "2024-04-06T17:07:42.463604Z",
     "shell.execute_reply": "2024-04-06T17:07:42.462183Z"
    },
    "papermill": {
     "duration": 4.905947,
     "end_time": "2024-04-06T17:07:42.466600",
     "exception": false,
     "start_time": "2024-04-06T17:07:37.560653",
     "status": "completed"
    },
    "tags": []
   },
   "outputs": [
    {
     "data": {
      "text/html": [
       "\n",
       "<style>\n",
       "    /* Turns off some styling */\n",
       "    progress {\n",
       "        /* gets rid of default border in Firefox and Opera. */\n",
       "        border: none;\n",
       "        /* Needs to be in here for Safari polyfill so background images work as expected. */\n",
       "        background-size: auto;\n",
       "    }\n",
       "    progress:not([value]), progress:not([value])::-webkit-progress-bar {\n",
       "        background: repeating-linear-gradient(45deg, #7e7e7e, #7e7e7e 10px, #5c5c5c 10px, #5c5c5c 20px);\n",
       "    }\n",
       "    .progress-bar-interrupted, .progress-bar-interrupted::-webkit-progress-bar {\n",
       "        background: #F44336;\n",
       "    }\n",
       "</style>\n"
      ],
      "text/plain": [
       "<IPython.core.display.HTML object>"
      ]
     },
     "metadata": {},
     "output_type": "display_data"
    },
    {
     "data": {
      "text/html": [
       "\n",
       "    <div>\n",
       "      <progress value='3219456' class='' max='3214948' style='width:300px; height:20px; vertical-align: middle;'></progress>\n",
       "      100.14% [3219456/3214948 00:00&lt;00:00]\n",
       "    </div>\n",
       "    "
      ],
      "text/plain": [
       "<IPython.core.display.HTML object>"
      ]
     },
     "metadata": {},
     "output_type": "display_data"
    }
   ],
   "source": [
    "path = untar_data(URLs.MNIST_SAMPLE)\n",
    "Path.BASE_PATH = path"
   ]
  },
  {
   "cell_type": "markdown",
   "id": "7ad5db74",
   "metadata": {
    "papermill": {
     "duration": 0.020162,
     "end_time": "2024-04-06T17:07:42.507274",
     "exception": false,
     "start_time": "2024-04-06T17:07:42.487112",
     "status": "completed"
    },
    "tags": []
   },
   "source": [
    "Show sample images"
   ]
  },
  {
   "cell_type": "code",
   "execution_count": 4,
   "id": "cd1ac814",
   "metadata": {
    "execution": {
     "iopub.execute_input": "2024-04-06T17:07:42.551708Z",
     "iopub.status.busy": "2024-04-06T17:07:42.551267Z",
     "iopub.status.idle": "2024-04-06T17:07:42.724587Z",
     "shell.execute_reply": "2024-04-06T17:07:42.723287Z"
    },
    "papermill": {
     "duration": 0.199509,
     "end_time": "2024-04-06T17:07:42.727308",
     "exception": false,
     "start_time": "2024-04-06T17:07:42.527799",
     "status": "completed"
    },
    "tags": []
   },
   "outputs": [],
   "source": [
    "threes = (path/'train'/'3').ls().sorted()\n",
    "sevens = (path/'train'/'7').ls().sorted()"
   ]
  },
  {
   "cell_type": "code",
   "execution_count": 5,
   "id": "cc91c7d4",
   "metadata": {
    "execution": {
     "iopub.execute_input": "2024-04-06T17:07:42.770293Z",
     "iopub.status.busy": "2024-04-06T17:07:42.769859Z",
     "iopub.status.idle": "2024-04-06T17:07:42.788244Z",
     "shell.execute_reply": "2024-04-06T17:07:42.787095Z"
    },
    "papermill": {
     "duration": 0.043139,
     "end_time": "2024-04-06T17:07:42.790946",
     "exception": false,
     "start_time": "2024-04-06T17:07:42.747807",
     "status": "completed"
    },
    "tags": []
   },
   "outputs": [
    {
     "data": {
      "image/png": "[encoded data removed]",
      "text/plain": [
       "<PIL.PngImagePlugin.PngImageFile image mode=L size=28x28>"
      ]
     },
     "execution_count": 5,
     "metadata": {},
     "output_type": "execute_result"
    }
   ],
   "source": [
    "three_sample = Image.open(threes[1])\n",
    "three_sample"
   ]
  },
  {
   "cell_type": "code",
   "execution_count": 6,
   "id": "8d4961ba",
   "metadata": {
    "execution": {
     "iopub.execute_input": "2024-04-06T17:07:42.835932Z",
     "iopub.status.busy": "2024-04-06T17:07:42.834755Z",
     "iopub.status.idle": "2024-04-06T17:07:42.843737Z",
     "shell.execute_reply": "2024-04-06T17:07:42.842637Z"
    },
    "papermill": {
     "duration": 0.034296,
     "end_time": "2024-04-06T17:07:42.846297",
     "exception": false,
     "start_time": "2024-04-06T17:07:42.812001",
     "status": "completed"
    },
    "tags": []
   },
   "outputs": [
    {
     "data": {
      "image/png": "[encoded data removed]",
      "text/plain": [
       "<PIL.PngImagePlugin.PngImageFile image mode=L size=28x28>"
      ]
     },
     "execution_count": 6,
     "metadata": {},
     "output_type": "execute_result"
    }
   ],
   "source": [
    "seven_sample = Image.open(sevens[10])\n",
    "seven_sample"
   ]
  },
  {
   "cell_type": "code",
   "execution_count": 7,
   "id": "3a9e8703",
   "metadata": {
    "execution": {
     "iopub.execute_input": "2024-04-06T17:07:42.891859Z",
     "iopub.status.busy": "2024-04-06T17:07:42.891452Z",
     "iopub.status.idle": "2024-04-06T17:07:43.116686Z",
     "shell.execute_reply": "2024-04-06T17:07:43.115734Z"
    },
    "papermill": {
     "duration": 0.251736,
     "end_time": "2024-04-06T17:07:43.119596",
     "exception": false,
     "start_time": "2024-04-06T17:07:42.867860",
     "status": "completed"
    },
    "tags": []
   },
   "outputs": [
    {
     "data": {
      "text/html": [
       "<style type=\"text/css\">\n",
       "#T_bbf8f_row0_col0, #T_bbf8f_row0_col1, #T_bbf8f_row0_col2, #T_bbf8f_row0_col3, #T_bbf8f_row0_col4, #T_bbf8f_row0_col5, #T_bbf8f_row0_col6, #T_bbf8f_row0_col7, #T_bbf8f_row0_col8, #T_bbf8f_row0_col9, #T_bbf8f_row0_col10, #T_bbf8f_row0_col11, #T_bbf8f_row0_col12, #T_bbf8f_row0_col13, #T_bbf8f_row0_col14, #T_bbf8f_row0_col15, #T_bbf8f_row0_col16, #T_bbf8f_row0_col17, #T_bbf8f_row1_col0, #T_bbf8f_row1_col1, #T_bbf8f_row1_col2, #T_bbf8f_row1_col3, #T_bbf8f_row1_col4, #T_bbf8f_row1_col15, #T_bbf8f_row1_col16, #T_bbf8f_row1_col17, #T_bbf8f_row2_col0, #T_bbf8f_row2_col1, #T_bbf8f_row2_col2, #T_bbf8f_row2_col15, #T_bbf8f_row2_col16, #T_bbf8f_row2_col17, #T_bbf8f_row3_col0, #T_bbf8f_row3_col15, #T_bbf8f_row3_col16, #T_bbf8f_row3_col17, #T_bbf8f_row4_col0, #T_bbf8f_row4_col6, #T_bbf8f_row4_col7, #T_bbf8f_row4_col8, #T_bbf8f_row4_col9, #T_bbf8f_row4_col10, #T_bbf8f_row4_col15, #T_bbf8f_row4_col16, #T_bbf8f_row4_col17, #T_bbf8f_row5_col0, #T_bbf8f_row5_col5, #T_bbf8f_row5_col6, #T_bbf8f_row5_col7, #T_bbf8f_row5_col8, #T_bbf8f_row5_col9, #T_bbf8f_row5_col15, #T_bbf8f_row5_col16, #T_bbf8f_row5_col17, #T_bbf8f_row6_col0, #T_bbf8f_row6_col1, #T_bbf8f_row6_col2, #T_bbf8f_row6_col3, #T_bbf8f_row6_col4, #T_bbf8f_row6_col5, #T_bbf8f_row6_col6, #T_bbf8f_row6_col7, #T_bbf8f_row6_col8, #T_bbf8f_row6_col9, #T_bbf8f_row6_col14, #T_bbf8f_row6_col15, #T_bbf8f_row6_col16, #T_bbf8f_row6_col17, #T_bbf8f_row7_col0, #T_bbf8f_row7_col1, #T_bbf8f_row7_col2, #T_bbf8f_row7_col3, #T_bbf8f_row7_col4, #T_bbf8f_row7_col5, #T_bbf8f_row7_col6, #T_bbf8f_row7_col13, #T_bbf8f_row7_col14, #T_bbf8f_row7_col15, #T_bbf8f_row7_col16, #T_bbf8f_row7_col17, #T_bbf8f_row8_col0, #T_bbf8f_row8_col1, #T_bbf8f_row8_col2, #T_bbf8f_row8_col3, #T_bbf8f_row8_col4, #T_bbf8f_row8_col13, #T_bbf8f_row8_col14, #T_bbf8f_row8_col15, #T_bbf8f_row8_col16, #T_bbf8f_row8_col17, #T_bbf8f_row9_col0, #T_bbf8f_row9_col1, #T_bbf8f_row9_col2, #T_bbf8f_row9_col3, #T_bbf8f_row9_col4, #T_bbf8f_row9_col16, #T_bbf8f_row9_col17, #T_bbf8f_row10_col0, #T_bbf8f_row10_col1, #T_bbf8f_row10_col2, #T_bbf8f_row10_col3, #T_bbf8f_row10_col4, #T_bbf8f_row10_col5, #T_bbf8f_row10_col6, #T_bbf8f_row10_col17 {\n",
       "  font-size: 6pt;\n",
       "  background-color: #ffffff;\n",
       "  color: #000000;\n",
       "}\n",
       "#T_bbf8f_row1_col5 {\n",
       "  font-size: 6pt;\n",
       "  background-color: #efefef;\n",
       "  color: #000000;\n",
       "}\n",
       "#T_bbf8f_row1_col6, #T_bbf8f_row1_col13 {\n",
       "  font-size: 6pt;\n",
       "  background-color: #7c7c7c;\n",
       "  color: #f1f1f1;\n",
       "}\n",
       "#T_bbf8f_row1_col7 {\n",
       "  font-size: 6pt;\n",
       "  background-color: #4a4a4a;\n",
       "  color: #f1f1f1;\n",
       "}\n",
       "#T_bbf8f_row1_col8, #T_bbf8f_row1_col9, #T_bbf8f_row1_col10, #T_bbf8f_row2_col5, #T_bbf8f_row2_col6, #T_bbf8f_row2_col7, #T_bbf8f_row2_col11, #T_bbf8f_row2_col12, #T_bbf8f_row2_col13, #T_bbf8f_row3_col4, #T_bbf8f_row3_col12, #T_bbf8f_row3_col13, #T_bbf8f_row4_col1, #T_bbf8f_row4_col2, #T_bbf8f_row4_col3, #T_bbf8f_row4_col12, #T_bbf8f_row4_col13, #T_bbf8f_row5_col12, #T_bbf8f_row6_col11, #T_bbf8f_row9_col11, #T_bbf8f_row10_col11, #T_bbf8f_row10_col12, #T_bbf8f_row10_col13, #T_bbf8f_row10_col14, #T_bbf8f_row10_col15, #T_bbf8f_row10_col16 {\n",
       "  font-size: 6pt;\n",
       "  background-color: #000000;\n",
       "  color: #f1f1f1;\n",
       "}\n",
       "#T_bbf8f_row1_col11 {\n",
       "  font-size: 6pt;\n",
       "  background-color: #606060;\n",
       "  color: #f1f1f1;\n",
       "}\n",
       "#T_bbf8f_row1_col12 {\n",
       "  font-size: 6pt;\n",
       "  background-color: #4d4d4d;\n",
       "  color: #f1f1f1;\n",
       "}\n",
       "#T_bbf8f_row1_col14 {\n",
       "  font-size: 6pt;\n",
       "  background-color: #bbbbbb;\n",
       "  color: #000000;\n",
       "}\n",
       "#T_bbf8f_row2_col3 {\n",
       "  font-size: 6pt;\n",
       "  background-color: #e4e4e4;\n",
       "  color: #000000;\n",
       "}\n",
       "#T_bbf8f_row2_col4, #T_bbf8f_row8_col6 {\n",
       "  font-size: 6pt;\n",
       "  background-color: #6b6b6b;\n",
       "  color: #f1f1f1;\n",
       "}\n",
       "#T_bbf8f_row2_col8, #T_bbf8f_row2_col14, #T_bbf8f_row3_col14 {\n",
       "  font-size: 6pt;\n",
       "  background-color: #171717;\n",
       "  color: #f1f1f1;\n",
       "}\n",
       "#T_bbf8f_row2_col9, #T_bbf8f_row3_col11 {\n",
       "  font-size: 6pt;\n",
       "  background-color: #4b4b4b;\n",
       "  color: #f1f1f1;\n",
       "}\n",
       "#T_bbf8f_row2_col10, #T_bbf8f_row7_col10, #T_bbf8f_row8_col8, #T_bbf8f_row8_col10, #T_bbf8f_row9_col8, #T_bbf8f_row9_col10 {\n",
       "  font-size: 6pt;\n",
       "  background-color: #010101;\n",
       "  color: #f1f1f1;\n",
       "}\n",
       "#T_bbf8f_row3_col1 {\n",
       "  font-size: 6pt;\n",
       "  background-color: #272727;\n",
       "  color: #f1f1f1;\n",
       "}\n",
       "#T_bbf8f_row3_col2 {\n",
       "  font-size: 6pt;\n",
       "  background-color: #0a0a0a;\n",
       "  color: #f1f1f1;\n",
       "}\n",
       "#T_bbf8f_row3_col3 {\n",
       "  font-size: 6pt;\n",
       "  background-color: #050505;\n",
       "  color: #f1f1f1;\n",
       "}\n",
       "#T_bbf8f_row3_col5 {\n",
       "  font-size: 6pt;\n",
       "  background-color: #333333;\n",
       "  color: #f1f1f1;\n",
       "}\n",
       "#T_bbf8f_row3_col6 {\n",
       "  font-size: 6pt;\n",
       "  background-color: #e6e6e6;\n",
       "  color: #000000;\n",
       "}\n",
       "#T_bbf8f_row3_col7, #T_bbf8f_row3_col10 {\n",
       "  font-size: 6pt;\n",
       "  background-color: #fafafa;\n",
       "  color: #000000;\n",
       "}\n",
       "#T_bbf8f_row3_col8 {\n",
       "  font-size: 6pt;\n",
       "  background-color: #fbfbfb;\n",
       "  color: #000000;\n",
       "}\n",
       "#T_bbf8f_row3_col9 {\n",
       "  font-size: 6pt;\n",
       "  background-color: #fdfdfd;\n",
       "  color: #000000;\n",
       "}\n",
       "#T_bbf8f_row4_col4 {\n",
       "  font-size: 6pt;\n",
       "  background-color: #1b1b1b;\n",
       "  color: #f1f1f1;\n",
       "}\n",
       "#T_bbf8f_row4_col5 {\n",
       "  font-size: 6pt;\n",
       "  background-color: #e0e0e0;\n",
       "  color: #000000;\n",
       "}\n",
       "#T_bbf8f_row4_col11 {\n",
       "  font-size: 6pt;\n",
       "  background-color: #4e4e4e;\n",
       "  color: #f1f1f1;\n",
       "}\n",
       "#T_bbf8f_row4_col14 {\n",
       "  font-size: 6pt;\n",
       "  background-color: #767676;\n",
       "  color: #f1f1f1;\n",
       "}\n",
       "#T_bbf8f_row5_col1 {\n",
       "  font-size: 6pt;\n",
       "  background-color: #fcfcfc;\n",
       "  color: #000000;\n",
       "}\n",
       "#T_bbf8f_row5_col2, #T_bbf8f_row5_col3 {\n",
       "  font-size: 6pt;\n",
       "  background-color: #f6f6f6;\n",
       "  color: #000000;\n",
       "}\n",
       "#T_bbf8f_row5_col4, #T_bbf8f_row7_col7 {\n",
       "  font-size: 6pt;\n",
       "  background-color: #f8f8f8;\n",
       "  color: #000000;\n",
       "}\n",
       "#T_bbf8f_row5_col10, #T_bbf8f_row10_col7 {\n",
       "  font-size: 6pt;\n",
       "  background-color: #e8e8e8;\n",
       "  color: #000000;\n",
       "}\n",
       "#T_bbf8f_row5_col11 {\n",
       "  font-size: 6pt;\n",
       "  background-color: #222222;\n",
       "  color: #f1f1f1;\n",
       "}\n",
       "#T_bbf8f_row5_col13, #T_bbf8f_row6_col12 {\n",
       "  font-size: 6pt;\n",
       "  background-color: #090909;\n",
       "  color: #f1f1f1;\n",
       "}\n",
       "#T_bbf8f_row5_col14 {\n",
       "  font-size: 6pt;\n",
       "  background-color: #d0d0d0;\n",
       "  color: #000000;\n",
       "}\n",
       "#T_bbf8f_row6_col10, #T_bbf8f_row7_col11, #T_bbf8f_row9_col6 {\n",
       "  font-size: 6pt;\n",
       "  background-color: #060606;\n",
       "  color: #f1f1f1;\n",
       "}\n",
       "#T_bbf8f_row6_col13 {\n",
       "  font-size: 6pt;\n",
       "  background-color: #979797;\n",
       "  color: #f1f1f1;\n",
       "}\n",
       "#T_bbf8f_row7_col8 {\n",
       "  font-size: 6pt;\n",
       "  background-color: #b6b6b6;\n",
       "  color: #000000;\n",
       "}\n",
       "#T_bbf8f_row7_col9 {\n",
       "  font-size: 6pt;\n",
       "  background-color: #252525;\n",
       "  color: #f1f1f1;\n",
       "}\n",
       "#T_bbf8f_row7_col12 {\n",
       "  font-size: 6pt;\n",
       "  background-color: #999999;\n",
       "  color: #f1f1f1;\n",
       "}\n",
       "#T_bbf8f_row8_col5 {\n",
       "  font-size: 6pt;\n",
       "  background-color: #f9f9f9;\n",
       "  color: #000000;\n",
       "}\n",
       "#T_bbf8f_row8_col7 {\n",
       "  font-size: 6pt;\n",
       "  background-color: #101010;\n",
       "  color: #f1f1f1;\n",
       "}\n",
       "#T_bbf8f_row8_col9, #T_bbf8f_row9_col9 {\n",
       "  font-size: 6pt;\n",
       "  background-color: #020202;\n",
       "  color: #f1f1f1;\n",
       "}\n",
       "#T_bbf8f_row8_col11 {\n",
       "  font-size: 6pt;\n",
       "  background-color: #545454;\n",
       "  color: #f1f1f1;\n",
       "}\n",
       "#T_bbf8f_row8_col12 {\n",
       "  font-size: 6pt;\n",
       "  background-color: #f1f1f1;\n",
       "  color: #000000;\n",
       "}\n",
       "#T_bbf8f_row9_col5 {\n",
       "  font-size: 6pt;\n",
       "  background-color: #f7f7f7;\n",
       "  color: #000000;\n",
       "}\n",
       "#T_bbf8f_row9_col7 {\n",
       "  font-size: 6pt;\n",
       "  background-color: #030303;\n",
       "  color: #f1f1f1;\n",
       "}\n",
       "#T_bbf8f_row9_col12 {\n",
       "  font-size: 6pt;\n",
       "  background-color: #181818;\n",
       "  color: #f1f1f1;\n",
       "}\n",
       "#T_bbf8f_row9_col13 {\n",
       "  font-size: 6pt;\n",
       "  background-color: #303030;\n",
       "  color: #f1f1f1;\n",
       "}\n",
       "#T_bbf8f_row9_col14 {\n",
       "  font-size: 6pt;\n",
       "  background-color: #a9a9a9;\n",
       "  color: #f1f1f1;\n",
       "}\n",
       "#T_bbf8f_row9_col15 {\n",
       "  font-size: 6pt;\n",
       "  background-color: #fefefe;\n",
       "  color: #000000;\n",
       "}\n",
       "#T_bbf8f_row10_col8, #T_bbf8f_row10_col9 {\n",
       "  font-size: 6pt;\n",
       "  background-color: #bababa;\n",
       "  color: #000000;\n",
       "}\n",
       "#T_bbf8f_row10_col10 {\n",
       "  font-size: 6pt;\n",
       "  background-color: #393939;\n",
       "  color: #f1f1f1;\n",
       "}\n",
       "</style>\n",
       "<table id=\"T_bbf8f\">\n",
       "  <thead>\n",
       "    <tr>\n",
       "      <th class=\"blank level0\" >&nbsp;</th>\n",
       "      <th id=\"T_bbf8f_level0_col0\" class=\"col_heading level0 col0\" >0</th>\n",
       "      <th id=\"T_bbf8f_level0_col1\" class=\"col_heading level0 col1\" >1</th>\n",
       "      <th id=\"T_bbf8f_level0_col2\" class=\"col_heading level0 col2\" >2</th>\n",
       "      <th id=\"T_bbf8f_level0_col3\" class=\"col_heading level0 col3\" >3</th>\n",
       "      <th id=\"T_bbf8f_level0_col4\" class=\"col_heading level0 col4\" >4</th>\n",
       "      <th id=\"T_bbf8f_level0_col5\" class=\"col_heading level0 col5\" >5</th>\n",
       "      <th id=\"T_bbf8f_level0_col6\" class=\"col_heading level0 col6\" >6</th>\n",
       "      <th id=\"T_bbf8f_level0_col7\" class=\"col_heading level0 col7\" >7</th>\n",
       "      <th id=\"T_bbf8f_level0_col8\" class=\"col_heading level0 col8\" >8</th>\n",
       "      <th id=\"T_bbf8f_level0_col9\" class=\"col_heading level0 col9\" >9</th>\n",
       "      <th id=\"T_bbf8f_level0_col10\" class=\"col_heading level0 col10\" >10</th>\n",
       "      <th id=\"T_bbf8f_level0_col11\" class=\"col_heading level0 col11\" >11</th>\n",
       "      <th id=\"T_bbf8f_level0_col12\" class=\"col_heading level0 col12\" >12</th>\n",
       "      <th id=\"T_bbf8f_level0_col13\" class=\"col_heading level0 col13\" >13</th>\n",
       "      <th id=\"T_bbf8f_level0_col14\" class=\"col_heading level0 col14\" >14</th>\n",
       "      <th id=\"T_bbf8f_level0_col15\" class=\"col_heading level0 col15\" >15</th>\n",
       "      <th id=\"T_bbf8f_level0_col16\" class=\"col_heading level0 col16\" >16</th>\n",
       "      <th id=\"T_bbf8f_level0_col17\" class=\"col_heading level0 col17\" >17</th>\n",
       "    </tr>\n",
       "  </thead>\n",
       "  <tbody>\n",
       "    <tr>\n",
       "      <th id=\"T_bbf8f_level0_row0\" class=\"row_heading level0 row0\" >0</th>\n",
       "      <td id=\"T_bbf8f_row0_col0\" class=\"data row0 col0\" >0</td>\n",
       "      <td id=\"T_bbf8f_row0_col1\" class=\"data row0 col1\" >0</td>\n",
       "      <td id=\"T_bbf8f_row0_col2\" class=\"data row0 col2\" >0</td>\n",
       "      <td id=\"T_bbf8f_row0_col3\" class=\"data row0 col3\" >0</td>\n",
       "      <td id=\"T_bbf8f_row0_col4\" class=\"data row0 col4\" >0</td>\n",
       "      <td id=\"T_bbf8f_row0_col5\" class=\"data row0 col5\" >0</td>\n",
       "      <td id=\"T_bbf8f_row0_col6\" class=\"data row0 col6\" >0</td>\n",
       "      <td id=\"T_bbf8f_row0_col7\" class=\"data row0 col7\" >0</td>\n",
       "      <td id=\"T_bbf8f_row0_col8\" class=\"data row0 col8\" >0</td>\n",
       "      <td id=\"T_bbf8f_row0_col9\" class=\"data row0 col9\" >0</td>\n",
       "      <td id=\"T_bbf8f_row0_col10\" class=\"data row0 col10\" >0</td>\n",
       "      <td id=\"T_bbf8f_row0_col11\" class=\"data row0 col11\" >0</td>\n",
       "      <td id=\"T_bbf8f_row0_col12\" class=\"data row0 col12\" >0</td>\n",
       "      <td id=\"T_bbf8f_row0_col13\" class=\"data row0 col13\" >0</td>\n",
       "      <td id=\"T_bbf8f_row0_col14\" class=\"data row0 col14\" >0</td>\n",
       "      <td id=\"T_bbf8f_row0_col15\" class=\"data row0 col15\" >0</td>\n",
       "      <td id=\"T_bbf8f_row0_col16\" class=\"data row0 col16\" >0</td>\n",
       "      <td id=\"T_bbf8f_row0_col17\" class=\"data row0 col17\" >0</td>\n",
       "    </tr>\n",
       "    <tr>\n",
       "      <th id=\"T_bbf8f_level0_row1\" class=\"row_heading level0 row1\" >1</th>\n",
       "      <td id=\"T_bbf8f_row1_col0\" class=\"data row1 col0\" >0</td>\n",
       "      <td id=\"T_bbf8f_row1_col1\" class=\"data row1 col1\" >0</td>\n",
       "      <td id=\"T_bbf8f_row1_col2\" class=\"data row1 col2\" >0</td>\n",
       "      <td id=\"T_bbf8f_row1_col3\" class=\"data row1 col3\" >0</td>\n",
       "      <td id=\"T_bbf8f_row1_col4\" class=\"data row1 col4\" >0</td>\n",
       "      <td id=\"T_bbf8f_row1_col5\" class=\"data row1 col5\" >29</td>\n",
       "      <td id=\"T_bbf8f_row1_col6\" class=\"data row1 col6\" >150</td>\n",
       "      <td id=\"T_bbf8f_row1_col7\" class=\"data row1 col7\" >195</td>\n",
       "      <td id=\"T_bbf8f_row1_col8\" class=\"data row1 col8\" >254</td>\n",
       "      <td id=\"T_bbf8f_row1_col9\" class=\"data row1 col9\" >255</td>\n",
       "      <td id=\"T_bbf8f_row1_col10\" class=\"data row1 col10\" >254</td>\n",
       "      <td id=\"T_bbf8f_row1_col11\" class=\"data row1 col11\" >176</td>\n",
       "      <td id=\"T_bbf8f_row1_col12\" class=\"data row1 col12\" >193</td>\n",
       "      <td id=\"T_bbf8f_row1_col13\" class=\"data row1 col13\" >150</td>\n",
       "      <td id=\"T_bbf8f_row1_col14\" class=\"data row1 col14\" >96</td>\n",
       "      <td id=\"T_bbf8f_row1_col15\" class=\"data row1 col15\" >0</td>\n",
       "      <td id=\"T_bbf8f_row1_col16\" class=\"data row1 col16\" >0</td>\n",
       "      <td id=\"T_bbf8f_row1_col17\" class=\"data row1 col17\" >0</td>\n",
       "    </tr>\n",
       "    <tr>\n",
       "      <th id=\"T_bbf8f_level0_row2\" class=\"row_heading level0 row2\" >2</th>\n",
       "      <td id=\"T_bbf8f_row2_col0\" class=\"data row2 col0\" >0</td>\n",
       "      <td id=\"T_bbf8f_row2_col1\" class=\"data row2 col1\" >0</td>\n",
       "      <td id=\"T_bbf8f_row2_col2\" class=\"data row2 col2\" >0</td>\n",
       "      <td id=\"T_bbf8f_row2_col3\" class=\"data row2 col3\" >48</td>\n",
       "      <td id=\"T_bbf8f_row2_col4\" class=\"data row2 col4\" >166</td>\n",
       "      <td id=\"T_bbf8f_row2_col5\" class=\"data row2 col5\" >224</td>\n",
       "      <td id=\"T_bbf8f_row2_col6\" class=\"data row2 col6\" >253</td>\n",
       "      <td id=\"T_bbf8f_row2_col7\" class=\"data row2 col7\" >253</td>\n",
       "      <td id=\"T_bbf8f_row2_col8\" class=\"data row2 col8\" >234</td>\n",
       "      <td id=\"T_bbf8f_row2_col9\" class=\"data row2 col9\" >196</td>\n",
       "      <td id=\"T_bbf8f_row2_col10\" class=\"data row2 col10\" >253</td>\n",
       "      <td id=\"T_bbf8f_row2_col11\" class=\"data row2 col11\" >253</td>\n",
       "      <td id=\"T_bbf8f_row2_col12\" class=\"data row2 col12\" >253</td>\n",
       "      <td id=\"T_bbf8f_row2_col13\" class=\"data row2 col13\" >253</td>\n",
       "      <td id=\"T_bbf8f_row2_col14\" class=\"data row2 col14\" >233</td>\n",
       "      <td id=\"T_bbf8f_row2_col15\" class=\"data row2 col15\" >0</td>\n",
       "      <td id=\"T_bbf8f_row2_col16\" class=\"data row2 col16\" >0</td>\n",
       "      <td id=\"T_bbf8f_row2_col17\" class=\"data row2 col17\" >0</td>\n",
       "    </tr>\n",
       "    <tr>\n",
       "      <th id=\"T_bbf8f_level0_row3\" class=\"row_heading level0 row3\" >3</th>\n",
       "      <td id=\"T_bbf8f_row3_col0\" class=\"data row3 col0\" >0</td>\n",
       "      <td id=\"T_bbf8f_row3_col1\" class=\"data row3 col1\" >93</td>\n",
       "      <td id=\"T_bbf8f_row3_col2\" class=\"data row3 col2\" >244</td>\n",
       "      <td id=\"T_bbf8f_row3_col3\" class=\"data row3 col3\" >249</td>\n",
       "      <td id=\"T_bbf8f_row3_col4\" class=\"data row3 col4\" >253</td>\n",
       "      <td id=\"T_bbf8f_row3_col5\" class=\"data row3 col5\" >187</td>\n",
       "      <td id=\"T_bbf8f_row3_col6\" class=\"data row3 col6\" >46</td>\n",
       "      <td id=\"T_bbf8f_row3_col7\" class=\"data row3 col7\" >10</td>\n",
       "      <td id=\"T_bbf8f_row3_col8\" class=\"data row3 col8\" >8</td>\n",
       "      <td id=\"T_bbf8f_row3_col9\" class=\"data row3 col9\" >4</td>\n",
       "      <td id=\"T_bbf8f_row3_col10\" class=\"data row3 col10\" >10</td>\n",
       "      <td id=\"T_bbf8f_row3_col11\" class=\"data row3 col11\" >194</td>\n",
       "      <td id=\"T_bbf8f_row3_col12\" class=\"data row3 col12\" >253</td>\n",
       "      <td id=\"T_bbf8f_row3_col13\" class=\"data row3 col13\" >253</td>\n",
       "      <td id=\"T_bbf8f_row3_col14\" class=\"data row3 col14\" >233</td>\n",
       "      <td id=\"T_bbf8f_row3_col15\" class=\"data row3 col15\" >0</td>\n",
       "      <td id=\"T_bbf8f_row3_col16\" class=\"data row3 col16\" >0</td>\n",
       "      <td id=\"T_bbf8f_row3_col17\" class=\"data row3 col17\" >0</td>\n",
       "    </tr>\n",
       "    <tr>\n",
       "      <th id=\"T_bbf8f_level0_row4\" class=\"row_heading level0 row4\" >4</th>\n",
       "      <td id=\"T_bbf8f_row4_col0\" class=\"data row4 col0\" >0</td>\n",
       "      <td id=\"T_bbf8f_row4_col1\" class=\"data row4 col1\" >107</td>\n",
       "      <td id=\"T_bbf8f_row4_col2\" class=\"data row4 col2\" >253</td>\n",
       "      <td id=\"T_bbf8f_row4_col3\" class=\"data row4 col3\" >253</td>\n",
       "      <td id=\"T_bbf8f_row4_col4\" class=\"data row4 col4\" >230</td>\n",
       "      <td id=\"T_bbf8f_row4_col5\" class=\"data row4 col5\" >48</td>\n",
       "      <td id=\"T_bbf8f_row4_col6\" class=\"data row4 col6\" >0</td>\n",
       "      <td id=\"T_bbf8f_row4_col7\" class=\"data row4 col7\" >0</td>\n",
       "      <td id=\"T_bbf8f_row4_col8\" class=\"data row4 col8\" >0</td>\n",
       "      <td id=\"T_bbf8f_row4_col9\" class=\"data row4 col9\" >0</td>\n",
       "      <td id=\"T_bbf8f_row4_col10\" class=\"data row4 col10\" >0</td>\n",
       "      <td id=\"T_bbf8f_row4_col11\" class=\"data row4 col11\" >192</td>\n",
       "      <td id=\"T_bbf8f_row4_col12\" class=\"data row4 col12\" >253</td>\n",
       "      <td id=\"T_bbf8f_row4_col13\" class=\"data row4 col13\" >253</td>\n",
       "      <td id=\"T_bbf8f_row4_col14\" class=\"data row4 col14\" >156</td>\n",
       "      <td id=\"T_bbf8f_row4_col15\" class=\"data row4 col15\" >0</td>\n",
       "      <td id=\"T_bbf8f_row4_col16\" class=\"data row4 col16\" >0</td>\n",
       "      <td id=\"T_bbf8f_row4_col17\" class=\"data row4 col17\" >0</td>\n",
       "    </tr>\n",
       "    <tr>\n",
       "      <th id=\"T_bbf8f_level0_row5\" class=\"row_heading level0 row5\" >5</th>\n",
       "      <td id=\"T_bbf8f_row5_col0\" class=\"data row5 col0\" >0</td>\n",
       "      <td id=\"T_bbf8f_row5_col1\" class=\"data row5 col1\" >3</td>\n",
       "      <td id=\"T_bbf8f_row5_col2\" class=\"data row5 col2\" >20</td>\n",
       "      <td id=\"T_bbf8f_row5_col3\" class=\"data row5 col3\" >20</td>\n",
       "      <td id=\"T_bbf8f_row5_col4\" class=\"data row5 col4\" >15</td>\n",
       "      <td id=\"T_bbf8f_row5_col5\" class=\"data row5 col5\" >0</td>\n",
       "      <td id=\"T_bbf8f_row5_col6\" class=\"data row5 col6\" >0</td>\n",
       "      <td id=\"T_bbf8f_row5_col7\" class=\"data row5 col7\" >0</td>\n",
       "      <td id=\"T_bbf8f_row5_col8\" class=\"data row5 col8\" >0</td>\n",
       "      <td id=\"T_bbf8f_row5_col9\" class=\"data row5 col9\" >0</td>\n",
       "      <td id=\"T_bbf8f_row5_col10\" class=\"data row5 col10\" >43</td>\n",
       "      <td id=\"T_bbf8f_row5_col11\" class=\"data row5 col11\" >224</td>\n",
       "      <td id=\"T_bbf8f_row5_col12\" class=\"data row5 col12\" >253</td>\n",
       "      <td id=\"T_bbf8f_row5_col13\" class=\"data row5 col13\" >245</td>\n",
       "      <td id=\"T_bbf8f_row5_col14\" class=\"data row5 col14\" >74</td>\n",
       "      <td id=\"T_bbf8f_row5_col15\" class=\"data row5 col15\" >0</td>\n",
       "      <td id=\"T_bbf8f_row5_col16\" class=\"data row5 col16\" >0</td>\n",
       "      <td id=\"T_bbf8f_row5_col17\" class=\"data row5 col17\" >0</td>\n",
       "    </tr>\n",
       "    <tr>\n",
       "      <th id=\"T_bbf8f_level0_row6\" class=\"row_heading level0 row6\" >6</th>\n",
       "      <td id=\"T_bbf8f_row6_col0\" class=\"data row6 col0\" >0</td>\n",
       "      <td id=\"T_bbf8f_row6_col1\" class=\"data row6 col1\" >0</td>\n",
       "      <td id=\"T_bbf8f_row6_col2\" class=\"data row6 col2\" >0</td>\n",
       "      <td id=\"T_bbf8f_row6_col3\" class=\"data row6 col3\" >0</td>\n",
       "      <td id=\"T_bbf8f_row6_col4\" class=\"data row6 col4\" >0</td>\n",
       "      <td id=\"T_bbf8f_row6_col5\" class=\"data row6 col5\" >0</td>\n",
       "      <td id=\"T_bbf8f_row6_col6\" class=\"data row6 col6\" >0</td>\n",
       "      <td id=\"T_bbf8f_row6_col7\" class=\"data row6 col7\" >0</td>\n",
       "      <td id=\"T_bbf8f_row6_col8\" class=\"data row6 col8\" >0</td>\n",
       "      <td id=\"T_bbf8f_row6_col9\" class=\"data row6 col9\" >0</td>\n",
       "      <td id=\"T_bbf8f_row6_col10\" class=\"data row6 col10\" >249</td>\n",
       "      <td id=\"T_bbf8f_row6_col11\" class=\"data row6 col11\" >253</td>\n",
       "      <td id=\"T_bbf8f_row6_col12\" class=\"data row6 col12\" >245</td>\n",
       "      <td id=\"T_bbf8f_row6_col13\" class=\"data row6 col13\" >126</td>\n",
       "      <td id=\"T_bbf8f_row6_col14\" class=\"data row6 col14\" >0</td>\n",
       "      <td id=\"T_bbf8f_row6_col15\" class=\"data row6 col15\" >0</td>\n",
       "      <td id=\"T_bbf8f_row6_col16\" class=\"data row6 col16\" >0</td>\n",
       "      <td id=\"T_bbf8f_row6_col17\" class=\"data row6 col17\" >0</td>\n",
       "    </tr>\n",
       "    <tr>\n",
       "      <th id=\"T_bbf8f_level0_row7\" class=\"row_heading level0 row7\" >7</th>\n",
       "      <td id=\"T_bbf8f_row7_col0\" class=\"data row7 col0\" >0</td>\n",
       "      <td id=\"T_bbf8f_row7_col1\" class=\"data row7 col1\" >0</td>\n",
       "      <td id=\"T_bbf8f_row7_col2\" class=\"data row7 col2\" >0</td>\n",
       "      <td id=\"T_bbf8f_row7_col3\" class=\"data row7 col3\" >0</td>\n",
       "      <td id=\"T_bbf8f_row7_col4\" class=\"data row7 col4\" >0</td>\n",
       "      <td id=\"T_bbf8f_row7_col5\" class=\"data row7 col5\" >0</td>\n",
       "      <td id=\"T_bbf8f_row7_col6\" class=\"data row7 col6\" >0</td>\n",
       "      <td id=\"T_bbf8f_row7_col7\" class=\"data row7 col7\" >14</td>\n",
       "      <td id=\"T_bbf8f_row7_col8\" class=\"data row7 col8\" >101</td>\n",
       "      <td id=\"T_bbf8f_row7_col9\" class=\"data row7 col9\" >223</td>\n",
       "      <td id=\"T_bbf8f_row7_col10\" class=\"data row7 col10\" >253</td>\n",
       "      <td id=\"T_bbf8f_row7_col11\" class=\"data row7 col11\" >248</td>\n",
       "      <td id=\"T_bbf8f_row7_col12\" class=\"data row7 col12\" >124</td>\n",
       "      <td id=\"T_bbf8f_row7_col13\" class=\"data row7 col13\" >0</td>\n",
       "      <td id=\"T_bbf8f_row7_col14\" class=\"data row7 col14\" >0</td>\n",
       "      <td id=\"T_bbf8f_row7_col15\" class=\"data row7 col15\" >0</td>\n",
       "      <td id=\"T_bbf8f_row7_col16\" class=\"data row7 col16\" >0</td>\n",
       "      <td id=\"T_bbf8f_row7_col17\" class=\"data row7 col17\" >0</td>\n",
       "    </tr>\n",
       "    <tr>\n",
       "      <th id=\"T_bbf8f_level0_row8\" class=\"row_heading level0 row8\" >8</th>\n",
       "      <td id=\"T_bbf8f_row8_col0\" class=\"data row8 col0\" >0</td>\n",
       "      <td id=\"T_bbf8f_row8_col1\" class=\"data row8 col1\" >0</td>\n",
       "      <td id=\"T_bbf8f_row8_col2\" class=\"data row8 col2\" >0</td>\n",
       "      <td id=\"T_bbf8f_row8_col3\" class=\"data row8 col3\" >0</td>\n",
       "      <td id=\"T_bbf8f_row8_col4\" class=\"data row8 col4\" >0</td>\n",
       "      <td id=\"T_bbf8f_row8_col5\" class=\"data row8 col5\" >11</td>\n",
       "      <td id=\"T_bbf8f_row8_col6\" class=\"data row8 col6\" >166</td>\n",
       "      <td id=\"T_bbf8f_row8_col7\" class=\"data row8 col7\" >239</td>\n",
       "      <td id=\"T_bbf8f_row8_col8\" class=\"data row8 col8\" >253</td>\n",
       "      <td id=\"T_bbf8f_row8_col9\" class=\"data row8 col9\" >253</td>\n",
       "      <td id=\"T_bbf8f_row8_col10\" class=\"data row8 col10\" >253</td>\n",
       "      <td id=\"T_bbf8f_row8_col11\" class=\"data row8 col11\" >187</td>\n",
       "      <td id=\"T_bbf8f_row8_col12\" class=\"data row8 col12\" >30</td>\n",
       "      <td id=\"T_bbf8f_row8_col13\" class=\"data row8 col13\" >0</td>\n",
       "      <td id=\"T_bbf8f_row8_col14\" class=\"data row8 col14\" >0</td>\n",
       "      <td id=\"T_bbf8f_row8_col15\" class=\"data row8 col15\" >0</td>\n",
       "      <td id=\"T_bbf8f_row8_col16\" class=\"data row8 col16\" >0</td>\n",
       "      <td id=\"T_bbf8f_row8_col17\" class=\"data row8 col17\" >0</td>\n",
       "    </tr>\n",
       "    <tr>\n",
       "      <th id=\"T_bbf8f_level0_row9\" class=\"row_heading level0 row9\" >9</th>\n",
       "      <td id=\"T_bbf8f_row9_col0\" class=\"data row9 col0\" >0</td>\n",
       "      <td id=\"T_bbf8f_row9_col1\" class=\"data row9 col1\" >0</td>\n",
       "      <td id=\"T_bbf8f_row9_col2\" class=\"data row9 col2\" >0</td>\n",
       "      <td id=\"T_bbf8f_row9_col3\" class=\"data row9 col3\" >0</td>\n",
       "      <td id=\"T_bbf8f_row9_col4\" class=\"data row9 col4\" >0</td>\n",
       "      <td id=\"T_bbf8f_row9_col5\" class=\"data row9 col5\" >16</td>\n",
       "      <td id=\"T_bbf8f_row9_col6\" class=\"data row9 col6\" >248</td>\n",
       "      <td id=\"T_bbf8f_row9_col7\" class=\"data row9 col7\" >250</td>\n",
       "      <td id=\"T_bbf8f_row9_col8\" class=\"data row9 col8\" >253</td>\n",
       "      <td id=\"T_bbf8f_row9_col9\" class=\"data row9 col9\" >253</td>\n",
       "      <td id=\"T_bbf8f_row9_col10\" class=\"data row9 col10\" >253</td>\n",
       "      <td id=\"T_bbf8f_row9_col11\" class=\"data row9 col11\" >253</td>\n",
       "      <td id=\"T_bbf8f_row9_col12\" class=\"data row9 col12\" >232</td>\n",
       "      <td id=\"T_bbf8f_row9_col13\" class=\"data row9 col13\" >213</td>\n",
       "      <td id=\"T_bbf8f_row9_col14\" class=\"data row9 col14\" >111</td>\n",
       "      <td id=\"T_bbf8f_row9_col15\" class=\"data row9 col15\" >2</td>\n",
       "      <td id=\"T_bbf8f_row9_col16\" class=\"data row9 col16\" >0</td>\n",
       "      <td id=\"T_bbf8f_row9_col17\" class=\"data row9 col17\" >0</td>\n",
       "    </tr>\n",
       "    <tr>\n",
       "      <th id=\"T_bbf8f_level0_row10\" class=\"row_heading level0 row10\" >10</th>\n",
       "      <td id=\"T_bbf8f_row10_col0\" class=\"data row10 col0\" >0</td>\n",
       "      <td id=\"T_bbf8f_row10_col1\" class=\"data row10 col1\" >0</td>\n",
       "      <td id=\"T_bbf8f_row10_col2\" class=\"data row10 col2\" >0</td>\n",
       "      <td id=\"T_bbf8f_row10_col3\" class=\"data row10 col3\" >0</td>\n",
       "      <td id=\"T_bbf8f_row10_col4\" class=\"data row10 col4\" >0</td>\n",
       "      <td id=\"T_bbf8f_row10_col5\" class=\"data row10 col5\" >0</td>\n",
       "      <td id=\"T_bbf8f_row10_col6\" class=\"data row10 col6\" >0</td>\n",
       "      <td id=\"T_bbf8f_row10_col7\" class=\"data row10 col7\" >43</td>\n",
       "      <td id=\"T_bbf8f_row10_col8\" class=\"data row10 col8\" >98</td>\n",
       "      <td id=\"T_bbf8f_row10_col9\" class=\"data row10 col9\" >98</td>\n",
       "      <td id=\"T_bbf8f_row10_col10\" class=\"data row10 col10\" >208</td>\n",
       "      <td id=\"T_bbf8f_row10_col11\" class=\"data row10 col11\" >253</td>\n",
       "      <td id=\"T_bbf8f_row10_col12\" class=\"data row10 col12\" >253</td>\n",
       "      <td id=\"T_bbf8f_row10_col13\" class=\"data row10 col13\" >253</td>\n",
       "      <td id=\"T_bbf8f_row10_col14\" class=\"data row10 col14\" >253</td>\n",
       "      <td id=\"T_bbf8f_row10_col15\" class=\"data row10 col15\" >187</td>\n",
       "      <td id=\"T_bbf8f_row10_col16\" class=\"data row10 col16\" >22</td>\n",
       "      <td id=\"T_bbf8f_row10_col17\" class=\"data row10 col17\" >0</td>\n",
       "    </tr>\n",
       "  </tbody>\n",
       "</table>\n"
      ],
      "text/plain": [
       "<pandas.io.formats.style.Styler at 0x7ab11fbc7f10>"
      ]
     },
     "execution_count": 7,
     "metadata": {},
     "output_type": "execute_result"
    }
   ],
   "source": [
    "three_tensor = tensor(three_sample)\n",
    "df = pd.DataFrame(three_tensor[4:15, 4:22])\n",
    "df.style.set_properties(**{'font-size':'6pt'}).background_gradient('Greys')"
   ]
  },
  {
   "cell_type": "code",
   "execution_count": 8,
   "id": "7bd01007",
   "metadata": {
    "execution": {
     "iopub.execute_input": "2024-04-06T17:07:43.165786Z",
     "iopub.status.busy": "2024-04-06T17:07:43.165127Z",
     "iopub.status.idle": "2024-04-06T17:07:43.242171Z",
     "shell.execute_reply": "2024-04-06T17:07:43.240959Z"
    },
    "papermill": {
     "duration": 0.104746,
     "end_time": "2024-04-06T17:07:43.246437",
     "exception": false,
     "start_time": "2024-04-06T17:07:43.141691",
     "status": "completed"
    },
    "tags": []
   },
   "outputs": [
    {
     "data": {
      "text/plain": [
       "<Axes: >"
      ]
     },
     "execution_count": 8,
     "metadata": {},
     "output_type": "execute_result"
    },
    {
     "data": {
      "image/png": "[encoded data removed]",
      "text/plain": [
       "<Figure size 100x100 with 1 Axes>"
      ]
     },
     "metadata": {},
     "output_type": "display_data"
    }
   ],
   "source": [
    "show_image(tensor(seven_sample))"
   ]
  },
  {
   "cell_type": "markdown",
   "id": "9ac2c0de",
   "metadata": {
    "papermill": {
     "duration": 0.047408,
     "end_time": "2024-04-06T17:07:43.340218",
     "exception": false,
     "start_time": "2024-04-06T17:07:43.292810",
     "status": "completed"
    },
    "tags": []
   },
   "source": [
    "## Classify 3's and 7's according to the average pixel value"
   ]
  },
  {
   "cell_type": "markdown",
   "id": "f8803c73",
   "metadata": {
    "papermill": {
     "duration": 0.021867,
     "end_time": "2024-04-06T17:07:43.388153",
     "exception": false,
     "start_time": "2024-04-06T17:07:43.366286",
     "status": "completed"
    },
    "tags": []
   },
   "source": [
    "Stack images into 3D tensors"
   ]
  },
  {
   "cell_type": "code",
   "execution_count": 9,
   "id": "de03fd4f",
   "metadata": {
    "execution": {
     "iopub.execute_input": "2024-04-06T17:07:43.434301Z",
     "iopub.status.busy": "2024-04-06T17:07:43.433906Z",
     "iopub.status.idle": "2024-04-06T17:07:47.701182Z",
     "shell.execute_reply": "2024-04-06T17:07:47.700257Z"
    },
    "papermill": {
     "duration": 4.294014,
     "end_time": "2024-04-06T17:07:47.703985",
     "exception": false,
     "start_time": "2024-04-06T17:07:43.409971",
     "status": "completed"
    },
    "tags": []
   },
   "outputs": [],
   "source": [
    "threes_tensors = [tensor(Image.open(o)) for o in threes]\n",
    "sevens_tensors = [tensor(Image.open(o)) for o in sevens]\n",
    "\n",
    "stacked_threes = torch.stack(threes_tensors).float()/255\n",
    "stacked_sevens = torch.stack(sevens_tensors).float()/255"
   ]
  },
  {
   "cell_type": "markdown",
   "id": "86953014",
   "metadata": {
    "papermill": {
     "duration": 0.022463,
     "end_time": "2024-04-06T17:07:47.751372",
     "exception": false,
     "start_time": "2024-04-06T17:07:47.728909",
     "status": "completed"
    },
    "tags": []
   },
   "source": [
    "Average every pixel"
   ]
  },
  {
   "cell_type": "code",
   "execution_count": 10,
   "id": "650488f5",
   "metadata": {
    "execution": {
     "iopub.execute_input": "2024-04-06T17:07:47.798399Z",
     "iopub.status.busy": "2024-04-06T17:07:47.797660Z",
     "iopub.status.idle": "2024-04-06T17:07:47.880522Z",
     "shell.execute_reply": "2024-04-06T17:07:47.878871Z"
    },
    "papermill": {
     "duration": 0.113046,
     "end_time": "2024-04-06T17:07:47.886359",
     "exception": false,
     "start_time": "2024-04-06T17:07:47.773313",
     "status": "completed"
    },
    "tags": []
   },
   "outputs": [
    {
     "data": {
      "text/plain": [
       "<Axes: >"
      ]
     },
     "execution_count": 10,
     "metadata": {},
     "output_type": "execute_result"
    },
    {
     "data": {
      "image/png": "[encoded data removed]",
      "text/plain": [
       "<Figure size 100x100 with 1 Axes>"
      ]
     },
     "metadata": {},
     "output_type": "display_data"
    }
   ],
   "source": [
    "mean3 = stacked_threes.mean(0)\n",
    "show_image(mean3)"
   ]
  },
  {
   "cell_type": "code",
   "execution_count": 11,
   "id": "f0b81042",
   "metadata": {
    "execution": {
     "iopub.execute_input": "2024-04-06T17:07:47.984469Z",
     "iopub.status.busy": "2024-04-06T17:07:47.983702Z",
     "iopub.status.idle": "2024-04-06T17:07:48.052083Z",
     "shell.execute_reply": "2024-04-06T17:07:48.050542Z"
    },
    "papermill": {
     "duration": 0.120876,
     "end_time": "2024-04-06T17:07:48.056446",
     "exception": false,
     "start_time": "2024-04-06T17:07:47.935570",
     "status": "completed"
    },
    "tags": []
   },
   "outputs": [
    {
     "data": {
      "text/plain": [
       "<Axes: >"
      ]
     },
     "execution_count": 11,
     "metadata": {},
     "output_type": "execute_result"
    },
    {
     "data": {
      "image/png": "[encoded data removed]",
      "text/plain": [
       "<Figure size 100x100 with 1 Axes>"
      ]
     },
     "metadata": {},
     "output_type": "display_data"
    }
   ],
   "source": [
    "mean7 = stacked_sevens.mean(0)\n",
    "show_image(mean7)"
   ]
  },
  {
   "cell_type": "markdown",
   "id": "51823250",
   "metadata": {
    "papermill": {
     "duration": 0.047554,
     "end_time": "2024-04-06T17:07:48.156560",
     "exception": false,
     "start_time": "2024-04-06T17:07:48.109006",
     "status": "completed"
    },
    "tags": []
   },
   "source": [
    "Compute distance of a sample 3 from the mean 3 and 7.\n",
    "Distance from the mean 3 is lower than distance from the mean 7."
   ]
  },
  {
   "cell_type": "code",
   "execution_count": 12,
   "id": "6b63d9fe",
   "metadata": {
    "execution": {
     "iopub.execute_input": "2024-04-06T17:07:48.203988Z",
     "iopub.status.busy": "2024-04-06T17:07:48.203592Z",
     "iopub.status.idle": "2024-04-06T17:07:48.242496Z",
     "shell.execute_reply": "2024-04-06T17:07:48.241225Z"
    },
    "papermill": {
     "duration": 0.065925,
     "end_time": "2024-04-06T17:07:48.245142",
     "exception": false,
     "start_time": "2024-04-06T17:07:48.179217",
     "status": "completed"
    },
    "tags": []
   },
   "outputs": [
    {
     "name": "stdout",
     "output_type": "stream",
     "text": [
      "3. L1 norm: 0.12104; L2 norm: 0.22165\n",
      "7. L1 norm: 0.17686; L2 norm: 0.32937\n"
     ]
    }
   ],
   "source": [
    "sample3 = stacked_threes[42]\n",
    "\n",
    "dist_3_abs = (sample3 - mean3).abs().mean()\n",
    "dist_3_sqr = ((sample3 - mean3)**2).mean().sqrt()\n",
    "\n",
    "dist_7_abs = (sample3 - mean7).abs().mean()\n",
    "dist_7_sqr = ((sample3 - mean7)**2).mean().sqrt()\n",
    "\n",
    "print(f'3. L1 norm: {dist_3_abs:.5f}; L2 norm: {dist_3_sqr:.5f}')\n",
    "print(f'7. L1 norm: {dist_7_abs:.5f}; L2 norm: {dist_7_sqr:.5f}')"
   ]
  },
  {
   "cell_type": "markdown",
   "id": "1ce04697",
   "metadata": {
    "papermill": {
     "duration": 0.023017,
     "end_time": "2024-04-06T17:07:48.292814",
     "exception": false,
     "start_time": "2024-04-06T17:07:48.269797",
     "status": "completed"
    },
    "tags": []
   },
   "source": [
    "Same thing using `torch.nn.functional` (imported as `F`)"
   ]
  },
  {
   "cell_type": "code",
   "execution_count": 13,
   "id": "52925142",
   "metadata": {
    "execution": {
     "iopub.execute_input": "2024-04-06T17:07:48.342535Z",
     "iopub.status.busy": "2024-04-06T17:07:48.342024Z",
     "iopub.status.idle": "2024-04-06T17:07:48.382625Z",
     "shell.execute_reply": "2024-04-06T17:07:48.381698Z"
    },
    "papermill": {
     "duration": 0.069726,
     "end_time": "2024-04-06T17:07:48.385395",
     "exception": false,
     "start_time": "2024-04-06T17:07:48.315669",
     "status": "completed"
    },
    "tags": []
   },
   "outputs": [
    {
     "data": {
      "text/plain": [
       "(tensor(0.1210), tensor(0.2216))"
      ]
     },
     "execution_count": 13,
     "metadata": {},
     "output_type": "execute_result"
    }
   ],
   "source": [
    "F.l1_loss(sample3.float(), mean3), F.mse_loss(sample3, mean3).sqrt()"
   ]
  },
  {
   "cell_type": "markdown",
   "id": "0a3ad48a",
   "metadata": {
    "papermill": {
     "duration": 0.02265,
     "end_time": "2024-04-06T17:07:48.431280",
     "exception": false,
     "start_time": "2024-04-06T17:07:48.408630",
     "status": "completed"
    },
    "tags": []
   },
   "source": [
    "### Test the model against a validation set"
   ]
  },
  {
   "cell_type": "code",
   "execution_count": 14,
   "id": "ecc404ad",
   "metadata": {
    "execution": {
     "iopub.execute_input": "2024-04-06T17:07:48.545682Z",
     "iopub.status.busy": "2024-04-06T17:07:48.545260Z",
     "iopub.status.idle": "2024-04-06T17:07:49.258983Z",
     "shell.execute_reply": "2024-04-06T17:07:49.257999Z"
    },
    "papermill": {
     "duration": 0.741195,
     "end_time": "2024-04-06T17:07:49.261782",
     "exception": false,
     "start_time": "2024-04-06T17:07:48.520587",
     "status": "completed"
    },
    "tags": []
   },
   "outputs": [],
   "source": [
    "valid_3_tens = torch.stack([tensor(Image.open(o)) for o in (path/'valid'/'3').ls()])\n",
    "valid_3_tens = valid_3_tens.float()/255\n",
    "\n",
    "valid_7_tens = torch.stack([tensor(Image.open(o)) for o in (path/'valid'/'7').ls()])\n",
    "valid_7_tens = valid_7_tens.float()/255"
   ]
  },
  {
   "cell_type": "code",
   "execution_count": 15,
   "id": "60728b88",
   "metadata": {
    "execution": {
     "iopub.execute_input": "2024-04-06T17:07:49.313428Z",
     "iopub.status.busy": "2024-04-06T17:07:49.312913Z",
     "iopub.status.idle": "2024-04-06T17:07:49.322894Z",
     "shell.execute_reply": "2024-04-06T17:07:49.321755Z"
    },
    "papermill": {
     "duration": 0.037653,
     "end_time": "2024-04-06T17:07:49.325639",
     "exception": false,
     "start_time": "2024-04-06T17:07:49.287986",
     "status": "completed"
    },
    "tags": []
   },
   "outputs": [
    {
     "data": {
      "text/plain": [
       "(tensor(0.1210), tensor(0.1769))"
      ]
     },
     "execution_count": 15,
     "metadata": {},
     "output_type": "execute_result"
    }
   ],
   "source": [
    "def distance_from_mean(a, b):\n",
    "    return (a - b).abs().mean((-1, -2)) # average along the last two axes\n",
    "\n",
    "distance_from_mean(sample3, mean3), distance_from_mean(sample3, mean7)"
   ]
  },
  {
   "cell_type": "markdown",
   "id": "59389736",
   "metadata": {
    "papermill": {
     "duration": 0.022917,
     "end_time": "2024-04-06T17:07:49.372529",
     "exception": false,
     "start_time": "2024-04-06T17:07:49.349612",
     "status": "completed"
    },
    "tags": []
   },
   "source": [
    "Make use of PyTorch broadcasting to compute the distance between every tensor in the validation set and the average tensor (much faster than a loop)"
   ]
  },
  {
   "cell_type": "code",
   "execution_count": 16,
   "id": "42eece43",
   "metadata": {
    "execution": {
     "iopub.execute_input": "2024-04-06T17:07:49.421266Z",
     "iopub.status.busy": "2024-04-06T17:07:49.420835Z",
     "iopub.status.idle": "2024-04-06T17:07:49.431630Z",
     "shell.execute_reply": "2024-04-06T17:07:49.430548Z"
    },
    "papermill": {
     "duration": 0.038265,
     "end_time": "2024-04-06T17:07:49.433930",
     "exception": false,
     "start_time": "2024-04-06T17:07:49.395665",
     "status": "completed"
    },
    "tags": []
   },
   "outputs": [
    {
     "data": {
      "text/plain": [
       "tensor(0.1296)"
      ]
     },
     "execution_count": 16,
     "metadata": {},
     "output_type": "execute_result"
    }
   ],
   "source": [
    "valid_3_dist = distance_from_mean(valid_3_tens, mean3)\n",
    "valid_3_dist.mean()"
   ]
  },
  {
   "cell_type": "markdown",
   "id": "f284d434",
   "metadata": {
    "papermill": {
     "duration": 0.023015,
     "end_time": "2024-04-06T17:07:49.480956",
     "exception": false,
     "start_time": "2024-04-06T17:07:49.457941",
     "status": "completed"
    },
    "tags": []
   },
   "source": [
    "Define classification function"
   ]
  },
  {
   "cell_type": "code",
   "execution_count": 17,
   "id": "b21494a1",
   "metadata": {
    "execution": {
     "iopub.execute_input": "2024-04-06T17:07:49.530452Z",
     "iopub.status.busy": "2024-04-06T17:07:49.529170Z",
     "iopub.status.idle": "2024-04-06T17:07:49.539025Z",
     "shell.execute_reply": "2024-04-06T17:07:49.538167Z"
    },
    "papermill": {
     "duration": 0.036725,
     "end_time": "2024-04-06T17:07:49.541197",
     "exception": false,
     "start_time": "2024-04-06T17:07:49.504472",
     "status": "completed"
    },
    "tags": []
   },
   "outputs": [
    {
     "data": {
      "text/plain": [
       "tensor(True)"
      ]
     },
     "execution_count": 17,
     "metadata": {},
     "output_type": "execute_result"
    }
   ],
   "source": [
    "def is_3(x):\n",
    "    return distance_from_mean(x, mean3) < distance_from_mean(x, mean7)\n",
    "\n",
    "is_3(sample3)"
   ]
  },
  {
   "cell_type": "markdown",
   "id": "dd288780",
   "metadata": {
    "papermill": {
     "duration": 0.023165,
     "end_time": "2024-04-06T17:07:49.588250",
     "exception": false,
     "start_time": "2024-04-06T17:07:49.565085",
     "status": "completed"
    },
    "tags": []
   },
   "source": [
    "Compute accuracy"
   ]
  },
  {
   "cell_type": "code",
   "execution_count": 18,
   "id": "14c17246",
   "metadata": {
    "execution": {
     "iopub.execute_input": "2024-04-06T17:07:49.639281Z",
     "iopub.status.busy": "2024-04-06T17:07:49.637951Z",
     "iopub.status.idle": "2024-04-06T17:07:49.655321Z",
     "shell.execute_reply": "2024-04-06T17:07:49.653942Z"
    },
    "papermill": {
     "duration": 0.045239,
     "end_time": "2024-04-06T17:07:49.658190",
     "exception": false,
     "start_time": "2024-04-06T17:07:49.612951",
     "status": "completed"
    },
    "tags": []
   },
   "outputs": [
    {
     "data": {
      "text/plain": [
       "tensor(0.9511)"
      ]
     },
     "execution_count": 18,
     "metadata": {},
     "output_type": "execute_result"
    }
   ],
   "source": [
    "accuracy_3s = is_3(valid_3_tens).float().mean()\n",
    "accuracy_7s = (1 - is_3(valid_7_tens).float()).mean()\n",
    "accuracy = (accuracy_3s + accuracy_7s) / 2\n",
    "\n",
    "accuracy"
   ]
  },
  {
   "cell_type": "markdown",
   "id": "1d800b3d",
   "metadata": {
    "papermill": {
     "duration": 0.02352,
     "end_time": "2024-04-06T17:07:49.708448",
     "exception": false,
     "start_time": "2024-04-06T17:07:49.684928",
     "status": "completed"
    },
    "tags": []
   },
   "source": [
    "# Computing gradients with PyTorch"
   ]
  },
  {
   "cell_type": "code",
   "execution_count": 19,
   "id": "8a18566c",
   "metadata": {
    "execution": {
     "iopub.execute_input": "2024-04-06T17:07:49.758674Z",
     "iopub.status.busy": "2024-04-06T17:07:49.758185Z",
     "iopub.status.idle": "2024-04-06T17:07:49.780067Z",
     "shell.execute_reply": "2024-04-06T17:07:49.778581Z"
    },
    "papermill": {
     "duration": 0.051134,
     "end_time": "2024-04-06T17:07:49.783512",
     "exception": false,
     "start_time": "2024-04-06T17:07:49.732378",
     "status": "completed"
    },
    "tags": []
   },
   "outputs": [
    {
     "data": {
      "text/plain": [
       "tensor([12.,  2., -4.])"
      ]
     },
     "execution_count": 19,
     "metadata": {},
     "output_type": "execute_result"
    }
   ],
   "source": [
    "xt = tensor([7., 2., -1.]).requires_grad_()\n",
    "\n",
    "def f(x):\n",
    "    return (x**2 - 2*x + 1).sum()\n",
    "\n",
    "yt = f(xt)\n",
    "\n",
    "yt.backward() # backpropagate gradient\n",
    "\n",
    "xt.grad # show gradient"
   ]
  },
  {
   "cell_type": "markdown",
   "id": "8bff072b",
   "metadata": {
    "papermill": {
     "duration": 0.030189,
     "end_time": "2024-04-06T17:07:49.841463",
     "exception": false,
     "start_time": "2024-04-06T17:07:49.811274",
     "status": "completed"
    },
    "tags": []
   },
   "source": [
    "## Example with simple 1D model"
   ]
  },
  {
   "cell_type": "code",
   "execution_count": 20,
   "id": "748b0ade",
   "metadata": {
    "execution": {
     "iopub.execute_input": "2024-04-06T17:07:49.898718Z",
     "iopub.status.busy": "2024-04-06T17:07:49.898263Z",
     "iopub.status.idle": "2024-04-06T17:07:50.236679Z",
     "shell.execute_reply": "2024-04-06T17:07:50.235311Z"
    },
    "papermill": {
     "duration": 0.367245,
     "end_time": "2024-04-06T17:07:50.239457",
     "exception": false,
     "start_time": "2024-04-06T17:07:49.872212",
     "status": "completed"
    },
    "tags": []
   },
   "outputs": [
    {
     "data": {
      "text/plain": [
       "<matplotlib.collections.PathCollection at 0x7ab0d0a535b0>"
      ]
     },
     "execution_count": 20,
     "metadata": {},
     "output_type": "execute_result"
    },
    {
     "data": {
      "image/png": "[encoded data removed]",
      "text/plain": [
       "<Figure size 640x480 with 1 Axes>"
      ]
     },
     "metadata": {},
     "output_type": "display_data"
    }
   ],
   "source": [
    "time = torch.arange(0, 20).float()\n",
    "speed = torch.randn(20) + 0.75 * (time - 9.5)**2 + 1\n",
    "plt.scatter(time, speed)"
   ]
  },
  {
   "cell_type": "code",
   "execution_count": 21,
   "id": "6ff64791",
   "metadata": {
    "execution": {
     "iopub.execute_input": "2024-04-06T17:07:50.291728Z",
     "iopub.status.busy": "2024-04-06T17:07:50.290738Z",
     "iopub.status.idle": "2024-04-06T17:07:50.297889Z",
     "shell.execute_reply": "2024-04-06T17:07:50.297083Z"
    },
    "papermill": {
     "duration": 0.036103,
     "end_time": "2024-04-06T17:07:50.300199",
     "exception": false,
     "start_time": "2024-04-06T17:07:50.264096",
     "status": "completed"
    },
    "tags": []
   },
   "outputs": [],
   "source": [
    "# speed function with adjustable parameters\n",
    "def f(t, params):\n",
    "    a, b, c = params\n",
    "    return a * t**2 + b * t + c\n",
    "\n",
    "# mean squared error function\n",
    "def mse(preds, targets):\n",
    "    return ((preds - targets)**2).mean()\n",
    "\n",
    "# plot predictions\n",
    "def show_preds(preds, ax=None):\n",
    "    if ax is None: ax=plt.subplots()[1]\n",
    "    ax.scatter(time, speed)\n",
    "    ax.scatter(time, to_np(preds), color='red')\n",
    "    ax.set_ylim(-300, 100)"
   ]
  },
  {
   "cell_type": "code",
   "execution_count": 22,
   "id": "524aa837",
   "metadata": {
    "execution": {
     "iopub.execute_input": "2024-04-06T17:07:50.351053Z",
     "iopub.status.busy": "2024-04-06T17:07:50.350548Z",
     "iopub.status.idle": "2024-04-06T17:07:50.359860Z",
     "shell.execute_reply": "2024-04-06T17:07:50.358708Z"
    },
    "papermill": {
     "duration": 0.037798,
     "end_time": "2024-04-06T17:07:50.362428",
     "exception": false,
     "start_time": "2024-04-06T17:07:50.324630",
     "status": "completed"
    },
    "tags": []
   },
   "outputs": [
    {
     "data": {
      "text/plain": [
       "tensor([-0.6590, -0.6192,  0.4147], requires_grad=True)"
      ]
     },
     "execution_count": 22,
     "metadata": {},
     "output_type": "execute_result"
    }
   ],
   "source": [
    "# initialize parameters\n",
    "params = torch.randn(3).requires_grad_()\n",
    "orig_params = params.clone()\n",
    "\n",
    "params"
   ]
  },
  {
   "cell_type": "code",
   "execution_count": 23,
   "id": "ba7962c6",
   "metadata": {
    "execution": {
     "iopub.execute_input": "2024-04-06T17:07:50.414367Z",
     "iopub.status.busy": "2024-04-06T17:07:50.413224Z",
     "iopub.status.idle": "2024-04-06T17:07:50.740599Z",
     "shell.execute_reply": "2024-04-06T17:07:50.739421Z"
    },
    "papermill": {
     "duration": 0.355793,
     "end_time": "2024-04-06T17:07:50.742971",
     "exception": false,
     "start_time": "2024-04-06T17:07:50.387178",
     "status": "completed"
    },
    "tags": []
   },
   "outputs": [
    {
     "data": {
      "image/png": "[encoded data removed]",
      "text/plain": [
       "<Figure size 640x480 with 1 Axes>"
      ]
     },
     "metadata": {},
     "output_type": "display_data"
    }
   ],
   "source": [
    "# make predictions\n",
    "preds = f(time, params)\n",
    "show_preds(preds)"
   ]
  },
  {
   "cell_type": "code",
   "execution_count": 24,
   "id": "b4f200e6",
   "metadata": {
    "execution": {
     "iopub.execute_input": "2024-04-06T17:07:50.795036Z",
     "iopub.status.busy": "2024-04-06T17:07:50.794317Z",
     "iopub.status.idle": "2024-04-06T17:07:50.802432Z",
     "shell.execute_reply": "2024-04-06T17:07:50.801178Z"
    },
    "papermill": {
     "duration": 0.037181,
     "end_time": "2024-04-06T17:07:50.804707",
     "exception": false,
     "start_time": "2024-04-06T17:07:50.767526",
     "status": "completed"
    },
    "tags": []
   },
   "outputs": [
    {
     "data": {
      "text/plain": [
       "tensor(20348.5820, grad_fn=<MeanBackward0>)"
      ]
     },
     "execution_count": 24,
     "metadata": {},
     "output_type": "execute_result"
    }
   ],
   "source": [
    "# calculate loss\n",
    "loss = mse(preds, speed)\n",
    "loss"
   ]
  },
  {
   "cell_type": "code",
   "execution_count": 25,
   "id": "c7a61851",
   "metadata": {
    "execution": {
     "iopub.execute_input": "2024-04-06T17:07:50.856187Z",
     "iopub.status.busy": "2024-04-06T17:07:50.855748Z",
     "iopub.status.idle": "2024-04-06T17:07:50.868357Z",
     "shell.execute_reply": "2024-04-06T17:07:50.867109Z"
    },
    "papermill": {
     "duration": 0.041534,
     "end_time": "2024-04-06T17:07:50.870931",
     "exception": false,
     "start_time": "2024-04-06T17:07:50.829397",
     "status": "completed"
    },
    "tags": []
   },
   "outputs": [
    {
     "data": {
      "text/plain": [
       "tensor([-47077.7539,  -3025.4839,   -226.4417])"
      ]
     },
     "execution_count": 25,
     "metadata": {},
     "output_type": "execute_result"
    }
   ],
   "source": [
    "# backpropagate gradients\n",
    "loss.backward()\n",
    "params.grad"
   ]
  },
  {
   "cell_type": "code",
   "execution_count": 26,
   "id": "0894dcec",
   "metadata": {
    "execution": {
     "iopub.execute_input": "2024-04-06T17:07:50.924030Z",
     "iopub.status.busy": "2024-04-06T17:07:50.923050Z",
     "iopub.status.idle": "2024-04-06T17:07:50.932704Z",
     "shell.execute_reply": "2024-04-06T17:07:50.931612Z"
    },
    "papermill": {
     "duration": 0.038918,
     "end_time": "2024-04-06T17:07:50.935110",
     "exception": false,
     "start_time": "2024-04-06T17:07:50.896192",
     "status": "completed"
    },
    "tags": []
   },
   "outputs": [
    {
     "data": {
      "text/plain": [
       "tensor([-0.1882, -0.5889,  0.4170], requires_grad=True)"
      ]
     },
     "execution_count": 26,
     "metadata": {},
     "output_type": "execute_result"
    }
   ],
   "source": [
    "# update parameters\n",
    "lr = 1e-5\n",
    "params.data -= params.grad.data * lr\n",
    "params.grad = None\n",
    "\n",
    "params"
   ]
  },
  {
   "cell_type": "code",
   "execution_count": 27,
   "id": "ae3332f8",
   "metadata": {
    "execution": {
     "iopub.execute_input": "2024-04-06T17:07:50.989523Z",
     "iopub.status.busy": "2024-04-06T17:07:50.989099Z",
     "iopub.status.idle": "2024-04-06T17:07:52.524352Z",
     "shell.execute_reply": "2024-04-06T17:07:52.523088Z"
    },
    "papermill": {
     "duration": 1.566547,
     "end_time": "2024-04-06T17:07:52.527076",
     "exception": false,
     "start_time": "2024-04-06T17:07:50.960529",
     "status": "completed"
    },
    "tags": []
   },
   "outputs": [
    {
     "name": "stdout",
     "output_type": "stream",
     "text": [
      "4380.40625\n",
      "1358.7364501953125\n",
      "786.9408569335938\n",
      "678.736328125\n",
      "658.2574462890625\n",
      "654.37890625\n",
      "653.6417846679688\n",
      "653.4989624023438\n"
     ]
    },
    {
     "data": {
      "image/png": "[encoded data removed]",
      "text/plain": [
       "<Figure size 1200x300 with 8 Axes>"
      ]
     },
     "metadata": {},
     "output_type": "display_data"
    }
   ],
   "source": [
    "# repeat\n",
    "def apply_step(params, prn=True):\n",
    "    preds = f(time, params)\n",
    "    loss = mse(preds, speed)\n",
    "    loss.backward()\n",
    "    params.data -= lr * params.grad.data\n",
    "    params.grad = None\n",
    "    if prn: print(loss.item())\n",
    "    return preds\n",
    "\n",
    "_,axs = plt.subplots(2,4,figsize=(12,3))\n",
    "for ax in axs.ravel(): show_preds(apply_step(params), ax)\n",
    "plt.tight_layout()"
   ]
  },
  {
   "cell_type": "markdown",
   "id": "d2ac6443",
   "metadata": {
    "papermill": {
     "duration": 0.025935,
     "end_time": "2024-04-06T17:07:52.579041",
     "exception": false,
     "start_time": "2024-04-06T17:07:52.553106",
     "status": "completed"
    },
    "tags": []
   },
   "source": [
    "# Gradient descent in MNIST\n",
    "\n",
    "Create training and validation datasets:\n",
    "* concatenate all training/validation data into one vector, and transform 2D pixel matrices into 1D vectors\n",
    "* create labels as a sequence of 1's and 0's\n",
    "* create dataset pairing each image with its label"
   ]
  },
  {
   "cell_type": "code",
   "execution_count": 28,
   "id": "69756bb5",
   "metadata": {
    "execution": {
     "iopub.execute_input": "2024-04-06T17:07:52.632853Z",
     "iopub.status.busy": "2024-04-06T17:07:52.632432Z",
     "iopub.status.idle": "2024-04-06T17:07:52.967354Z",
     "shell.execute_reply": "2024-04-06T17:07:52.966123Z"
    },
    "papermill": {
     "duration": 0.364683,
     "end_time": "2024-04-06T17:07:52.969973",
     "exception": false,
     "start_time": "2024-04-06T17:07:52.605290",
     "status": "completed"
    },
    "tags": []
   },
   "outputs": [
    {
     "data": {
      "text/plain": [
       "(torch.Size([12396, 784]), torch.Size([12396, 1]))"
      ]
     },
     "execution_count": 28,
     "metadata": {},
     "output_type": "execute_result"
    }
   ],
   "source": [
    "x_train = torch.cat([stacked_threes, stacked_sevens]).view(-1, 28*28)\n",
    "y_train = tensor([1] * len(threes) + [0] * len(sevens)).unsqueeze(1)\n",
    "dset_train = list(zip(x_train, y_train))\n",
    "\n",
    "x_train.shape, y_train.shape"
   ]
  },
  {
   "cell_type": "code",
   "execution_count": 29,
   "id": "5fe11e10",
   "metadata": {
    "execution": {
     "iopub.execute_input": "2024-04-06T17:07:53.025960Z",
     "iopub.status.busy": "2024-04-06T17:07:53.025545Z",
     "iopub.status.idle": "2024-04-06T17:07:53.045687Z",
     "shell.execute_reply": "2024-04-06T17:07:53.044409Z"
    },
    "papermill": {
     "duration": 0.052247,
     "end_time": "2024-04-06T17:07:53.048242",
     "exception": false,
     "start_time": "2024-04-06T17:07:52.995995",
     "status": "completed"
    },
    "tags": []
   },
   "outputs": [
    {
     "data": {
      "text/plain": [
       "(torch.Size([2038, 784]), torch.Size([2038, 1]))"
      ]
     },
     "execution_count": 29,
     "metadata": {},
     "output_type": "execute_result"
    }
   ],
   "source": [
    "x_valid = torch.cat([valid_3_tens, valid_7_tens]).view(-1, 28*28)\n",
    "y_valid = tensor([1] * len(valid_3_tens) + [0] * len(valid_7_tens)).unsqueeze(1)\n",
    "dset_valid = list(zip(x_valid, y_valid))\n",
    "\n",
    "x_valid.shape, y_valid.shape"
   ]
  },
  {
   "cell_type": "markdown",
   "id": "09f87b00",
   "metadata": {
    "papermill": {
     "duration": 0.025608,
     "end_time": "2024-04-06T17:07:53.100013",
     "exception": false,
     "start_time": "2024-04-06T17:07:53.074405",
     "status": "completed"
    },
    "tags": []
   },
   "source": [
    "Initialize parameters"
   ]
  },
  {
   "cell_type": "code",
   "execution_count": 30,
   "id": "4f074c53",
   "metadata": {
    "execution": {
     "iopub.execute_input": "2024-04-06T17:07:53.155130Z",
     "iopub.status.busy": "2024-04-06T17:07:53.153991Z",
     "iopub.status.idle": "2024-04-06T17:07:53.160339Z",
     "shell.execute_reply": "2024-04-06T17:07:53.159564Z"
    },
    "papermill": {
     "duration": 0.036548,
     "end_time": "2024-04-06T17:07:53.162629",
     "exception": false,
     "start_time": "2024-04-06T17:07:53.126081",
     "status": "completed"
    },
    "tags": []
   },
   "outputs": [],
   "source": [
    "def init_params(size, std=1.):\n",
    "    return (torch.randn(size) * std).requires_grad_()\n",
    "\n",
    "weights = init_params((28*28, 1))\n",
    "bias = init_params(1)"
   ]
  },
  {
   "cell_type": "markdown",
   "id": "01233a3f",
   "metadata": {
    "papermill": {
     "duration": 0.025494,
     "end_time": "2024-04-06T17:07:53.213998",
     "exception": false,
     "start_time": "2024-04-06T17:07:53.188504",
     "status": "completed"
    },
    "tags": []
   },
   "source": [
    "Make predictions on training dataset"
   ]
  },
  {
   "cell_type": "code",
   "execution_count": 31,
   "id": "ae9f051f",
   "metadata": {
    "execution": {
     "iopub.execute_input": "2024-04-06T17:07:53.267594Z",
     "iopub.status.busy": "2024-04-06T17:07:53.267168Z",
     "iopub.status.idle": "2024-04-06T17:07:53.285920Z",
     "shell.execute_reply": "2024-04-06T17:07:53.284711Z"
    },
    "papermill": {
     "duration": 0.048667,
     "end_time": "2024-04-06T17:07:53.288384",
     "exception": false,
     "start_time": "2024-04-06T17:07:53.239717",
     "status": "completed"
    },
    "tags": []
   },
   "outputs": [
    {
     "data": {
      "text/plain": [
       "tensor([[ 9.5542],\n",
       "        [ 8.3013],\n",
       "        [13.0523],\n",
       "        ...,\n",
       "        [-8.5849],\n",
       "        [ 7.0387],\n",
       "        [ 5.9690]], grad_fn=<AddBackward0>)"
      ]
     },
     "execution_count": 31,
     "metadata": {},
     "output_type": "execute_result"
    }
   ],
   "source": [
    "def linear1(x):\n",
    "    return x @ weights + bias\n",
    "\n",
    "preds = linear1(x_train)\n",
    "preds"
   ]
  },
  {
   "cell_type": "markdown",
   "id": "fa969d46",
   "metadata": {
    "papermill": {
     "duration": 0.025865,
     "end_time": "2024-04-06T17:07:53.340486",
     "exception": false,
     "start_time": "2024-04-06T17:07:53.314621",
     "status": "completed"
    },
    "tags": []
   },
   "source": [
    "Check accuracy"
   ]
  },
  {
   "cell_type": "code",
   "execution_count": 32,
   "id": "2c3659cf",
   "metadata": {
    "execution": {
     "iopub.execute_input": "2024-04-06T17:07:53.395357Z",
     "iopub.status.busy": "2024-04-06T17:07:53.394571Z",
     "iopub.status.idle": "2024-04-06T17:07:53.402763Z",
     "shell.execute_reply": "2024-04-06T17:07:53.401655Z"
    },
    "papermill": {
     "duration": 0.038345,
     "end_time": "2024-04-06T17:07:53.405045",
     "exception": false,
     "start_time": "2024-04-06T17:07:53.366700",
     "status": "completed"
    },
    "tags": []
   },
   "outputs": [
    {
     "data": {
      "text/plain": [
       "0.5212165117263794"
      ]
     },
     "execution_count": 32,
     "metadata": {},
     "output_type": "execute_result"
    }
   ],
   "source": [
    "corrects = (preds > 0.0).float() == y_train\n",
    "corrects.float().mean().item()"
   ]
  },
  {
   "cell_type": "markdown",
   "id": "3ff742b0",
   "metadata": {
    "papermill": {
     "duration": 0.026241,
     "end_time": "2024-04-06T17:07:53.457349",
     "exception": false,
     "start_time": "2024-04-06T17:07:53.431108",
     "status": "completed"
    },
    "tags": []
   },
   "source": [
    "Define loss function"
   ]
  },
  {
   "cell_type": "code",
   "execution_count": 33,
   "id": "d7738a8c",
   "metadata": {
    "execution": {
     "iopub.execute_input": "2024-04-06T17:07:53.512500Z",
     "iopub.status.busy": "2024-04-06T17:07:53.511689Z",
     "iopub.status.idle": "2024-04-06T17:07:53.517465Z",
     "shell.execute_reply": "2024-04-06T17:07:53.516586Z"
    },
    "papermill": {
     "duration": 0.03621,
     "end_time": "2024-04-06T17:07:53.520002",
     "exception": false,
     "start_time": "2024-04-06T17:07:53.483792",
     "status": "completed"
    },
    "tags": []
   },
   "outputs": [],
   "source": [
    "def mnist_loss(predictions, targets):\n",
    "    predictions = predictions.sigmoid() # ensure predictions are between 0 and 1\n",
    "    return torch.where(targets == 1, 1 - predictions, predictions).mean()"
   ]
  },
  {
   "cell_type": "markdown",
   "id": "bbd4c539",
   "metadata": {
    "papermill": {
     "duration": 0.02658,
     "end_time": "2024-04-06T17:07:53.572941",
     "exception": false,
     "start_time": "2024-04-06T17:07:53.546361",
     "status": "completed"
    },
    "tags": []
   },
   "source": [
    "## Mini-batch SGD\n",
    "Re-initialize parameters"
   ]
  },
  {
   "cell_type": "code",
   "execution_count": 34,
   "id": "1664edb5",
   "metadata": {
    "execution": {
     "iopub.execute_input": "2024-04-06T17:07:53.629027Z",
     "iopub.status.busy": "2024-04-06T17:07:53.627951Z",
     "iopub.status.idle": "2024-04-06T17:07:53.633678Z",
     "shell.execute_reply": "2024-04-06T17:07:53.632645Z"
    },
    "papermill": {
     "duration": 0.036645,
     "end_time": "2024-04-06T17:07:53.636285",
     "exception": false,
     "start_time": "2024-04-06T17:07:53.599640",
     "status": "completed"
    },
    "tags": []
   },
   "outputs": [],
   "source": [
    "weights = init_params((28*28, 1))\n",
    "bias = init_params(1)"
   ]
  },
  {
   "cell_type": "markdown",
   "id": "749a5172",
   "metadata": {
    "papermill": {
     "duration": 0.026086,
     "end_time": "2024-04-06T17:07:53.688869",
     "exception": false,
     "start_time": "2024-04-06T17:07:53.662783",
     "status": "completed"
    },
    "tags": []
   },
   "source": [
    "Create `DataLoader` to take mini-batches of the training set and shuffle them at each epoch"
   ]
  },
  {
   "cell_type": "code",
   "execution_count": 35,
   "id": "d8aea144",
   "metadata": {
    "execution": {
     "iopub.execute_input": "2024-04-06T17:07:53.743213Z",
     "iopub.status.busy": "2024-04-06T17:07:53.742818Z",
     "iopub.status.idle": "2024-04-06T17:07:53.756272Z",
     "shell.execute_reply": "2024-04-06T17:07:53.754915Z"
    },
    "papermill": {
     "duration": 0.043754,
     "end_time": "2024-04-06T17:07:53.758875",
     "exception": false,
     "start_time": "2024-04-06T17:07:53.715121",
     "status": "completed"
    },
    "tags": []
   },
   "outputs": [
    {
     "data": {
      "text/plain": [
       "(torch.Size([256, 784]), torch.Size([256, 1]))"
      ]
     },
     "execution_count": 35,
     "metadata": {},
     "output_type": "execute_result"
    }
   ],
   "source": [
    "dl_train = DataLoader(dset_train, batch_size=256)\n",
    "dl_valid = DataLoader(dset_valid, batch_size=256)\n",
    "\n",
    "xd, yd = first(dl_train)\n",
    "xd.shape, yd.shape"
   ]
  },
  {
   "cell_type": "markdown",
   "id": "dd9348b4",
   "metadata": {
    "papermill": {
     "duration": 0.025869,
     "end_time": "2024-04-06T17:07:53.811223",
     "exception": false,
     "start_time": "2024-04-06T17:07:53.785354",
     "status": "completed"
    },
    "tags": []
   },
   "source": [
    "For each epoch:\n",
    "* compute predictions\n",
    "* compute gradients\n",
    "* update parameters\n",
    "* reset gradients to zero (otherwise PyTorch would keep adding them up)\n",
    "* compute accuracy to display\n",
    "\n",
    "(note: PyTorch methods ending with an underscore modify objects in place)"
   ]
  },
  {
   "cell_type": "code",
   "execution_count": 36,
   "id": "c31d79c0",
   "metadata": {
    "execution": {
     "iopub.execute_input": "2024-04-06T17:07:53.865841Z",
     "iopub.status.busy": "2024-04-06T17:07:53.865423Z",
     "iopub.status.idle": "2024-04-06T17:07:53.872672Z",
     "shell.execute_reply": "2024-04-06T17:07:53.871394Z"
    },
    "papermill": {
     "duration": 0.037488,
     "end_time": "2024-04-06T17:07:53.875021",
     "exception": false,
     "start_time": "2024-04-06T17:07:53.837533",
     "status": "completed"
    },
    "tags": []
   },
   "outputs": [],
   "source": [
    "def calc_grad(xb, yb, model):\n",
    "    preds = model(xb)\n",
    "    loss = mnist_loss(preds, yb)\n",
    "    loss.backward()\n",
    "    \n",
    "def train_epoch(model, lr, params):\n",
    "    for xb, yb in dl_train:\n",
    "        calc_grad(xb, yb, model)\n",
    "        for p in params:\n",
    "            p.data -= p.grad * lr\n",
    "            p.grad.zero_()"
   ]
  },
  {
   "cell_type": "code",
   "execution_count": 37,
   "id": "595e9d31",
   "metadata": {
    "execution": {
     "iopub.execute_input": "2024-04-06T17:07:53.931759Z",
     "iopub.status.busy": "2024-04-06T17:07:53.930893Z",
     "iopub.status.idle": "2024-04-06T17:07:53.938145Z",
     "shell.execute_reply": "2024-04-06T17:07:53.936987Z"
    },
    "papermill": {
     "duration": 0.03849,
     "end_time": "2024-04-06T17:07:53.940567",
     "exception": false,
     "start_time": "2024-04-06T17:07:53.902077",
     "status": "completed"
    },
    "tags": []
   },
   "outputs": [],
   "source": [
    "def batch_accuracy(xb, yb):\n",
    "    preds = xb.sigmoid()\n",
    "    correct = (preds > 0.5) == yb\n",
    "    return correct.float().mean()\n",
    "\n",
    "\n",
    "def validate_epoch(model):\n",
    "    accs = [batch_accuracy(model(xb), yb) for xb, yb in dl_valid]\n",
    "    return round(torch.stack(accs).mean().item(), 4)"
   ]
  },
  {
   "cell_type": "code",
   "execution_count": 38,
   "id": "3be53cbd",
   "metadata": {
    "execution": {
     "iopub.execute_input": "2024-04-06T17:07:53.997023Z",
     "iopub.status.busy": "2024-04-06T17:07:53.996251Z",
     "iopub.status.idle": "2024-04-06T17:07:55.762036Z",
     "shell.execute_reply": "2024-04-06T17:07:55.760670Z"
    },
    "papermill": {
     "duration": 1.797476,
     "end_time": "2024-04-06T17:07:55.764515",
     "exception": false,
     "start_time": "2024-04-06T17:07:53.967039",
     "status": "completed"
    },
    "tags": []
   },
   "outputs": [
    {
     "name": "stdout",
     "output_type": "stream",
     "text": [
      "0.8218  0.9062  0.932  0.9418  0.9462  0.951  0.9545  0.9569  0.9584  0.9608  0.9603  0.9632  0.9652  0.9672  0.9681  0.9696  0.9696  0.9706  0.9716  0.9725  "
     ]
    }
   ],
   "source": [
    "lr = 1.\n",
    "params = (weights, bias)\n",
    "\n",
    "for i in range(20):\n",
    "    train_epoch(linear1, lr, params)\n",
    "    print(validate_epoch(linear1), end='  ')"
   ]
  },
  {
   "cell_type": "markdown",
   "id": "72e482c8",
   "metadata": {
    "papermill": {
     "duration": 0.026752,
     "end_time": "2024-04-06T17:07:55.820577",
     "exception": false,
     "start_time": "2024-04-06T17:07:55.793825",
     "status": "completed"
    },
    "tags": []
   },
   "source": [
    "## Creating an optimizer\n",
    "\n",
    "Replace handmade linear model with PyTorch's `nn.Linear`. This includes parameter initialization and linear model creation. The parameters can be accessed through `nn.Linear.parameters()`."
   ]
  },
  {
   "cell_type": "code",
   "execution_count": 39,
   "id": "31827b5d",
   "metadata": {
    "execution": {
     "iopub.execute_input": "2024-04-06T17:07:55.876753Z",
     "iopub.status.busy": "2024-04-06T17:07:55.876277Z",
     "iopub.status.idle": "2024-04-06T17:07:55.886723Z",
     "shell.execute_reply": "2024-04-06T17:07:55.885468Z"
    },
    "papermill": {
     "duration": 0.041438,
     "end_time": "2024-04-06T17:07:55.889189",
     "exception": false,
     "start_time": "2024-04-06T17:07:55.847751",
     "status": "completed"
    },
    "tags": []
   },
   "outputs": [
    {
     "data": {
      "text/plain": [
       "(torch.Size([1, 784]), torch.Size([1]))"
      ]
     },
     "execution_count": 39,
     "metadata": {},
     "output_type": "execute_result"
    }
   ],
   "source": [
    "linear_model = nn.Linear(28*28, 1)\n",
    "\n",
    "w, b = linear_model.parameters()\n",
    "w.shape, b.shape"
   ]
  },
  {
   "cell_type": "markdown",
   "id": "e3eb5fbe",
   "metadata": {
    "papermill": {
     "duration": 0.027864,
     "end_time": "2024-04-06T17:07:55.945628",
     "exception": false,
     "start_time": "2024-04-06T17:07:55.917764",
     "status": "completed"
    },
    "tags": []
   },
   "source": [
    "Create optimizer class, including method for updating parameters and method for resetting gradients"
   ]
  },
  {
   "cell_type": "code",
   "execution_count": 40,
   "id": "5ef6af46",
   "metadata": {
    "execution": {
     "iopub.execute_input": "2024-04-06T17:07:56.002634Z",
     "iopub.status.busy": "2024-04-06T17:07:56.002229Z",
     "iopub.status.idle": "2024-04-06T17:07:56.009216Z",
     "shell.execute_reply": "2024-04-06T17:07:56.007832Z"
    },
    "papermill": {
     "duration": 0.038633,
     "end_time": "2024-04-06T17:07:56.011558",
     "exception": false,
     "start_time": "2024-04-06T17:07:55.972925",
     "status": "completed"
    },
    "tags": []
   },
   "outputs": [],
   "source": [
    "class BasicOptim:\n",
    "    def __init__(self, params, lr): \n",
    "        self.params, self.lr = list(params), lr\n",
    "\n",
    "    def step(self, *args, **kwargs):\n",
    "        for p in self.params: \n",
    "            p.data -= p.grad.data * self.lr\n",
    "\n",
    "    def zero_grad(self, *args, **kwargs):\n",
    "        for p in self.params: \n",
    "            p.grad = None"
   ]
  },
  {
   "cell_type": "markdown",
   "id": "6d837d8d",
   "metadata": {
    "papermill": {
     "duration": 0.027795,
     "end_time": "2024-04-06T17:07:56.066977",
     "exception": false,
     "start_time": "2024-04-06T17:07:56.039182",
     "status": "completed"
    },
    "tags": []
   },
   "source": [
    "Create optimizer and simplify epoch training function"
   ]
  },
  {
   "cell_type": "code",
   "execution_count": 41,
   "id": "886f5a82",
   "metadata": {
    "execution": {
     "iopub.execute_input": "2024-04-06T17:07:56.124011Z",
     "iopub.status.busy": "2024-04-06T17:07:56.123605Z",
     "iopub.status.idle": "2024-04-06T17:07:56.129883Z",
     "shell.execute_reply": "2024-04-06T17:07:56.128815Z"
    },
    "papermill": {
     "duration": 0.037617,
     "end_time": "2024-04-06T17:07:56.132480",
     "exception": false,
     "start_time": "2024-04-06T17:07:56.094863",
     "status": "completed"
    },
    "tags": []
   },
   "outputs": [],
   "source": [
    "opt = BasicOptim(linear_model.parameters(), lr)\n",
    "\n",
    "def train_epoch(model):\n",
    "    for xb, yb in dl_train:\n",
    "        calc_grad(xb, yb, model)\n",
    "        opt.step()\n",
    "        opt.zero_grad()"
   ]
  },
  {
   "cell_type": "markdown",
   "id": "a7f6bdf7",
   "metadata": {
    "papermill": {
     "duration": 0.027014,
     "end_time": "2024-04-06T17:07:56.187514",
     "exception": false,
     "start_time": "2024-04-06T17:07:56.160500",
     "status": "completed"
    },
    "tags": []
   },
   "source": [
    "Train model"
   ]
  },
  {
   "cell_type": "code",
   "execution_count": 42,
   "id": "74451544",
   "metadata": {
    "execution": {
     "iopub.execute_input": "2024-04-06T17:07:56.244490Z",
     "iopub.status.busy": "2024-04-06T17:07:56.244076Z",
     "iopub.status.idle": "2024-04-06T17:07:58.007554Z",
     "shell.execute_reply": "2024-04-06T17:07:58.006660Z"
    },
    "papermill": {
     "duration": 1.794488,
     "end_time": "2024-04-06T17:07:58.010031",
     "exception": false,
     "start_time": "2024-04-06T17:07:56.215543",
     "status": "completed"
    },
    "tags": []
   },
   "outputs": [
    {
     "name": "stdout",
     "output_type": "stream",
     "text": [
      "0.4932  0.8374  0.8364  0.9111  0.9326  0.9453  0.9545  0.9623  0.9658  0.9667  0.9682  0.9711  0.9726  0.975  0.976  0.9765  0.9775  0.9775  0.978  0.9785  "
     ]
    }
   ],
   "source": [
    "def train_model(model, epochs):\n",
    "    for i in range(epochs):\n",
    "        train_epoch(model)\n",
    "        print(validate_epoch(model), end='  ')\n",
    "        \n",
    "train_model(linear_model, 20)"
   ]
  },
  {
   "cell_type": "markdown",
   "id": "8fb5de4b",
   "metadata": {
    "papermill": {
     "duration": 0.031125,
     "end_time": "2024-04-06T17:07:58.070303",
     "exception": false,
     "start_time": "2024-04-06T17:07:58.039178",
     "status": "completed"
    },
    "tags": []
   },
   "source": [
    "## Use FastAI library functions\n",
    "Use FastAI's `SGD` class instead of `BasicOptimizer`"
   ]
  },
  {
   "cell_type": "code",
   "execution_count": 43,
   "id": "8b8c5c57",
   "metadata": {
    "execution": {
     "iopub.execute_input": "2024-04-06T17:07:58.129558Z",
     "iopub.status.busy": "2024-04-06T17:07:58.129130Z",
     "iopub.status.idle": "2024-04-06T17:08:00.116299Z",
     "shell.execute_reply": "2024-04-06T17:08:00.115397Z"
    },
    "papermill": {
     "duration": 2.021045,
     "end_time": "2024-04-06T17:08:00.119565",
     "exception": false,
     "start_time": "2024-04-06T17:07:58.098520",
     "status": "completed"
    },
    "tags": []
   },
   "outputs": [
    {
     "name": "stdout",
     "output_type": "stream",
     "text": [
      "0.4932  0.8281  0.8476  0.9145  0.9331  0.9472  0.9565  0.9623  0.9653  0.9677  0.9702  0.9721  0.9741  0.975  0.976  0.977  0.9775  0.978  0.9785  0.9785  "
     ]
    }
   ],
   "source": [
    "linear_model = nn.Linear(28*28, 1)\n",
    "opt = SGD(linear_model.parameters(), lr)\n",
    "train_model(linear_model, 20)"
   ]
  },
  {
   "cell_type": "markdown",
   "id": "cd99b325",
   "metadata": {
    "papermill": {
     "duration": 0.030412,
     "end_time": "2024-04-06T17:08:00.189962",
     "exception": false,
     "start_time": "2024-04-06T17:08:00.159550",
     "status": "completed"
    },
    "tags": []
   },
   "source": [
    "Use FastAI's `Learner.fit()` instead of `train_model`. To do so, we need to load the data into a `DataLoaders`"
   ]
  },
  {
   "cell_type": "code",
   "execution_count": 44,
   "id": "a7fe927a",
   "metadata": {
    "execution": {
     "iopub.execute_input": "2024-04-06T17:08:00.253537Z",
     "iopub.status.busy": "2024-04-06T17:08:00.253061Z",
     "iopub.status.idle": "2024-04-06T17:08:04.687250Z",
     "shell.execute_reply": "2024-04-06T17:08:04.685994Z"
    },
    "papermill": {
     "duration": 4.469022,
     "end_time": "2024-04-06T17:08:04.689931",
     "exception": false,
     "start_time": "2024-04-06T17:08:00.220909",
     "status": "completed"
    },
    "tags": []
   },
   "outputs": [
    {
     "data": {
      "text/html": [
       "\n",
       "<style>\n",
       "    /* Turns off some styling */\n",
       "    progress {\n",
       "        /* gets rid of default border in Firefox and Opera. */\n",
       "        border: none;\n",
       "        /* Needs to be in here for Safari polyfill so background images work as expected. */\n",
       "        background-size: auto;\n",
       "    }\n",
       "    progress:not([value]), progress:not([value])::-webkit-progress-bar {\n",
       "        background: repeating-linear-gradient(45deg, #7e7e7e, #7e7e7e 10px, #5c5c5c 10px, #5c5c5c 20px);\n",
       "    }\n",
       "    .progress-bar-interrupted, .progress-bar-interrupted::-webkit-progress-bar {\n",
       "        background: #F44336;\n",
       "    }\n",
       "</style>\n"
      ],
      "text/plain": [
       "<IPython.core.display.HTML object>"
      ]
     },
     "metadata": {},
     "output_type": "display_data"
    },
    {
     "data": {
      "text/html": [
       "<table border=\"1\" class=\"dataframe\">\n",
       "  <thead>\n",
       "    <tr style=\"text-align: left;\">\n",
       "      <th>epoch</th>\n",
       "      <th>train_loss</th>\n",
       "      <th>valid_loss</th>\n",
       "      <th>batch_accuracy</th>\n",
       "      <th>time</th>\n",
       "    </tr>\n",
       "  </thead>\n",
       "  <tbody>\n",
       "    <tr>\n",
       "      <td>0</td>\n",
       "      <td>0.637112</td>\n",
       "      <td>0.503690</td>\n",
       "      <td>0.495584</td>\n",
       "      <td>00:00</td>\n",
       "    </tr>\n",
       "    <tr>\n",
       "      <td>1</td>\n",
       "      <td>0.626645</td>\n",
       "      <td>0.115841</td>\n",
       "      <td>0.924926</td>\n",
       "      <td>00:00</td>\n",
       "    </tr>\n",
       "    <tr>\n",
       "      <td>2</td>\n",
       "      <td>0.226182</td>\n",
       "      <td>0.284064</td>\n",
       "      <td>0.721786</td>\n",
       "      <td>00:00</td>\n",
       "    </tr>\n",
       "    <tr>\n",
       "      <td>3</td>\n",
       "      <td>0.097728</td>\n",
       "      <td>0.134577</td>\n",
       "      <td>0.882237</td>\n",
       "      <td>00:00</td>\n",
       "    </tr>\n",
       "    <tr>\n",
       "      <td>4</td>\n",
       "      <td>0.049993</td>\n",
       "      <td>0.090614</td>\n",
       "      <td>0.919529</td>\n",
       "      <td>00:00</td>\n",
       "    </tr>\n",
       "    <tr>\n",
       "      <td>5</td>\n",
       "      <td>0.031399</td>\n",
       "      <td>0.069885</td>\n",
       "      <td>0.938665</td>\n",
       "      <td>00:00</td>\n",
       "    </tr>\n",
       "    <tr>\n",
       "      <td>6</td>\n",
       "      <td>0.023739</td>\n",
       "      <td>0.057643</td>\n",
       "      <td>0.951914</td>\n",
       "      <td>00:00</td>\n",
       "    </tr>\n",
       "    <tr>\n",
       "      <td>7</td>\n",
       "      <td>0.020370</td>\n",
       "      <td>0.049707</td>\n",
       "      <td>0.959764</td>\n",
       "      <td>00:00</td>\n",
       "    </tr>\n",
       "    <tr>\n",
       "      <td>8</td>\n",
       "      <td>0.018709</td>\n",
       "      <td>0.044270</td>\n",
       "      <td>0.964181</td>\n",
       "      <td>00:00</td>\n",
       "    </tr>\n",
       "    <tr>\n",
       "      <td>9</td>\n",
       "      <td>0.017749</td>\n",
       "      <td>0.040358</td>\n",
       "      <td>0.966143</td>\n",
       "      <td>00:00</td>\n",
       "    </tr>\n",
       "    <tr>\n",
       "      <td>10</td>\n",
       "      <td>0.017093</td>\n",
       "      <td>0.037416</td>\n",
       "      <td>0.968106</td>\n",
       "      <td>00:00</td>\n",
       "    </tr>\n",
       "    <tr>\n",
       "      <td>11</td>\n",
       "      <td>0.016586</td>\n",
       "      <td>0.035117</td>\n",
       "      <td>0.970069</td>\n",
       "      <td>00:00</td>\n",
       "    </tr>\n",
       "    <tr>\n",
       "      <td>12</td>\n",
       "      <td>0.016163</td>\n",
       "      <td>0.033261</td>\n",
       "      <td>0.973013</td>\n",
       "      <td>00:00</td>\n",
       "    </tr>\n",
       "    <tr>\n",
       "      <td>13</td>\n",
       "      <td>0.015801</td>\n",
       "      <td>0.031727</td>\n",
       "      <td>0.974485</td>\n",
       "      <td>00:00</td>\n",
       "    </tr>\n",
       "    <tr>\n",
       "      <td>14</td>\n",
       "      <td>0.015489</td>\n",
       "      <td>0.030436</td>\n",
       "      <td>0.974975</td>\n",
       "      <td>00:00</td>\n",
       "    </tr>\n",
       "    <tr>\n",
       "      <td>15</td>\n",
       "      <td>0.015219</td>\n",
       "      <td>0.029335</td>\n",
       "      <td>0.975466</td>\n",
       "      <td>00:00</td>\n",
       "    </tr>\n",
       "    <tr>\n",
       "      <td>16</td>\n",
       "      <td>0.014985</td>\n",
       "      <td>0.028387</td>\n",
       "      <td>0.977429</td>\n",
       "      <td>00:00</td>\n",
       "    </tr>\n",
       "    <tr>\n",
       "      <td>17</td>\n",
       "      <td>0.014779</td>\n",
       "      <td>0.027565</td>\n",
       "      <td>0.977429</td>\n",
       "      <td>00:00</td>\n",
       "    </tr>\n",
       "    <tr>\n",
       "      <td>18</td>\n",
       "      <td>0.014597</td>\n",
       "      <td>0.026846</td>\n",
       "      <td>0.977429</td>\n",
       "      <td>00:00</td>\n",
       "    </tr>\n",
       "    <tr>\n",
       "      <td>19</td>\n",
       "      <td>0.014433</td>\n",
       "      <td>0.026212</td>\n",
       "      <td>0.977920</td>\n",
       "      <td>00:00</td>\n",
       "    </tr>\n",
       "  </tbody>\n",
       "</table>"
      ],
      "text/plain": [
       "<IPython.core.display.HTML object>"
      ]
     },
     "metadata": {},
     "output_type": "display_data"
    }
   ],
   "source": [
    "dls = DataLoaders(dl_train, dl_valid)\n",
    "learn = Learner(dls, nn.Linear(28*28, 1), opt_func=SGD,\n",
    "                loss_func=mnist_loss, metrics=batch_accuracy)\n",
    "\n",
    "learn.fit(20, lr=lr)"
   ]
  },
  {
   "cell_type": "markdown",
   "id": "c1c18477",
   "metadata": {
    "papermill": {
     "duration": 0.028992,
     "end_time": "2024-04-06T17:08:04.748940",
     "exception": false,
     "start_time": "2024-04-06T17:08:04.719948",
     "status": "completed"
    },
    "tags": []
   },
   "source": [
    "## Adding a nonlinearity\n",
    "Create a simple neural network containing a single hidden layer with 30 neurons. This is achieved with `nn.Sequential`, which is a model containing a sequence of models. "
   ]
  },
  {
   "cell_type": "code",
   "execution_count": 45,
   "id": "e8ce5f54",
   "metadata": {
    "execution": {
     "iopub.execute_input": "2024-04-06T17:08:04.809844Z",
     "iopub.status.busy": "2024-04-06T17:08:04.809402Z",
     "iopub.status.idle": "2024-04-06T17:08:04.816562Z",
     "shell.execute_reply": "2024-04-06T17:08:04.815310Z"
    },
    "papermill": {
     "duration": 0.040915,
     "end_time": "2024-04-06T17:08:04.819083",
     "exception": false,
     "start_time": "2024-04-06T17:08:04.778168",
     "status": "completed"
    },
    "tags": []
   },
   "outputs": [],
   "source": [
    "simple_net = nn.Sequential(nn.Linear(28*28, 30),\n",
    "                           nn.ReLU(),\n",
    "                           nn.Linear(30, 1))"
   ]
  },
  {
   "cell_type": "code",
   "execution_count": 46,
   "id": "802c28d1",
   "metadata": {
    "collapsed": true,
    "execution": {
     "iopub.execute_input": "2024-04-06T17:08:04.880292Z",
     "iopub.status.busy": "2024-04-06T17:08:04.879846Z",
     "iopub.status.idle": "2024-04-06T17:08:15.106747Z",
     "shell.execute_reply": "2024-04-06T17:08:15.105567Z"
    },
    "jupyter": {
     "outputs_hidden": true
    },
    "papermill": {
     "duration": 10.260729,
     "end_time": "2024-04-06T17:08:15.109306",
     "exception": false,
     "start_time": "2024-04-06T17:08:04.848577",
     "status": "completed"
    },
    "tags": []
   },
   "outputs": [
    {
     "data": {
      "text/html": [
       "\n",
       "<style>\n",
       "    /* Turns off some styling */\n",
       "    progress {\n",
       "        /* gets rid of default border in Firefox and Opera. */\n",
       "        border: none;\n",
       "        /* Needs to be in here for Safari polyfill so background images work as expected. */\n",
       "        background-size: auto;\n",
       "    }\n",
       "    progress:not([value]), progress:not([value])::-webkit-progress-bar {\n",
       "        background: repeating-linear-gradient(45deg, #7e7e7e, #7e7e7e 10px, #5c5c5c 10px, #5c5c5c 20px);\n",
       "    }\n",
       "    .progress-bar-interrupted, .progress-bar-interrupted::-webkit-progress-bar {\n",
       "        background: #F44336;\n",
       "    }\n",
       "</style>\n"
      ],
      "text/plain": [
       "<IPython.core.display.HTML object>"
      ]
     },
     "metadata": {},
     "output_type": "display_data"
    },
    {
     "data": {
      "text/html": [
       "<table border=\"1\" class=\"dataframe\">\n",
       "  <thead>\n",
       "    <tr style=\"text-align: left;\">\n",
       "      <th>epoch</th>\n",
       "      <th>train_loss</th>\n",
       "      <th>valid_loss</th>\n",
       "      <th>batch_accuracy</th>\n",
       "      <th>time</th>\n",
       "    </tr>\n",
       "  </thead>\n",
       "  <tbody>\n",
       "    <tr>\n",
       "      <td>0</td>\n",
       "      <td>0.339217</td>\n",
       "      <td>0.406252</td>\n",
       "      <td>0.505888</td>\n",
       "      <td>00:00</td>\n",
       "    </tr>\n",
       "    <tr>\n",
       "      <td>1</td>\n",
       "      <td>0.155670</td>\n",
       "      <td>0.239525</td>\n",
       "      <td>0.790481</td>\n",
       "      <td>00:00</td>\n",
       "    </tr>\n",
       "    <tr>\n",
       "      <td>2</td>\n",
       "      <td>0.085086</td>\n",
       "      <td>0.118616</td>\n",
       "      <td>0.912169</td>\n",
       "      <td>00:00</td>\n",
       "    </tr>\n",
       "    <tr>\n",
       "      <td>3</td>\n",
       "      <td>0.055166</td>\n",
       "      <td>0.079462</td>\n",
       "      <td>0.942591</td>\n",
       "      <td>00:00</td>\n",
       "    </tr>\n",
       "    <tr>\n",
       "      <td>4</td>\n",
       "      <td>0.041383</td>\n",
       "      <td>0.061868</td>\n",
       "      <td>0.954858</td>\n",
       "      <td>00:00</td>\n",
       "    </tr>\n",
       "    <tr>\n",
       "      <td>5</td>\n",
       "      <td>0.034401</td>\n",
       "      <td>0.052027</td>\n",
       "      <td>0.963690</td>\n",
       "      <td>00:00</td>\n",
       "    </tr>\n",
       "    <tr>\n",
       "      <td>6</td>\n",
       "      <td>0.030424</td>\n",
       "      <td>0.045853</td>\n",
       "      <td>0.965653</td>\n",
       "      <td>00:00</td>\n",
       "    </tr>\n",
       "    <tr>\n",
       "      <td>7</td>\n",
       "      <td>0.027862</td>\n",
       "      <td>0.041636</td>\n",
       "      <td>0.966634</td>\n",
       "      <td>00:00</td>\n",
       "    </tr>\n",
       "    <tr>\n",
       "      <td>8</td>\n",
       "      <td>0.026028</td>\n",
       "      <td>0.038567</td>\n",
       "      <td>0.968597</td>\n",
       "      <td>00:00</td>\n",
       "    </tr>\n",
       "    <tr>\n",
       "      <td>9</td>\n",
       "      <td>0.024615</td>\n",
       "      <td>0.036217</td>\n",
       "      <td>0.970069</td>\n",
       "      <td>00:00</td>\n",
       "    </tr>\n",
       "    <tr>\n",
       "      <td>10</td>\n",
       "      <td>0.023474</td>\n",
       "      <td>0.034351</td>\n",
       "      <td>0.971050</td>\n",
       "      <td>00:00</td>\n",
       "    </tr>\n",
       "    <tr>\n",
       "      <td>11</td>\n",
       "      <td>0.022525</td>\n",
       "      <td>0.032823</td>\n",
       "      <td>0.973013</td>\n",
       "      <td>00:00</td>\n",
       "    </tr>\n",
       "    <tr>\n",
       "      <td>12</td>\n",
       "      <td>0.021718</td>\n",
       "      <td>0.031542</td>\n",
       "      <td>0.973503</td>\n",
       "      <td>00:00</td>\n",
       "    </tr>\n",
       "    <tr>\n",
       "      <td>13</td>\n",
       "      <td>0.021022</td>\n",
       "      <td>0.030448</td>\n",
       "      <td>0.974485</td>\n",
       "      <td>00:00</td>\n",
       "    </tr>\n",
       "    <tr>\n",
       "      <td>14</td>\n",
       "      <td>0.020414</td>\n",
       "      <td>0.029498</td>\n",
       "      <td>0.974975</td>\n",
       "      <td>00:00</td>\n",
       "    </tr>\n",
       "    <tr>\n",
       "      <td>15</td>\n",
       "      <td>0.019876</td>\n",
       "      <td>0.028663</td>\n",
       "      <td>0.976938</td>\n",
       "      <td>00:00</td>\n",
       "    </tr>\n",
       "    <tr>\n",
       "      <td>16</td>\n",
       "      <td>0.019396</td>\n",
       "      <td>0.027922</td>\n",
       "      <td>0.977429</td>\n",
       "      <td>00:00</td>\n",
       "    </tr>\n",
       "    <tr>\n",
       "      <td>17</td>\n",
       "      <td>0.018964</td>\n",
       "      <td>0.027260</td>\n",
       "      <td>0.977429</td>\n",
       "      <td>00:00</td>\n",
       "    </tr>\n",
       "    <tr>\n",
       "      <td>18</td>\n",
       "      <td>0.018571</td>\n",
       "      <td>0.026664</td>\n",
       "      <td>0.977429</td>\n",
       "      <td>00:00</td>\n",
       "    </tr>\n",
       "    <tr>\n",
       "      <td>19</td>\n",
       "      <td>0.018213</td>\n",
       "      <td>0.026123</td>\n",
       "      <td>0.977429</td>\n",
       "      <td>00:00</td>\n",
       "    </tr>\n",
       "    <tr>\n",
       "      <td>20</td>\n",
       "      <td>0.017884</td>\n",
       "      <td>0.025632</td>\n",
       "      <td>0.977920</td>\n",
       "      <td>00:00</td>\n",
       "    </tr>\n",
       "    <tr>\n",
       "      <td>21</td>\n",
       "      <td>0.017579</td>\n",
       "      <td>0.025182</td>\n",
       "      <td>0.978410</td>\n",
       "      <td>00:00</td>\n",
       "    </tr>\n",
       "    <tr>\n",
       "      <td>22</td>\n",
       "      <td>0.017297</td>\n",
       "      <td>0.024769</td>\n",
       "      <td>0.978901</td>\n",
       "      <td>00:00</td>\n",
       "    </tr>\n",
       "    <tr>\n",
       "      <td>23</td>\n",
       "      <td>0.017033</td>\n",
       "      <td>0.024389</td>\n",
       "      <td>0.978901</td>\n",
       "      <td>00:00</td>\n",
       "    </tr>\n",
       "    <tr>\n",
       "      <td>24</td>\n",
       "      <td>0.016786</td>\n",
       "      <td>0.024037</td>\n",
       "      <td>0.979882</td>\n",
       "      <td>00:00</td>\n",
       "    </tr>\n",
       "    <tr>\n",
       "      <td>25</td>\n",
       "      <td>0.016554</td>\n",
       "      <td>0.023711</td>\n",
       "      <td>0.981354</td>\n",
       "      <td>00:00</td>\n",
       "    </tr>\n",
       "    <tr>\n",
       "      <td>26</td>\n",
       "      <td>0.016336</td>\n",
       "      <td>0.023408</td>\n",
       "      <td>0.981354</td>\n",
       "      <td>00:00</td>\n",
       "    </tr>\n",
       "    <tr>\n",
       "      <td>27</td>\n",
       "      <td>0.016129</td>\n",
       "      <td>0.023126</td>\n",
       "      <td>0.981354</td>\n",
       "      <td>00:00</td>\n",
       "    </tr>\n",
       "    <tr>\n",
       "      <td>28</td>\n",
       "      <td>0.015933</td>\n",
       "      <td>0.022864</td>\n",
       "      <td>0.981354</td>\n",
       "      <td>00:00</td>\n",
       "    </tr>\n",
       "    <tr>\n",
       "      <td>29</td>\n",
       "      <td>0.015748</td>\n",
       "      <td>0.022618</td>\n",
       "      <td>0.981354</td>\n",
       "      <td>00:00</td>\n",
       "    </tr>\n",
       "    <tr>\n",
       "      <td>30</td>\n",
       "      <td>0.015571</td>\n",
       "      <td>0.022389</td>\n",
       "      <td>0.981845</td>\n",
       "      <td>00:00</td>\n",
       "    </tr>\n",
       "    <tr>\n",
       "      <td>31</td>\n",
       "      <td>0.015402</td>\n",
       "      <td>0.022174</td>\n",
       "      <td>0.982336</td>\n",
       "      <td>00:00</td>\n",
       "    </tr>\n",
       "    <tr>\n",
       "      <td>32</td>\n",
       "      <td>0.015241</td>\n",
       "      <td>0.021973</td>\n",
       "      <td>0.982826</td>\n",
       "      <td>00:00</td>\n",
       "    </tr>\n",
       "    <tr>\n",
       "      <td>33</td>\n",
       "      <td>0.015087</td>\n",
       "      <td>0.021784</td>\n",
       "      <td>0.982336</td>\n",
       "      <td>00:00</td>\n",
       "    </tr>\n",
       "    <tr>\n",
       "      <td>34</td>\n",
       "      <td>0.014940</td>\n",
       "      <td>0.021607</td>\n",
       "      <td>0.982336</td>\n",
       "      <td>00:00</td>\n",
       "    </tr>\n",
       "    <tr>\n",
       "      <td>35</td>\n",
       "      <td>0.014798</td>\n",
       "      <td>0.021439</td>\n",
       "      <td>0.982336</td>\n",
       "      <td>00:00</td>\n",
       "    </tr>\n",
       "    <tr>\n",
       "      <td>36</td>\n",
       "      <td>0.014662</td>\n",
       "      <td>0.021282</td>\n",
       "      <td>0.982336</td>\n",
       "      <td>00:00</td>\n",
       "    </tr>\n",
       "    <tr>\n",
       "      <td>37</td>\n",
       "      <td>0.014531</td>\n",
       "      <td>0.021132</td>\n",
       "      <td>0.982336</td>\n",
       "      <td>00:00</td>\n",
       "    </tr>\n",
       "    <tr>\n",
       "      <td>38</td>\n",
       "      <td>0.014404</td>\n",
       "      <td>0.020991</td>\n",
       "      <td>0.982826</td>\n",
       "      <td>00:00</td>\n",
       "    </tr>\n",
       "    <tr>\n",
       "      <td>39</td>\n",
       "      <td>0.014282</td>\n",
       "      <td>0.020857</td>\n",
       "      <td>0.982826</td>\n",
       "      <td>00:00</td>\n",
       "    </tr>\n",
       "  </tbody>\n",
       "</table>"
      ],
      "text/plain": [
       "<IPython.core.display.HTML object>"
      ]
     },
     "metadata": {},
     "output_type": "display_data"
    }
   ],
   "source": [
    "learn = Learner(dls, simple_net, opt_func=SGD,\n",
    "                loss_func=mnist_loss, metrics=batch_accuracy)\n",
    "\n",
    "learn.fit(40, 0.1)"
   ]
  },
  {
   "cell_type": "code",
   "execution_count": 47,
   "id": "e966e3a5",
   "metadata": {
    "execution": {
     "iopub.execute_input": "2024-04-06T17:08:15.172927Z",
     "iopub.status.busy": "2024-04-06T17:08:15.172463Z",
     "iopub.status.idle": "2024-04-06T17:08:15.483670Z",
     "shell.execute_reply": "2024-04-06T17:08:15.482398Z"
    },
    "papermill": {
     "duration": 0.346246,
     "end_time": "2024-04-06T17:08:15.486178",
     "exception": false,
     "start_time": "2024-04-06T17:08:15.139932",
     "status": "completed"
    },
    "tags": []
   },
   "outputs": [
    {
     "data": {
      "text/plain": [
       "[<matplotlib.lines.Line2D at 0x7ab0d0236c50>]"
      ]
     },
     "execution_count": 47,
     "metadata": {},
     "output_type": "execute_result"
    },
    {
     "data": {
      "image/png": "[encoded data removed]",
      "text/plain": [
       "<Figure size 640x480 with 1 Axes>"
      ]
     },
     "metadata": {},
     "output_type": "display_data"
    }
   ],
   "source": [
    "plt.plot(L(learn.recorder.values).itemgot(2))"
   ]
  }
 ],
 "metadata": {
  "kaggle": {
   "accelerator": "none",
   "dataSources": [],
   "dockerImageVersionId": 30673,
   "isGpuEnabled": false,
   "isInternetEnabled": true,
   "language": "python",
   "sourceType": "notebook"
  },
  "kernelspec": {
   "display_name": "Python 3",
   "language": "python",
   "name": "python3"
  },
  "language_info": {
   "codemirror_mode": {
    "name": "ipython",
    "version": 3
   },
   "file_extension": ".py",
   "mimetype": "text/x-python",
   "name": "python",
   "nbconvert_exporter": "python",
   "pygments_lexer": "ipython3",
   "version": "3.10.13"
  },
  "papermill": {
   "default_parameters": {},
   "duration": 75.726109,
   "end_time": "2024-04-06T17:08:17.945988",
   "environment_variables": {},
   "exception": null,
   "input_path": "__notebook__.ipynb",
   "output_path": "__notebook__.ipynb",
   "parameters": {},
   "start_time": "2024-04-06T17:07:02.219879",
   "version": "2.5.0"
  }
 },
 "nbformat": 4,
 "nbformat_minor": 5
}
