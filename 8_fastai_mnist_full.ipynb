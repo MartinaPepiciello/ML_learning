{
 "cells": [
  {
   "cell_type": "markdown",
   "id": "b3ec66a0",
   "metadata": {},
   "source": [
    "# Simple multiclass classification on the full MNIST dataset\n",
    "Includes naive test using pixel average and a simple neural network, using Pytorch and fastai"
   ]
  },
  {
   "cell_type": "code",
   "execution_count": 1,
   "id": "30801a10",
   "metadata": {
    "_cell_guid": "b1076dfc-b9ad-4769-8c92-a6c4dae69d19",
    "_uuid": "8f2839f25d086af736a60e9eeb907d3b93b6e0e5",
    "execution": {
     "iopub.execute_input": "2024-04-09T07:41:10.409090Z",
     "iopub.status.busy": "2024-04-09T07:41:10.408683Z",
     "iopub.status.idle": "2024-04-09T07:41:39.787444Z",
     "shell.execute_reply": "2024-04-09T07:41:39.786418Z"
    },
    "papermill": {
     "duration": 29.391398,
     "end_time": "2024-04-09T07:41:39.790238",
     "exception": false,
     "start_time": "2024-04-09T07:41:10.398840",
     "status": "completed"
    },
    "tags": []
   },
   "outputs": [],
   "source": [
    "! pip install -Uqq fastai\n",
    "from fastai.vision.all import *\n",
    "matplotlib.rc('image', cmap='Greys')"
   ]
  },
  {
   "cell_type": "markdown",
   "id": "3105ab23",
   "metadata": {
    "papermill": {
     "duration": 0.007316,
     "end_time": "2024-04-09T07:41:39.805600",
     "exception": false,
     "start_time": "2024-04-09T07:41:39.798284",
     "status": "completed"
    },
    "tags": []
   },
   "source": [
    "### Download data"
   ]
  },
  {
   "cell_type": "code",
   "execution_count": 2,
   "id": "24e57b32",
   "metadata": {
    "execution": {
     "iopub.execute_input": "2024-04-09T07:41:39.823571Z",
     "iopub.status.busy": "2024-04-09T07:41:39.822444Z",
     "iopub.status.idle": "2024-04-09T07:41:58.871317Z",
     "shell.execute_reply": "2024-04-09T07:41:58.869945Z"
    },
    "papermill": {
     "duration": 19.060921,
     "end_time": "2024-04-09T07:41:58.874035",
     "exception": false,
     "start_time": "2024-04-09T07:41:39.813114",
     "status": "completed"
    },
    "tags": []
   },
   "outputs": [
    {
     "data": {
      "text/html": [
       "\n",
       "<style>\n",
       "    /* Turns off some styling */\n",
       "    progress {\n",
       "        /* gets rid of default border in Firefox and Opera. */\n",
       "        border: none;\n",
       "        /* Needs to be in here for Safari polyfill so background images work as expected. */\n",
       "        background-size: auto;\n",
       "    }\n",
       "    progress:not([value]), progress:not([value])::-webkit-progress-bar {\n",
       "        background: repeating-linear-gradient(45deg, #7e7e7e, #7e7e7e 10px, #5c5c5c 10px, #5c5c5c 20px);\n",
       "    }\n",
       "    .progress-bar-interrupted, .progress-bar-interrupted::-webkit-progress-bar {\n",
       "        background: #F44336;\n",
       "    }\n",
       "</style>\n"
      ],
      "text/plain": [
       "<IPython.core.display.HTML object>"
      ]
     },
     "metadata": {},
     "output_type": "display_data"
    },
    {
     "data": {
      "text/html": [
       "\n",
       "    <div>\n",
       "      <progress value='15687680' class='' max='15683414' style='width:300px; height:20px; vertical-align: middle;'></progress>\n",
       "      100.03% [15687680/15683414 00:00&lt;00:00]\n",
       "    </div>\n",
       "    "
      ],
      "text/plain": [
       "<IPython.core.display.HTML object>"
      ]
     },
     "metadata": {},
     "output_type": "display_data"
    },
    {
     "data": {
      "text/plain": [
       "(#2) [Path('testing'),Path('training')]"
      ]
     },
     "execution_count": 2,
     "metadata": {},
     "output_type": "execute_result"
    }
   ],
   "source": [
    "path = untar_data(URLs.MNIST)\n",
    "Path.BASE_PATH = path\n",
    "\n",
    "path.ls()"
   ]
  },
  {
   "cell_type": "code",
   "execution_count": 3,
   "id": "aa0a3bf4",
   "metadata": {
    "execution": {
     "iopub.execute_input": "2024-04-09T07:41:58.892678Z",
     "iopub.status.busy": "2024-04-09T07:41:58.892252Z",
     "iopub.status.idle": "2024-04-09T07:41:58.900845Z",
     "shell.execute_reply": "2024-04-09T07:41:58.899170Z"
    },
    "papermill": {
     "duration": 0.021271,
     "end_time": "2024-04-09T07:41:58.903698",
     "exception": false,
     "start_time": "2024-04-09T07:41:58.882427",
     "status": "completed"
    },
    "tags": []
   },
   "outputs": [
    {
     "name": "stdout",
     "output_type": "stream",
     "text": [
      "[Path('training/5'), Path('training/6'), Path('training/4'), Path('training/1'), Path('training/9'), Path('training/7'), Path('training/3'), Path('training/2'), Path('training/8'), Path('training/0')] [Path('testing/5'), Path('testing/6'), Path('testing/4'), Path('testing/1'), Path('testing/9'), Path('testing/7'), Path('testing/3'), Path('testing/2'), Path('testing/8'), Path('testing/0')]\n"
     ]
    }
   ],
   "source": [
    "print((path/'training').ls(), (path/'testing').ls())"
   ]
  },
  {
   "cell_type": "code",
   "execution_count": 4,
   "id": "9c65397f",
   "metadata": {
    "execution": {
     "iopub.execute_input": "2024-04-09T07:41:58.923794Z",
     "iopub.status.busy": "2024-04-09T07:41:58.923122Z",
     "iopub.status.idle": "2024-04-09T07:41:59.989437Z",
     "shell.execute_reply": "2024-04-09T07:41:59.988305Z"
    },
    "papermill": {
     "duration": 1.079192,
     "end_time": "2024-04-09T07:41:59.991991",
     "exception": false,
     "start_time": "2024-04-09T07:41:58.912799",
     "status": "completed"
    },
    "tags": []
   },
   "outputs": [
    {
     "data": {
      "text/plain": [
       "(#5958) [Path('training/2/10009.png'),Path('training/2/10016.png'),Path('training/2/10024.png'),Path('training/2/10029.png'),Path('training/2/10072.png'),Path('training/2/10073.png'),Path('training/2/10075.png'),Path('training/2/10078.png'),Path('training/2/10081.png'),Path('training/2/10082.png')...]"
      ]
     },
     "execution_count": 4,
     "metadata": {},
     "output_type": "execute_result"
    }
   ],
   "source": [
    "train_paths = [(path/'training'/str(n)).ls().sorted() for n in range(10)]\n",
    "\n",
    "train_paths[2]"
   ]
  },
  {
   "cell_type": "code",
   "execution_count": 5,
   "id": "e69c1821",
   "metadata": {
    "execution": {
     "iopub.execute_input": "2024-04-09T07:42:00.011059Z",
     "iopub.status.busy": "2024-04-09T07:42:00.010631Z",
     "iopub.status.idle": "2024-04-09T07:42:00.027143Z",
     "shell.execute_reply": "2024-04-09T07:42:00.026223Z"
    },
    "papermill": {
     "duration": 0.028784,
     "end_time": "2024-04-09T07:42:00.029518",
     "exception": false,
     "start_time": "2024-04-09T07:42:00.000734",
     "status": "completed"
    },
    "tags": []
   },
   "outputs": [
    {
     "data": {
      "image/png": "[encoded data removed]",
      "text/plain": [
       "<PIL.PngImagePlugin.PngImageFile image mode=L size=28x28>"
      ]
     },
     "execution_count": 5,
     "metadata": {},
     "output_type": "execute_result"
    }
   ],
   "source": [
    "Image.open(train_paths[8][42])"
   ]
  },
  {
   "cell_type": "markdown",
   "id": "0013dd18",
   "metadata": {
    "papermill": {
     "duration": 0.008636,
     "end_time": "2024-04-09T07:42:00.047082",
     "exception": false,
     "start_time": "2024-04-09T07:42:00.038446",
     "status": "completed"
    },
    "tags": []
   },
   "source": [
    "### Create tensors for training images"
   ]
  },
  {
   "cell_type": "code",
   "execution_count": 6,
   "id": "65b20441",
   "metadata": {
    "execution": {
     "iopub.execute_input": "2024-04-09T07:42:00.066541Z",
     "iopub.status.busy": "2024-04-09T07:42:00.066136Z",
     "iopub.status.idle": "2024-04-09T07:42:18.778746Z",
     "shell.execute_reply": "2024-04-09T07:42:18.777590Z"
    },
    "papermill": {
     "duration": 18.725261,
     "end_time": "2024-04-09T07:42:18.781244",
     "exception": false,
     "start_time": "2024-04-09T07:42:00.055983",
     "status": "completed"
    },
    "tags": []
   },
   "outputs": [
    {
     "data": {
      "text/plain": [
       "torch.Size([28, 28])"
      ]
     },
     "execution_count": 6,
     "metadata": {},
     "output_type": "execute_result"
    }
   ],
   "source": [
    "train_tensors = [[tensor(Image.open(o)) for o in n_list] for n_list in train_paths]\n",
    "\n",
    "train_tensors[3][0].shape"
   ]
  },
  {
   "cell_type": "markdown",
   "id": "fdcf31c1",
   "metadata": {
    "papermill": {
     "duration": 0.008641,
     "end_time": "2024-04-09T07:42:18.799915",
     "exception": false,
     "start_time": "2024-04-09T07:42:18.791274",
     "status": "completed"
    },
    "tags": []
   },
   "source": [
    "Stack images of the same number to use broadcasting, but keep groups of images in a list because each group has a different length"
   ]
  },
  {
   "cell_type": "code",
   "execution_count": 7,
   "id": "228c4128",
   "metadata": {
    "execution": {
     "iopub.execute_input": "2024-04-09T07:42:18.819950Z",
     "iopub.status.busy": "2024-04-09T07:42:18.819149Z",
     "iopub.status.idle": "2024-04-09T07:42:19.077520Z",
     "shell.execute_reply": "2024-04-09T07:42:19.076378Z"
    },
    "papermill": {
     "duration": 0.271082,
     "end_time": "2024-04-09T07:42:19.080007",
     "exception": false,
     "start_time": "2024-04-09T07:42:18.808925",
     "status": "completed"
    },
    "tags": []
   },
   "outputs": [
    {
     "data": {
      "text/plain": [
       "torch.Size([6742, 28, 28])"
      ]
     },
     "execution_count": 7,
     "metadata": {},
     "output_type": "execute_result"
    }
   ],
   "source": [
    "train_stacked = [torch.stack(n_list).float()/255 for n_list in train_tensors]\n",
    "\n",
    "train_stacked[1].shape"
   ]
  },
  {
   "cell_type": "markdown",
   "id": "a50f94cb",
   "metadata": {
    "papermill": {
     "duration": 0.009039,
     "end_time": "2024-04-09T07:42:19.098302",
     "exception": false,
     "start_time": "2024-04-09T07:42:19.089263",
     "status": "completed"
    },
    "tags": []
   },
   "source": [
    "## Basic classification based on pixel average\n",
    "Pixel averages for each number"
   ]
  },
  {
   "cell_type": "code",
   "execution_count": 8,
   "id": "7e65e96a",
   "metadata": {
    "execution": {
     "iopub.execute_input": "2024-04-09T07:42:19.118741Z",
     "iopub.status.busy": "2024-04-09T07:42:19.117980Z",
     "iopub.status.idle": "2024-04-09T07:42:19.219065Z",
     "shell.execute_reply": "2024-04-09T07:42:19.217906Z"
    },
    "papermill": {
     "duration": 0.115044,
     "end_time": "2024-04-09T07:42:19.222602",
     "exception": false,
     "start_time": "2024-04-09T07:42:19.107558",
     "status": "completed"
    },
    "tags": []
   },
   "outputs": [
    {
     "data": {
      "text/plain": [
       "<Axes: >"
      ]
     },
     "execution_count": 8,
     "metadata": {},
     "output_type": "execute_result"
    },
    {
     "data": {
      "image/png": "[encoded data removed]",
      "text/plain": [
       "<Figure size 100x100 with 1 Axes>"
      ]
     },
     "metadata": {},
     "output_type": "display_data"
    }
   ],
   "source": [
    "means = [stack.mean(0) for stack in train_stacked]\n",
    "\n",
    "show_image(means[5])"
   ]
  },
  {
   "cell_type": "markdown",
   "id": "acad0a6e",
   "metadata": {
    "papermill": {
     "duration": 0.020044,
     "end_time": "2024-04-09T07:42:19.263310",
     "exception": false,
     "start_time": "2024-04-09T07:42:19.243266",
     "status": "completed"
    },
    "tags": []
   },
   "source": [
    "Distance definition"
   ]
  },
  {
   "cell_type": "code",
   "execution_count": 9,
   "id": "62de76fb",
   "metadata": {
    "execution": {
     "iopub.execute_input": "2024-04-09T07:42:19.308557Z",
     "iopub.status.busy": "2024-04-09T07:42:19.307775Z",
     "iopub.status.idle": "2024-04-09T07:42:19.361881Z",
     "shell.execute_reply": "2024-04-09T07:42:19.360727Z"
    },
    "papermill": {
     "duration": 0.080516,
     "end_time": "2024-04-09T07:42:19.364591",
     "exception": false,
     "start_time": "2024-04-09T07:42:19.284075",
     "status": "completed"
    },
    "tags": []
   },
   "outputs": [
    {
     "data": {
      "text/plain": [
       "tensor([0.1334, 0.1307, 0.1357,  ..., 0.1342, 0.1350, 0.1338])"
      ]
     },
     "execution_count": 9,
     "metadata": {},
     "output_type": "execute_result"
    }
   ],
   "source": [
    "def mnist_dist(a,b):\n",
    "    return (a - b).abs().mean((-1, -2))\n",
    "\n",
    "mnist_dist(means[5], train_stacked[5])"
   ]
  },
  {
   "cell_type": "markdown",
   "id": "39335131",
   "metadata": {
    "papermill": {
     "duration": 0.009667,
     "end_time": "2024-04-09T07:42:19.384177",
     "exception": false,
     "start_time": "2024-04-09T07:42:19.374510",
     "status": "completed"
    },
    "tags": []
   },
   "source": [
    "Classify an image by selecting the minimum distance from the 10 averages"
   ]
  },
  {
   "cell_type": "code",
   "execution_count": 10,
   "id": "9b824e2c",
   "metadata": {
    "execution": {
     "iopub.execute_input": "2024-04-09T07:42:19.407077Z",
     "iopub.status.busy": "2024-04-09T07:42:19.406293Z",
     "iopub.status.idle": "2024-04-09T07:42:19.638587Z",
     "shell.execute_reply": "2024-04-09T07:42:19.636753Z"
    },
    "papermill": {
     "duration": 0.247055,
     "end_time": "2024-04-09T07:42:19.641797",
     "exception": false,
     "start_time": "2024-04-09T07:42:19.394742",
     "status": "completed"
    },
    "tags": []
   },
   "outputs": [
    {
     "name": "stdout",
     "output_type": "stream",
     "text": [
      "[0, 1, 2, 3, 4, 6, 6, 7, 1, 9]\n",
      "[0, 1, 2, 3, 4, 5, 6, 7, 8, 9]\n",
      "tensor([5, 1, 5,  ..., 1, 5, 1])\n",
      "tensor([9, 9, 9,  ..., 9, 7, 9])\n"
     ]
    }
   ],
   "source": [
    "def classify(x):\n",
    "    distances = [mnist_dist(x, m) for m in means]\n",
    "    stacked_distances = torch.stack(distances)\n",
    "    min_values, min_indices = torch.min(stacked_distances, dim=0)\n",
    "    return min_indices\n",
    "\n",
    "print([classify(train_stacked[n][42]).item() for n in range(10)])\n",
    "print([classify(train_stacked[n][47]).item() for n in range(10)])\n",
    "print(classify(train_stacked[5]))\n",
    "print(classify(train_stacked[9]))"
   ]
  },
  {
   "cell_type": "markdown",
   "id": "7903aa26",
   "metadata": {
    "papermill": {
     "duration": 0.009976,
     "end_time": "2024-04-09T07:42:19.662082",
     "exception": false,
     "start_time": "2024-04-09T07:42:19.652106",
     "status": "completed"
    },
    "tags": []
   },
   "source": [
    "Define accuracy as the fraction of images that are correctly classified"
   ]
  },
  {
   "cell_type": "code",
   "execution_count": 11,
   "id": "8b33ef87",
   "metadata": {
    "execution": {
     "iopub.execute_input": "2024-04-09T07:42:19.684091Z",
     "iopub.status.busy": "2024-04-09T07:42:19.683652Z",
     "iopub.status.idle": "2024-04-09T07:42:19.690647Z",
     "shell.execute_reply": "2024-04-09T07:42:19.689436Z"
    },
    "papermill": {
     "duration": 0.020801,
     "end_time": "2024-04-09T07:42:19.693046",
     "exception": false,
     "start_time": "2024-04-09T07:42:19.672245",
     "status": "completed"
    },
    "tags": []
   },
   "outputs": [],
   "source": [
    "def accuracy(stacked_tensors):\n",
    "    accuracies = []\n",
    "    for n in range(10):\n",
    "        deviations = (classify(stacked_tensors[n]) - n).abs()\n",
    "        ones = torch.ones_like(deviations)\n",
    "        one_if_wrong = torch.minimum(deviations, ones).float()\n",
    "        acc = (1 - one_if_wrong).mean()\n",
    "        accuracies.append(acc)\n",
    "    return sum(accuracies) / 10"
   ]
  },
  {
   "cell_type": "markdown",
   "id": "27cdbe23",
   "metadata": {
    "papermill": {
     "duration": 0.01004,
     "end_time": "2024-04-09T07:42:19.713490",
     "exception": false,
     "start_time": "2024-04-09T07:42:19.703450",
     "status": "completed"
    },
    "tags": []
   },
   "source": [
    "The accuracy on the training set is 64%"
   ]
  },
  {
   "cell_type": "code",
   "execution_count": 12,
   "id": "8840ddce",
   "metadata": {
    "execution": {
     "iopub.execute_input": "2024-04-09T07:42:19.736502Z",
     "iopub.status.busy": "2024-04-09T07:42:19.735458Z",
     "iopub.status.idle": "2024-04-09T07:42:20.356021Z",
     "shell.execute_reply": "2024-04-09T07:42:20.355066Z"
    },
    "papermill": {
     "duration": 0.63511,
     "end_time": "2024-04-09T07:42:20.358887",
     "exception": false,
     "start_time": "2024-04-09T07:42:19.723777",
     "status": "completed"
    },
    "tags": []
   },
   "outputs": [
    {
     "data": {
      "text/plain": [
       "tensor(0.6429)"
      ]
     },
     "execution_count": 12,
     "metadata": {},
     "output_type": "execute_result"
    }
   ],
   "source": [
    "accuracy(train_stacked)"
   ]
  },
  {
   "cell_type": "markdown",
   "id": "a7ca4232",
   "metadata": {
    "papermill": {
     "duration": 0.014064,
     "end_time": "2024-04-09T07:42:20.383679",
     "exception": false,
     "start_time": "2024-04-09T07:42:20.369615",
     "status": "completed"
    },
    "tags": []
   },
   "source": [
    "The accuracy on the test set is 66%"
   ]
  },
  {
   "cell_type": "code",
   "execution_count": 13,
   "id": "731a30a5",
   "metadata": {
    "execution": {
     "iopub.execute_input": "2024-04-09T07:42:20.417620Z",
     "iopub.status.busy": "2024-04-09T07:42:20.417241Z",
     "iopub.status.idle": "2024-04-09T07:42:24.049286Z",
     "shell.execute_reply": "2024-04-09T07:42:24.048148Z"
    },
    "papermill": {
     "duration": 3.650601,
     "end_time": "2024-04-09T07:42:24.051687",
     "exception": false,
     "start_time": "2024-04-09T07:42:20.401086",
     "status": "completed"
    },
    "tags": []
   },
   "outputs": [
    {
     "data": {
      "text/plain": [
       "tensor(0.6610)"
      ]
     },
     "execution_count": 13,
     "metadata": {},
     "output_type": "execute_result"
    }
   ],
   "source": [
    "test_paths = [(path/'testing'/str(n)).ls().sorted() for n in range(10)]\n",
    "test_tensors = [[tensor(Image.open(o)) for o in n_list] for n_list in test_paths]\n",
    "test_stacked = [torch.stack(n_list).float()/255 for n_list in test_tensors]\n",
    "\n",
    "accuracy(test_stacked)"
   ]
  },
  {
   "cell_type": "markdown",
   "id": "dc2ebd78",
   "metadata": {
    "papermill": {
     "duration": 0.010531,
     "end_time": "2024-04-09T07:42:24.074267",
     "exception": false,
     "start_time": "2024-04-09T07:42:24.063736",
     "status": "completed"
    },
    "tags": []
   },
   "source": [
    "## Classification with a neural net\n",
    "### Create training and testing datasets"
   ]
  },
  {
   "cell_type": "code",
   "execution_count": 14,
   "id": "14b693a5",
   "metadata": {
    "execution": {
     "iopub.execute_input": "2024-04-09T07:42:24.097843Z",
     "iopub.status.busy": "2024-04-09T07:42:24.097432Z",
     "iopub.status.idle": "2024-04-09T07:42:24.829174Z",
     "shell.execute_reply": "2024-04-09T07:42:24.827811Z"
    },
    "papermill": {
     "duration": 0.746297,
     "end_time": "2024-04-09T07:42:24.831627",
     "exception": false,
     "start_time": "2024-04-09T07:42:24.085330",
     "status": "completed"
    },
    "tags": []
   },
   "outputs": [
    {
     "data": {
      "text/plain": [
       "(torch.Size([60000, 784]),\n",
       " torch.Size([60000, 1]),\n",
       " torch.Size([10000, 784]),\n",
       " torch.Size([10000, 1]))"
      ]
     },
     "execution_count": 14,
     "metadata": {},
     "output_type": "execute_result"
    }
   ],
   "source": [
    "x_train = torch.cat(train_stacked).view(-1, 28*28)\n",
    "y_train = tensor([n for n, n_list in enumerate(train_stacked) for _ in range(len(n_list))]).unsqueeze(1)\n",
    "train_dset = list(zip(x_train, y_train))\n",
    "\n",
    "x_test = torch.cat(test_stacked).view(-1, 28*28)\n",
    "y_test = tensor([n for n, n_list in enumerate(test_stacked) for _ in range(len(n_list))]).unsqueeze(1)\n",
    "test_dset = list(zip(x_test, y_test))\n",
    "\n",
    "x_train.shape, y_train.shape, x_test.shape, y_test.shape"
   ]
  },
  {
   "cell_type": "markdown",
   "id": "88390bf6",
   "metadata": {
    "papermill": {
     "duration": 0.015748,
     "end_time": "2024-04-09T07:42:24.858820",
     "exception": false,
     "start_time": "2024-04-09T07:42:24.843072",
     "status": "completed"
    },
    "tags": []
   },
   "source": [
    "### Define DataLoaders, network, loss function and accuracy function"
   ]
  },
  {
   "cell_type": "code",
   "execution_count": 15,
   "id": "bb822c59",
   "metadata": {
    "execution": {
     "iopub.execute_input": "2024-04-09T07:42:24.890283Z",
     "iopub.status.busy": "2024-04-09T07:42:24.889359Z",
     "iopub.status.idle": "2024-04-09T07:42:24.906254Z",
     "shell.execute_reply": "2024-04-09T07:42:24.905354Z"
    },
    "papermill": {
     "duration": 0.035054,
     "end_time": "2024-04-09T07:42:24.908715",
     "exception": false,
     "start_time": "2024-04-09T07:42:24.873661",
     "status": "completed"
    },
    "tags": []
   },
   "outputs": [],
   "source": [
    "train_dl = DataLoader(train_dset, batch_size=256, shuffle=True)\n",
    "test_dl = DataLoader(test_dset, batch_size=256, shuffle=True)\n",
    "dls = DataLoaders(train_dl, test_dl)\n",
    "\n",
    "simple_net = nn.Sequential(\n",
    "    nn.Linear(28*28, 30),\n",
    "    nn.ReLU(),\n",
    "    nn.Linear(30,10)\n",
    ")\n",
    "\n",
    "\n",
    "def mnist_loss(preds, targets):\n",
    "    # normalize predictions\n",
    "    norm_preds = F.softmax(preds, dim=1)\n",
    "    \n",
    "    # create compatible target labels\n",
    "    t_targets = torch.zeros_like(norm_preds).float()\n",
    "    t_targets.scatter_(1, targets, 1.) # set 1 at index corresponding to the label\n",
    "    \n",
    "    return (norm_preds - t_targets).abs().mean()\n",
    "    \n",
    "    \n",
    "def batch_accuracy(preds, targets):\n",
    "    number_preds = preds.argmax(dim=1).unsqueeze(1)\n",
    "    return (number_preds == targets).float().mean()"
   ]
  },
  {
   "cell_type": "code",
   "execution_count": 16,
   "id": "75714162",
   "metadata": {
    "execution": {
     "iopub.execute_input": "2024-04-09T07:42:24.936863Z",
     "iopub.status.busy": "2024-04-09T07:42:24.936444Z",
     "iopub.status.idle": "2024-04-09T07:43:27.654028Z",
     "shell.execute_reply": "2024-04-09T07:43:27.653028Z"
    },
    "papermill": {
     "duration": 62.732624,
     "end_time": "2024-04-09T07:43:27.656542",
     "exception": false,
     "start_time": "2024-04-09T07:42:24.923918",
     "status": "completed"
    },
    "tags": []
   },
   "outputs": [
    {
     "data": {
      "text/html": [
       "\n",
       "<style>\n",
       "    /* Turns off some styling */\n",
       "    progress {\n",
       "        /* gets rid of default border in Firefox and Opera. */\n",
       "        border: none;\n",
       "        /* Needs to be in here for Safari polyfill so background images work as expected. */\n",
       "        background-size: auto;\n",
       "    }\n",
       "    progress:not([value]), progress:not([value])::-webkit-progress-bar {\n",
       "        background: repeating-linear-gradient(45deg, #7e7e7e, #7e7e7e 10px, #5c5c5c 10px, #5c5c5c 20px);\n",
       "    }\n",
       "    .progress-bar-interrupted, .progress-bar-interrupted::-webkit-progress-bar {\n",
       "        background: #F44336;\n",
       "    }\n",
       "</style>\n"
      ],
      "text/plain": [
       "<IPython.core.display.HTML object>"
      ]
     },
     "metadata": {},
     "output_type": "display_data"
    },
    {
     "data": {
      "text/html": [
       "<table border=\"1\" class=\"dataframe\">\n",
       "  <thead>\n",
       "    <tr style=\"text-align: left;\">\n",
       "      <th>epoch</th>\n",
       "      <th>train_loss</th>\n",
       "      <th>valid_loss</th>\n",
       "      <th>batch_accuracy</th>\n",
       "      <th>time</th>\n",
       "    </tr>\n",
       "  </thead>\n",
       "  <tbody>\n",
       "    <tr>\n",
       "      <td>0</td>\n",
       "      <td>0.097111</td>\n",
       "      <td>0.080569</td>\n",
       "      <td>0.650600</td>\n",
       "      <td>00:01</td>\n",
       "    </tr>\n",
       "    <tr>\n",
       "      <td>1</td>\n",
       "      <td>0.071842</td>\n",
       "      <td>0.070306</td>\n",
       "      <td>0.667600</td>\n",
       "      <td>00:01</td>\n",
       "    </tr>\n",
       "    <tr>\n",
       "      <td>2</td>\n",
       "      <td>0.068163</td>\n",
       "      <td>0.068179</td>\n",
       "      <td>0.671800</td>\n",
       "      <td>00:01</td>\n",
       "    </tr>\n",
       "    <tr>\n",
       "      <td>3</td>\n",
       "      <td>0.067030</td>\n",
       "      <td>0.067276</td>\n",
       "      <td>0.673600</td>\n",
       "      <td>00:01</td>\n",
       "    </tr>\n",
       "    <tr>\n",
       "      <td>4</td>\n",
       "      <td>0.066326</td>\n",
       "      <td>0.066613</td>\n",
       "      <td>0.675600</td>\n",
       "      <td>00:01</td>\n",
       "    </tr>\n",
       "    <tr>\n",
       "      <td>5</td>\n",
       "      <td>0.065537</td>\n",
       "      <td>0.066141</td>\n",
       "      <td>0.677600</td>\n",
       "      <td>00:01</td>\n",
       "    </tr>\n",
       "    <tr>\n",
       "      <td>6</td>\n",
       "      <td>0.064641</td>\n",
       "      <td>0.065812</td>\n",
       "      <td>0.678700</td>\n",
       "      <td>00:01</td>\n",
       "    </tr>\n",
       "    <tr>\n",
       "      <td>7</td>\n",
       "      <td>0.064977</td>\n",
       "      <td>0.065602</td>\n",
       "      <td>0.678600</td>\n",
       "      <td>00:01</td>\n",
       "    </tr>\n",
       "    <tr>\n",
       "      <td>8</td>\n",
       "      <td>0.062138</td>\n",
       "      <td>0.060766</td>\n",
       "      <td>0.711800</td>\n",
       "      <td>00:01</td>\n",
       "    </tr>\n",
       "    <tr>\n",
       "      <td>9</td>\n",
       "      <td>0.055814</td>\n",
       "      <td>0.055297</td>\n",
       "      <td>0.736300</td>\n",
       "      <td>00:01</td>\n",
       "    </tr>\n",
       "    <tr>\n",
       "      <td>10</td>\n",
       "      <td>0.052702</td>\n",
       "      <td>0.053489</td>\n",
       "      <td>0.743300</td>\n",
       "      <td>00:01</td>\n",
       "    </tr>\n",
       "    <tr>\n",
       "      <td>11</td>\n",
       "      <td>0.052183</td>\n",
       "      <td>0.052614</td>\n",
       "      <td>0.746300</td>\n",
       "      <td>00:01</td>\n",
       "    </tr>\n",
       "    <tr>\n",
       "      <td>12</td>\n",
       "      <td>0.051691</td>\n",
       "      <td>0.051947</td>\n",
       "      <td>0.749500</td>\n",
       "      <td>00:01</td>\n",
       "    </tr>\n",
       "    <tr>\n",
       "      <td>13</td>\n",
       "      <td>0.050700</td>\n",
       "      <td>0.051503</td>\n",
       "      <td>0.750500</td>\n",
       "      <td>00:01</td>\n",
       "    </tr>\n",
       "    <tr>\n",
       "      <td>14</td>\n",
       "      <td>0.051007</td>\n",
       "      <td>0.051212</td>\n",
       "      <td>0.751200</td>\n",
       "      <td>00:01</td>\n",
       "    </tr>\n",
       "    <tr>\n",
       "      <td>15</td>\n",
       "      <td>0.049950</td>\n",
       "      <td>0.050977</td>\n",
       "      <td>0.752600</td>\n",
       "      <td>00:01</td>\n",
       "    </tr>\n",
       "    <tr>\n",
       "      <td>16</td>\n",
       "      <td>0.049443</td>\n",
       "      <td>0.050797</td>\n",
       "      <td>0.752800</td>\n",
       "      <td>00:01</td>\n",
       "    </tr>\n",
       "    <tr>\n",
       "      <td>17</td>\n",
       "      <td>0.049676</td>\n",
       "      <td>0.050573</td>\n",
       "      <td>0.753100</td>\n",
       "      <td>00:01</td>\n",
       "    </tr>\n",
       "    <tr>\n",
       "      <td>18</td>\n",
       "      <td>0.049695</td>\n",
       "      <td>0.050526</td>\n",
       "      <td>0.753500</td>\n",
       "      <td>00:01</td>\n",
       "    </tr>\n",
       "    <tr>\n",
       "      <td>19</td>\n",
       "      <td>0.049889</td>\n",
       "      <td>0.050251</td>\n",
       "      <td>0.754300</td>\n",
       "      <td>00:01</td>\n",
       "    </tr>\n",
       "    <tr>\n",
       "      <td>20</td>\n",
       "      <td>0.048018</td>\n",
       "      <td>0.050179</td>\n",
       "      <td>0.754200</td>\n",
       "      <td>00:01</td>\n",
       "    </tr>\n",
       "    <tr>\n",
       "      <td>21</td>\n",
       "      <td>0.048955</td>\n",
       "      <td>0.050076</td>\n",
       "      <td>0.754400</td>\n",
       "      <td>00:01</td>\n",
       "    </tr>\n",
       "    <tr>\n",
       "      <td>22</td>\n",
       "      <td>0.048431</td>\n",
       "      <td>0.049942</td>\n",
       "      <td>0.755500</td>\n",
       "      <td>00:01</td>\n",
       "    </tr>\n",
       "    <tr>\n",
       "      <td>23</td>\n",
       "      <td>0.048930</td>\n",
       "      <td>0.049942</td>\n",
       "      <td>0.755000</td>\n",
       "      <td>00:01</td>\n",
       "    </tr>\n",
       "    <tr>\n",
       "      <td>24</td>\n",
       "      <td>0.048086</td>\n",
       "      <td>0.049760</td>\n",
       "      <td>0.755500</td>\n",
       "      <td>00:01</td>\n",
       "    </tr>\n",
       "    <tr>\n",
       "      <td>25</td>\n",
       "      <td>0.048135</td>\n",
       "      <td>0.049665</td>\n",
       "      <td>0.756600</td>\n",
       "      <td>00:01</td>\n",
       "    </tr>\n",
       "    <tr>\n",
       "      <td>26</td>\n",
       "      <td>0.047898</td>\n",
       "      <td>0.049519</td>\n",
       "      <td>0.757800</td>\n",
       "      <td>00:01</td>\n",
       "    </tr>\n",
       "    <tr>\n",
       "      <td>27</td>\n",
       "      <td>0.047719</td>\n",
       "      <td>0.049507</td>\n",
       "      <td>0.756100</td>\n",
       "      <td>00:01</td>\n",
       "    </tr>\n",
       "    <tr>\n",
       "      <td>28</td>\n",
       "      <td>0.047033</td>\n",
       "      <td>0.049362</td>\n",
       "      <td>0.757300</td>\n",
       "      <td>00:01</td>\n",
       "    </tr>\n",
       "    <tr>\n",
       "      <td>29</td>\n",
       "      <td>0.048443</td>\n",
       "      <td>0.049254</td>\n",
       "      <td>0.758300</td>\n",
       "      <td>00:01</td>\n",
       "    </tr>\n",
       "    <tr>\n",
       "      <td>30</td>\n",
       "      <td>0.048194</td>\n",
       "      <td>0.049293</td>\n",
       "      <td>0.757500</td>\n",
       "      <td>00:01</td>\n",
       "    </tr>\n",
       "    <tr>\n",
       "      <td>31</td>\n",
       "      <td>0.047577</td>\n",
       "      <td>0.049089</td>\n",
       "      <td>0.758900</td>\n",
       "      <td>00:01</td>\n",
       "    </tr>\n",
       "    <tr>\n",
       "      <td>32</td>\n",
       "      <td>0.046787</td>\n",
       "      <td>0.049038</td>\n",
       "      <td>0.758800</td>\n",
       "      <td>00:01</td>\n",
       "    </tr>\n",
       "    <tr>\n",
       "      <td>33</td>\n",
       "      <td>0.047368</td>\n",
       "      <td>0.048990</td>\n",
       "      <td>0.758700</td>\n",
       "      <td>00:01</td>\n",
       "    </tr>\n",
       "    <tr>\n",
       "      <td>34</td>\n",
       "      <td>0.046856</td>\n",
       "      <td>0.048966</td>\n",
       "      <td>0.759500</td>\n",
       "      <td>00:01</td>\n",
       "    </tr>\n",
       "    <tr>\n",
       "      <td>35</td>\n",
       "      <td>0.047565</td>\n",
       "      <td>0.048823</td>\n",
       "      <td>0.759600</td>\n",
       "      <td>00:01</td>\n",
       "    </tr>\n",
       "    <tr>\n",
       "      <td>36</td>\n",
       "      <td>0.046570</td>\n",
       "      <td>0.048787</td>\n",
       "      <td>0.760100</td>\n",
       "      <td>00:01</td>\n",
       "    </tr>\n",
       "    <tr>\n",
       "      <td>37</td>\n",
       "      <td>0.047347</td>\n",
       "      <td>0.048751</td>\n",
       "      <td>0.760600</td>\n",
       "      <td>00:01</td>\n",
       "    </tr>\n",
       "    <tr>\n",
       "      <td>38</td>\n",
       "      <td>0.046554</td>\n",
       "      <td>0.048607</td>\n",
       "      <td>0.760500</td>\n",
       "      <td>00:01</td>\n",
       "    </tr>\n",
       "    <tr>\n",
       "      <td>39</td>\n",
       "      <td>0.047123</td>\n",
       "      <td>0.048694</td>\n",
       "      <td>0.759900</td>\n",
       "      <td>00:01</td>\n",
       "    </tr>\n",
       "    <tr>\n",
       "      <td>40</td>\n",
       "      <td>0.046571</td>\n",
       "      <td>0.048524</td>\n",
       "      <td>0.760600</td>\n",
       "      <td>00:01</td>\n",
       "    </tr>\n",
       "    <tr>\n",
       "      <td>41</td>\n",
       "      <td>0.046272</td>\n",
       "      <td>0.048523</td>\n",
       "      <td>0.760500</td>\n",
       "      <td>00:01</td>\n",
       "    </tr>\n",
       "    <tr>\n",
       "      <td>42</td>\n",
       "      <td>0.045991</td>\n",
       "      <td>0.048505</td>\n",
       "      <td>0.760200</td>\n",
       "      <td>00:01</td>\n",
       "    </tr>\n",
       "    <tr>\n",
       "      <td>43</td>\n",
       "      <td>0.045795</td>\n",
       "      <td>0.048352</td>\n",
       "      <td>0.761200</td>\n",
       "      <td>00:01</td>\n",
       "    </tr>\n",
       "    <tr>\n",
       "      <td>44</td>\n",
       "      <td>0.045659</td>\n",
       "      <td>0.048363</td>\n",
       "      <td>0.761700</td>\n",
       "      <td>00:01</td>\n",
       "    </tr>\n",
       "    <tr>\n",
       "      <td>45</td>\n",
       "      <td>0.046165</td>\n",
       "      <td>0.048305</td>\n",
       "      <td>0.761400</td>\n",
       "      <td>00:01</td>\n",
       "    </tr>\n",
       "    <tr>\n",
       "      <td>46</td>\n",
       "      <td>0.045748</td>\n",
       "      <td>0.048268</td>\n",
       "      <td>0.761700</td>\n",
       "      <td>00:01</td>\n",
       "    </tr>\n",
       "    <tr>\n",
       "      <td>47</td>\n",
       "      <td>0.046173</td>\n",
       "      <td>0.048199</td>\n",
       "      <td>0.761500</td>\n",
       "      <td>00:01</td>\n",
       "    </tr>\n",
       "    <tr>\n",
       "      <td>48</td>\n",
       "      <td>0.046323</td>\n",
       "      <td>0.048141</td>\n",
       "      <td>0.762200</td>\n",
       "      <td>00:01</td>\n",
       "    </tr>\n",
       "    <tr>\n",
       "      <td>49</td>\n",
       "      <td>0.045990</td>\n",
       "      <td>0.048086</td>\n",
       "      <td>0.762900</td>\n",
       "      <td>00:01</td>\n",
       "    </tr>\n",
       "  </tbody>\n",
       "</table>"
      ],
      "text/plain": [
       "<IPython.core.display.HTML object>"
      ]
     },
     "metadata": {},
     "output_type": "display_data"
    }
   ],
   "source": [
    "learn = Learner(dls, simple_net, opt_func=SGD,\n",
    "                loss_func=mnist_loss, metrics=batch_accuracy)\n",
    "\n",
    "learn.fit(50, 1.)"
   ]
  },
  {
   "cell_type": "markdown",
   "id": "61a8f961",
   "metadata": {
    "papermill": {
     "duration": 0.011441,
     "end_time": "2024-04-09T07:43:27.679863",
     "exception": false,
     "start_time": "2024-04-09T07:43:27.668422",
     "status": "completed"
    },
    "tags": []
   },
   "source": [
    "Deeper network"
   ]
  },
  {
   "cell_type": "code",
   "execution_count": 17,
   "id": "d8739712",
   "metadata": {
    "execution": {
     "iopub.execute_input": "2024-04-09T07:43:27.705437Z",
     "iopub.status.busy": "2024-04-09T07:43:27.705036Z",
     "iopub.status.idle": "2024-04-09T07:43:27.712244Z",
     "shell.execute_reply": "2024-04-09T07:43:27.711306Z"
    },
    "papermill": {
     "duration": 0.02281,
     "end_time": "2024-04-09T07:43:27.714516",
     "exception": false,
     "start_time": "2024-04-09T07:43:27.691706",
     "status": "completed"
    },
    "tags": []
   },
   "outputs": [],
   "source": [
    "net2 = nn.Sequential(nn.Linear(28*28, 80),\n",
    "                     nn.ReLU(),\n",
    "                     nn.Linear(80,50),\n",
    "                     nn.ReLU(),\n",
    "                     nn.Linear(50,30),\n",
    "                     nn.ReLU(),\n",
    "                     nn.Linear(30,10),)"
   ]
  },
  {
   "cell_type": "code",
   "execution_count": 18,
   "id": "ac9a176e",
   "metadata": {
    "execution": {
     "iopub.execute_input": "2024-04-09T07:43:27.740439Z",
     "iopub.status.busy": "2024-04-09T07:43:27.740061Z",
     "iopub.status.idle": "2024-04-09T07:45:59.045593Z",
     "shell.execute_reply": "2024-04-09T07:45:59.044327Z"
    },
    "papermill": {
     "duration": 151.32193,
     "end_time": "2024-04-09T07:45:59.048426",
     "exception": false,
     "start_time": "2024-04-09T07:43:27.726496",
     "status": "completed"
    },
    "tags": []
   },
   "outputs": [
    {
     "data": {
      "text/html": [
       "\n",
       "<style>\n",
       "    /* Turns off some styling */\n",
       "    progress {\n",
       "        /* gets rid of default border in Firefox and Opera. */\n",
       "        border: none;\n",
       "        /* Needs to be in here for Safari polyfill so background images work as expected. */\n",
       "        background-size: auto;\n",
       "    }\n",
       "    progress:not([value]), progress:not([value])::-webkit-progress-bar {\n",
       "        background: repeating-linear-gradient(45deg, #7e7e7e, #7e7e7e 10px, #5c5c5c 10px, #5c5c5c 20px);\n",
       "    }\n",
       "    .progress-bar-interrupted, .progress-bar-interrupted::-webkit-progress-bar {\n",
       "        background: #F44336;\n",
       "    }\n",
       "</style>\n"
      ],
      "text/plain": [
       "<IPython.core.display.HTML object>"
      ]
     },
     "metadata": {},
     "output_type": "display_data"
    },
    {
     "data": {
      "text/html": [
       "<table border=\"1\" class=\"dataframe\">\n",
       "  <thead>\n",
       "    <tr style=\"text-align: left;\">\n",
       "      <th>epoch</th>\n",
       "      <th>train_loss</th>\n",
       "      <th>valid_loss</th>\n",
       "      <th>batch_accuracy</th>\n",
       "      <th>time</th>\n",
       "    </tr>\n",
       "  </thead>\n",
       "  <tbody>\n",
       "    <tr>\n",
       "      <td>0</td>\n",
       "      <td>0.178941</td>\n",
       "      <td>0.178220</td>\n",
       "      <td>0.319900</td>\n",
       "      <td>00:01</td>\n",
       "    </tr>\n",
       "    <tr>\n",
       "      <td>1</td>\n",
       "      <td>0.110927</td>\n",
       "      <td>0.091891</td>\n",
       "      <td>0.565900</td>\n",
       "      <td>00:01</td>\n",
       "    </tr>\n",
       "    <tr>\n",
       "      <td>2</td>\n",
       "      <td>0.073997</td>\n",
       "      <td>0.072796</td>\n",
       "      <td>0.646500</td>\n",
       "      <td>00:01</td>\n",
       "    </tr>\n",
       "    <tr>\n",
       "      <td>3</td>\n",
       "      <td>0.069922</td>\n",
       "      <td>0.070686</td>\n",
       "      <td>0.652400</td>\n",
       "      <td>00:01</td>\n",
       "    </tr>\n",
       "    <tr>\n",
       "      <td>4</td>\n",
       "      <td>0.068444</td>\n",
       "      <td>0.070011</td>\n",
       "      <td>0.655900</td>\n",
       "      <td>00:01</td>\n",
       "    </tr>\n",
       "    <tr>\n",
       "      <td>5</td>\n",
       "      <td>0.068716</td>\n",
       "      <td>0.068693</td>\n",
       "      <td>0.661400</td>\n",
       "      <td>00:01</td>\n",
       "    </tr>\n",
       "    <tr>\n",
       "      <td>6</td>\n",
       "      <td>0.066529</td>\n",
       "      <td>0.067808</td>\n",
       "      <td>0.665700</td>\n",
       "      <td>00:01</td>\n",
       "    </tr>\n",
       "    <tr>\n",
       "      <td>7</td>\n",
       "      <td>0.067051</td>\n",
       "      <td>0.066637</td>\n",
       "      <td>0.670300</td>\n",
       "      <td>00:01</td>\n",
       "    </tr>\n",
       "    <tr>\n",
       "      <td>8</td>\n",
       "      <td>0.065670</td>\n",
       "      <td>0.066489</td>\n",
       "      <td>0.670900</td>\n",
       "      <td>00:01</td>\n",
       "    </tr>\n",
       "    <tr>\n",
       "      <td>9</td>\n",
       "      <td>0.065674</td>\n",
       "      <td>0.065487</td>\n",
       "      <td>0.675900</td>\n",
       "      <td>00:01</td>\n",
       "    </tr>\n",
       "    <tr>\n",
       "      <td>10</td>\n",
       "      <td>0.064383</td>\n",
       "      <td>0.065322</td>\n",
       "      <td>0.675500</td>\n",
       "      <td>00:01</td>\n",
       "    </tr>\n",
       "    <tr>\n",
       "      <td>11</td>\n",
       "      <td>0.065227</td>\n",
       "      <td>0.067732</td>\n",
       "      <td>0.664100</td>\n",
       "      <td>00:01</td>\n",
       "    </tr>\n",
       "    <tr>\n",
       "      <td>12</td>\n",
       "      <td>0.063786</td>\n",
       "      <td>0.065040</td>\n",
       "      <td>0.676900</td>\n",
       "      <td>00:01</td>\n",
       "    </tr>\n",
       "    <tr>\n",
       "      <td>13</td>\n",
       "      <td>0.063509</td>\n",
       "      <td>0.064639</td>\n",
       "      <td>0.677800</td>\n",
       "      <td>00:01</td>\n",
       "    </tr>\n",
       "    <tr>\n",
       "      <td>14</td>\n",
       "      <td>0.050717</td>\n",
       "      <td>0.049621</td>\n",
       "      <td>0.756900</td>\n",
       "      <td>00:01</td>\n",
       "    </tr>\n",
       "    <tr>\n",
       "      <td>15</td>\n",
       "      <td>0.048598</td>\n",
       "      <td>0.047265</td>\n",
       "      <td>0.767700</td>\n",
       "      <td>00:01</td>\n",
       "    </tr>\n",
       "    <tr>\n",
       "      <td>16</td>\n",
       "      <td>0.046756</td>\n",
       "      <td>0.046400</td>\n",
       "      <td>0.771400</td>\n",
       "      <td>00:01</td>\n",
       "    </tr>\n",
       "    <tr>\n",
       "      <td>17</td>\n",
       "      <td>0.045135</td>\n",
       "      <td>0.045704</td>\n",
       "      <td>0.774300</td>\n",
       "      <td>00:01</td>\n",
       "    </tr>\n",
       "    <tr>\n",
       "      <td>18</td>\n",
       "      <td>0.045416</td>\n",
       "      <td>0.045701</td>\n",
       "      <td>0.774800</td>\n",
       "      <td>00:01</td>\n",
       "    </tr>\n",
       "    <tr>\n",
       "      <td>19</td>\n",
       "      <td>0.044621</td>\n",
       "      <td>0.044728</td>\n",
       "      <td>0.779400</td>\n",
       "      <td>00:01</td>\n",
       "    </tr>\n",
       "    <tr>\n",
       "      <td>20</td>\n",
       "      <td>0.044123</td>\n",
       "      <td>0.046000</td>\n",
       "      <td>0.771500</td>\n",
       "      <td>00:01</td>\n",
       "    </tr>\n",
       "    <tr>\n",
       "      <td>21</td>\n",
       "      <td>0.043651</td>\n",
       "      <td>0.044719</td>\n",
       "      <td>0.779300</td>\n",
       "      <td>00:01</td>\n",
       "    </tr>\n",
       "    <tr>\n",
       "      <td>22</td>\n",
       "      <td>0.043664</td>\n",
       "      <td>0.044882</td>\n",
       "      <td>0.779300</td>\n",
       "      <td>00:01</td>\n",
       "    </tr>\n",
       "    <tr>\n",
       "      <td>23</td>\n",
       "      <td>0.043758</td>\n",
       "      <td>0.044517</td>\n",
       "      <td>0.780100</td>\n",
       "      <td>00:01</td>\n",
       "    </tr>\n",
       "    <tr>\n",
       "      <td>24</td>\n",
       "      <td>0.043433</td>\n",
       "      <td>0.043849</td>\n",
       "      <td>0.783000</td>\n",
       "      <td>00:01</td>\n",
       "    </tr>\n",
       "    <tr>\n",
       "      <td>25</td>\n",
       "      <td>0.042618</td>\n",
       "      <td>0.044049</td>\n",
       "      <td>0.781500</td>\n",
       "      <td>00:01</td>\n",
       "    </tr>\n",
       "    <tr>\n",
       "      <td>26</td>\n",
       "      <td>0.042386</td>\n",
       "      <td>0.044167</td>\n",
       "      <td>0.781400</td>\n",
       "      <td>00:01</td>\n",
       "    </tr>\n",
       "    <tr>\n",
       "      <td>27</td>\n",
       "      <td>0.042749</td>\n",
       "      <td>0.043708</td>\n",
       "      <td>0.783100</td>\n",
       "      <td>00:01</td>\n",
       "    </tr>\n",
       "    <tr>\n",
       "      <td>28</td>\n",
       "      <td>0.042605</td>\n",
       "      <td>0.043370</td>\n",
       "      <td>0.784500</td>\n",
       "      <td>00:01</td>\n",
       "    </tr>\n",
       "    <tr>\n",
       "      <td>29</td>\n",
       "      <td>0.042198</td>\n",
       "      <td>0.043286</td>\n",
       "      <td>0.785100</td>\n",
       "      <td>00:01</td>\n",
       "    </tr>\n",
       "    <tr>\n",
       "      <td>30</td>\n",
       "      <td>0.041696</td>\n",
       "      <td>0.043172</td>\n",
       "      <td>0.785100</td>\n",
       "      <td>00:01</td>\n",
       "    </tr>\n",
       "    <tr>\n",
       "      <td>31</td>\n",
       "      <td>0.041466</td>\n",
       "      <td>0.043803</td>\n",
       "      <td>0.782600</td>\n",
       "      <td>00:01</td>\n",
       "    </tr>\n",
       "    <tr>\n",
       "      <td>32</td>\n",
       "      <td>0.041943</td>\n",
       "      <td>0.043290</td>\n",
       "      <td>0.784800</td>\n",
       "      <td>00:01</td>\n",
       "    </tr>\n",
       "    <tr>\n",
       "      <td>33</td>\n",
       "      <td>0.042160</td>\n",
       "      <td>0.043070</td>\n",
       "      <td>0.785800</td>\n",
       "      <td>00:01</td>\n",
       "    </tr>\n",
       "    <tr>\n",
       "      <td>34</td>\n",
       "      <td>0.041599</td>\n",
       "      <td>0.043050</td>\n",
       "      <td>0.786200</td>\n",
       "      <td>00:01</td>\n",
       "    </tr>\n",
       "    <tr>\n",
       "      <td>35</td>\n",
       "      <td>0.041479</td>\n",
       "      <td>0.043335</td>\n",
       "      <td>0.784600</td>\n",
       "      <td>00:01</td>\n",
       "    </tr>\n",
       "    <tr>\n",
       "      <td>36</td>\n",
       "      <td>0.041010</td>\n",
       "      <td>0.042957</td>\n",
       "      <td>0.786300</td>\n",
       "      <td>00:01</td>\n",
       "    </tr>\n",
       "    <tr>\n",
       "      <td>37</td>\n",
       "      <td>0.041258</td>\n",
       "      <td>0.042949</td>\n",
       "      <td>0.786500</td>\n",
       "      <td>00:01</td>\n",
       "    </tr>\n",
       "    <tr>\n",
       "      <td>38</td>\n",
       "      <td>0.040771</td>\n",
       "      <td>0.042964</td>\n",
       "      <td>0.785900</td>\n",
       "      <td>00:01</td>\n",
       "    </tr>\n",
       "    <tr>\n",
       "      <td>39</td>\n",
       "      <td>0.040536</td>\n",
       "      <td>0.042699</td>\n",
       "      <td>0.788200</td>\n",
       "      <td>00:01</td>\n",
       "    </tr>\n",
       "    <tr>\n",
       "      <td>40</td>\n",
       "      <td>0.041207</td>\n",
       "      <td>0.042724</td>\n",
       "      <td>0.787500</td>\n",
       "      <td>00:01</td>\n",
       "    </tr>\n",
       "    <tr>\n",
       "      <td>41</td>\n",
       "      <td>0.041120</td>\n",
       "      <td>0.043066</td>\n",
       "      <td>0.785700</td>\n",
       "      <td>00:01</td>\n",
       "    </tr>\n",
       "    <tr>\n",
       "      <td>42</td>\n",
       "      <td>0.039766</td>\n",
       "      <td>0.042748</td>\n",
       "      <td>0.787300</td>\n",
       "      <td>00:01</td>\n",
       "    </tr>\n",
       "    <tr>\n",
       "      <td>43</td>\n",
       "      <td>0.041151</td>\n",
       "      <td>0.042675</td>\n",
       "      <td>0.788100</td>\n",
       "      <td>00:01</td>\n",
       "    </tr>\n",
       "    <tr>\n",
       "      <td>44</td>\n",
       "      <td>0.040867</td>\n",
       "      <td>0.042461</td>\n",
       "      <td>0.788700</td>\n",
       "      <td>00:01</td>\n",
       "    </tr>\n",
       "    <tr>\n",
       "      <td>45</td>\n",
       "      <td>0.041092</td>\n",
       "      <td>0.042474</td>\n",
       "      <td>0.788200</td>\n",
       "      <td>00:01</td>\n",
       "    </tr>\n",
       "    <tr>\n",
       "      <td>46</td>\n",
       "      <td>0.040596</td>\n",
       "      <td>0.042572</td>\n",
       "      <td>0.788300</td>\n",
       "      <td>00:01</td>\n",
       "    </tr>\n",
       "    <tr>\n",
       "      <td>47</td>\n",
       "      <td>0.040737</td>\n",
       "      <td>0.042508</td>\n",
       "      <td>0.788000</td>\n",
       "      <td>00:01</td>\n",
       "    </tr>\n",
       "    <tr>\n",
       "      <td>48</td>\n",
       "      <td>0.040217</td>\n",
       "      <td>0.042361</td>\n",
       "      <td>0.788700</td>\n",
       "      <td>00:01</td>\n",
       "    </tr>\n",
       "    <tr>\n",
       "      <td>49</td>\n",
       "      <td>0.040154</td>\n",
       "      <td>0.042374</td>\n",
       "      <td>0.788800</td>\n",
       "      <td>00:01</td>\n",
       "    </tr>\n",
       "    <tr>\n",
       "      <td>50</td>\n",
       "      <td>0.040315</td>\n",
       "      <td>0.042536</td>\n",
       "      <td>0.787600</td>\n",
       "      <td>00:01</td>\n",
       "    </tr>\n",
       "    <tr>\n",
       "      <td>51</td>\n",
       "      <td>0.040342</td>\n",
       "      <td>0.042225</td>\n",
       "      <td>0.790200</td>\n",
       "      <td>00:01</td>\n",
       "    </tr>\n",
       "    <tr>\n",
       "      <td>52</td>\n",
       "      <td>0.040136</td>\n",
       "      <td>0.042039</td>\n",
       "      <td>0.790600</td>\n",
       "      <td>00:01</td>\n",
       "    </tr>\n",
       "    <tr>\n",
       "      <td>53</td>\n",
       "      <td>0.040639</td>\n",
       "      <td>0.042443</td>\n",
       "      <td>0.788000</td>\n",
       "      <td>00:01</td>\n",
       "    </tr>\n",
       "    <tr>\n",
       "      <td>54</td>\n",
       "      <td>0.040220</td>\n",
       "      <td>0.042140</td>\n",
       "      <td>0.789900</td>\n",
       "      <td>00:01</td>\n",
       "    </tr>\n",
       "    <tr>\n",
       "      <td>55</td>\n",
       "      <td>0.039657</td>\n",
       "      <td>0.042078</td>\n",
       "      <td>0.790800</td>\n",
       "      <td>00:01</td>\n",
       "    </tr>\n",
       "    <tr>\n",
       "      <td>56</td>\n",
       "      <td>0.039913</td>\n",
       "      <td>0.042039</td>\n",
       "      <td>0.791100</td>\n",
       "      <td>00:01</td>\n",
       "    </tr>\n",
       "    <tr>\n",
       "      <td>57</td>\n",
       "      <td>0.039409</td>\n",
       "      <td>0.042053</td>\n",
       "      <td>0.791500</td>\n",
       "      <td>00:01</td>\n",
       "    </tr>\n",
       "    <tr>\n",
       "      <td>58</td>\n",
       "      <td>0.039866</td>\n",
       "      <td>0.042094</td>\n",
       "      <td>0.790300</td>\n",
       "      <td>00:01</td>\n",
       "    </tr>\n",
       "    <tr>\n",
       "      <td>59</td>\n",
       "      <td>0.040220</td>\n",
       "      <td>0.042121</td>\n",
       "      <td>0.790100</td>\n",
       "      <td>00:01</td>\n",
       "    </tr>\n",
       "    <tr>\n",
       "      <td>60</td>\n",
       "      <td>0.039813</td>\n",
       "      <td>0.042084</td>\n",
       "      <td>0.790600</td>\n",
       "      <td>00:01</td>\n",
       "    </tr>\n",
       "    <tr>\n",
       "      <td>61</td>\n",
       "      <td>0.040379</td>\n",
       "      <td>0.042059</td>\n",
       "      <td>0.790500</td>\n",
       "      <td>00:01</td>\n",
       "    </tr>\n",
       "    <tr>\n",
       "      <td>62</td>\n",
       "      <td>0.039853</td>\n",
       "      <td>0.041948</td>\n",
       "      <td>0.791100</td>\n",
       "      <td>00:01</td>\n",
       "    </tr>\n",
       "    <tr>\n",
       "      <td>63</td>\n",
       "      <td>0.040096</td>\n",
       "      <td>0.042096</td>\n",
       "      <td>0.790200</td>\n",
       "      <td>00:01</td>\n",
       "    </tr>\n",
       "    <tr>\n",
       "      <td>64</td>\n",
       "      <td>0.039001</td>\n",
       "      <td>0.042208</td>\n",
       "      <td>0.789600</td>\n",
       "      <td>00:01</td>\n",
       "    </tr>\n",
       "    <tr>\n",
       "      <td>65</td>\n",
       "      <td>0.039782</td>\n",
       "      <td>0.042922</td>\n",
       "      <td>0.786500</td>\n",
       "      <td>00:01</td>\n",
       "    </tr>\n",
       "    <tr>\n",
       "      <td>66</td>\n",
       "      <td>0.039303</td>\n",
       "      <td>0.042132</td>\n",
       "      <td>0.790300</td>\n",
       "      <td>00:01</td>\n",
       "    </tr>\n",
       "    <tr>\n",
       "      <td>67</td>\n",
       "      <td>0.039831</td>\n",
       "      <td>0.041977</td>\n",
       "      <td>0.791000</td>\n",
       "      <td>00:01</td>\n",
       "    </tr>\n",
       "    <tr>\n",
       "      <td>68</td>\n",
       "      <td>0.039359</td>\n",
       "      <td>0.042038</td>\n",
       "      <td>0.790200</td>\n",
       "      <td>00:01</td>\n",
       "    </tr>\n",
       "    <tr>\n",
       "      <td>69</td>\n",
       "      <td>0.039742</td>\n",
       "      <td>0.041935</td>\n",
       "      <td>0.790700</td>\n",
       "      <td>00:01</td>\n",
       "    </tr>\n",
       "    <tr>\n",
       "      <td>70</td>\n",
       "      <td>0.039257</td>\n",
       "      <td>0.041933</td>\n",
       "      <td>0.791100</td>\n",
       "      <td>00:01</td>\n",
       "    </tr>\n",
       "    <tr>\n",
       "      <td>71</td>\n",
       "      <td>0.039438</td>\n",
       "      <td>0.042008</td>\n",
       "      <td>0.790600</td>\n",
       "      <td>00:01</td>\n",
       "    </tr>\n",
       "    <tr>\n",
       "      <td>72</td>\n",
       "      <td>0.040544</td>\n",
       "      <td>0.042001</td>\n",
       "      <td>0.790900</td>\n",
       "      <td>00:01</td>\n",
       "    </tr>\n",
       "    <tr>\n",
       "      <td>73</td>\n",
       "      <td>0.039581</td>\n",
       "      <td>0.041864</td>\n",
       "      <td>0.791500</td>\n",
       "      <td>00:01</td>\n",
       "    </tr>\n",
       "    <tr>\n",
       "      <td>74</td>\n",
       "      <td>0.038664</td>\n",
       "      <td>0.041907</td>\n",
       "      <td>0.791500</td>\n",
       "      <td>00:01</td>\n",
       "    </tr>\n",
       "    <tr>\n",
       "      <td>75</td>\n",
       "      <td>0.039224</td>\n",
       "      <td>0.041870</td>\n",
       "      <td>0.791600</td>\n",
       "      <td>00:01</td>\n",
       "    </tr>\n",
       "    <tr>\n",
       "      <td>76</td>\n",
       "      <td>0.038757</td>\n",
       "      <td>0.041842</td>\n",
       "      <td>0.791500</td>\n",
       "      <td>00:01</td>\n",
       "    </tr>\n",
       "    <tr>\n",
       "      <td>77</td>\n",
       "      <td>0.039822</td>\n",
       "      <td>0.041794</td>\n",
       "      <td>0.791900</td>\n",
       "      <td>00:01</td>\n",
       "    </tr>\n",
       "    <tr>\n",
       "      <td>78</td>\n",
       "      <td>0.039865</td>\n",
       "      <td>0.041790</td>\n",
       "      <td>0.791500</td>\n",
       "      <td>00:01</td>\n",
       "    </tr>\n",
       "    <tr>\n",
       "      <td>79</td>\n",
       "      <td>0.039222</td>\n",
       "      <td>0.041764</td>\n",
       "      <td>0.792200</td>\n",
       "      <td>00:01</td>\n",
       "    </tr>\n",
       "    <tr>\n",
       "      <td>80</td>\n",
       "      <td>0.039563</td>\n",
       "      <td>0.041833</td>\n",
       "      <td>0.791300</td>\n",
       "      <td>00:01</td>\n",
       "    </tr>\n",
       "    <tr>\n",
       "      <td>81</td>\n",
       "      <td>0.039607</td>\n",
       "      <td>0.041792</td>\n",
       "      <td>0.791900</td>\n",
       "      <td>00:01</td>\n",
       "    </tr>\n",
       "    <tr>\n",
       "      <td>82</td>\n",
       "      <td>0.039704</td>\n",
       "      <td>0.041786</td>\n",
       "      <td>0.791900</td>\n",
       "      <td>00:01</td>\n",
       "    </tr>\n",
       "    <tr>\n",
       "      <td>83</td>\n",
       "      <td>0.039386</td>\n",
       "      <td>0.041760</td>\n",
       "      <td>0.791900</td>\n",
       "      <td>00:01</td>\n",
       "    </tr>\n",
       "    <tr>\n",
       "      <td>84</td>\n",
       "      <td>0.039328</td>\n",
       "      <td>0.041734</td>\n",
       "      <td>0.792300</td>\n",
       "      <td>00:01</td>\n",
       "    </tr>\n",
       "    <tr>\n",
       "      <td>85</td>\n",
       "      <td>0.039438</td>\n",
       "      <td>0.041780</td>\n",
       "      <td>0.791900</td>\n",
       "      <td>00:01</td>\n",
       "    </tr>\n",
       "    <tr>\n",
       "      <td>86</td>\n",
       "      <td>0.039016</td>\n",
       "      <td>0.041754</td>\n",
       "      <td>0.791900</td>\n",
       "      <td>00:01</td>\n",
       "    </tr>\n",
       "    <tr>\n",
       "      <td>87</td>\n",
       "      <td>0.039402</td>\n",
       "      <td>0.041761</td>\n",
       "      <td>0.791600</td>\n",
       "      <td>00:01</td>\n",
       "    </tr>\n",
       "    <tr>\n",
       "      <td>88</td>\n",
       "      <td>0.039475</td>\n",
       "      <td>0.041853</td>\n",
       "      <td>0.791300</td>\n",
       "      <td>00:01</td>\n",
       "    </tr>\n",
       "    <tr>\n",
       "      <td>89</td>\n",
       "      <td>0.039119</td>\n",
       "      <td>0.041676</td>\n",
       "      <td>0.792800</td>\n",
       "      <td>00:01</td>\n",
       "    </tr>\n",
       "    <tr>\n",
       "      <td>90</td>\n",
       "      <td>0.038845</td>\n",
       "      <td>0.041657</td>\n",
       "      <td>0.792700</td>\n",
       "      <td>00:01</td>\n",
       "    </tr>\n",
       "    <tr>\n",
       "      <td>91</td>\n",
       "      <td>0.038216</td>\n",
       "      <td>0.041678</td>\n",
       "      <td>0.792400</td>\n",
       "      <td>00:01</td>\n",
       "    </tr>\n",
       "    <tr>\n",
       "      <td>92</td>\n",
       "      <td>0.039635</td>\n",
       "      <td>0.041670</td>\n",
       "      <td>0.792100</td>\n",
       "      <td>00:01</td>\n",
       "    </tr>\n",
       "    <tr>\n",
       "      <td>93</td>\n",
       "      <td>0.038781</td>\n",
       "      <td>0.041663</td>\n",
       "      <td>0.792200</td>\n",
       "      <td>00:01</td>\n",
       "    </tr>\n",
       "    <tr>\n",
       "      <td>94</td>\n",
       "      <td>0.039312</td>\n",
       "      <td>0.041800</td>\n",
       "      <td>0.791300</td>\n",
       "      <td>00:01</td>\n",
       "    </tr>\n",
       "    <tr>\n",
       "      <td>95</td>\n",
       "      <td>0.038689</td>\n",
       "      <td>0.041663</td>\n",
       "      <td>0.792500</td>\n",
       "      <td>00:01</td>\n",
       "    </tr>\n",
       "    <tr>\n",
       "      <td>96</td>\n",
       "      <td>0.038997</td>\n",
       "      <td>0.041741</td>\n",
       "      <td>0.791700</td>\n",
       "      <td>00:01</td>\n",
       "    </tr>\n",
       "    <tr>\n",
       "      <td>97</td>\n",
       "      <td>0.039368</td>\n",
       "      <td>0.041665</td>\n",
       "      <td>0.792200</td>\n",
       "      <td>00:01</td>\n",
       "    </tr>\n",
       "    <tr>\n",
       "      <td>98</td>\n",
       "      <td>0.038960</td>\n",
       "      <td>0.041681</td>\n",
       "      <td>0.792300</td>\n",
       "      <td>00:01</td>\n",
       "    </tr>\n",
       "    <tr>\n",
       "      <td>99</td>\n",
       "      <td>0.039371</td>\n",
       "      <td>0.041679</td>\n",
       "      <td>0.792300</td>\n",
       "      <td>00:01</td>\n",
       "    </tr>\n",
       "  </tbody>\n",
       "</table>"
      ],
      "text/plain": [
       "<IPython.core.display.HTML object>"
      ]
     },
     "metadata": {},
     "output_type": "display_data"
    }
   ],
   "source": [
    "learn2 = Learner(dls, net2, opt_func=SGD,\n",
    "                 loss_func=mnist_loss, metrics=batch_accuracy)\n",
    "\n",
    "learn2.fit(100, 1.)"
   ]
  }
 ],
 "metadata": {
  "kaggle": {
   "accelerator": "none",
   "dataSources": [],
   "dockerImageVersionId": 30673,
   "isGpuEnabled": false,
   "isInternetEnabled": true,
   "language": "python",
   "sourceType": "notebook"
  },
  "kernelspec": {
   "display_name": "Python 3",
   "language": "python",
   "name": "python3"
  },
  "language_info": {
   "codemirror_mode": {
    "name": "ipython",
    "version": 3
   },
   "file_extension": ".py",
   "mimetype": "text/x-python",
   "name": "python",
   "nbconvert_exporter": "python",
   "pygments_lexer": "ipython3",
   "version": "3.10.13"
  },
  "papermill": {
   "default_parameters": {},
   "duration": 293.966022,
   "end_time": "2024-04-09T07:46:01.290800",
   "environment_variables": {},
   "exception": null,
   "input_path": "__notebook__.ipynb",
   "output_path": "__notebook__.ipynb",
   "parameters": {},
   "start_time": "2024-04-09T07:41:07.324778",
   "version": "2.5.0"
  }
 },
 "nbformat": 4,
 "nbformat_minor": 5
}
